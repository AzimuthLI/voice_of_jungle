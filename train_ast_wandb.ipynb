{
 "cells": [
  {
   "cell_type": "code",
   "execution_count": 1,
   "metadata": {},
   "outputs": [
    {
     "name": "stdout",
     "output_type": "stream",
     "text": [
      "\u001b[34m\u001b[1mwandb\u001b[0m: Currently logged in as: \u001b[33ms-li2022\u001b[0m (\u001b[33msli2024\u001b[0m). Use \u001b[1m`wandb login --relogin`\u001b[0m to force relogin\n"
     ]
    }
   ],
   "source": [
    "!wandb login"
   ]
  },
  {
   "cell_type": "code",
   "execution_count": 3,
   "metadata": {},
   "outputs": [],
   "source": [
    "import os, gc, random\n",
    "import pandas as pd\n",
    "import numpy as np\n",
    "import matplotlib.pyplot as plt\n",
    "import seaborn as sns\n",
    "\n",
    "import librosa\n",
    "\n",
    "from tqdm.notebook import tqdm\n",
    "from glob import glob\n",
    "\n",
    "import torch\n",
    "from torch.utils.data import Dataset, DataLoader\n",
    "from torch import nn\n",
    "\n",
    "from torch.optim import AdamW\n",
    "from torch.optim.lr_scheduler import OneCycleLR\n",
    "from torch.cuda.amp import GradScaler, autocast\n",
    "from torch.utils.data import DataLoader\n",
    "import torch.nn.functional as F\n",
    "\n",
    "import transformers\n",
    "from transformers import ASTConfig, ASTFeatureExtractor, ASTModel\n",
    "\n",
    "from sklearn.model_selection import StratifiedKFold, KFold\n",
    "from sklearn.metrics import roc_auc_score\n",
    "\n",
    "from time import time\n",
    "\n",
    "import wandb"
   ]
  },
  {
   "cell_type": "code",
   "execution_count": 4,
   "metadata": {},
   "outputs": [
    {
     "name": "stdout",
     "output_type": "stream",
     "text": [
      "Fri May 31 20:42:01 2024       \n",
      "+---------------------------------------------------------------------------------------+\n",
      "| NVIDIA-SMI 535.161.08             Driver Version: 535.161.08   CUDA Version: 12.2     |\n",
      "|-----------------------------------------+----------------------+----------------------+\n",
      "| GPU  Name                 Persistence-M | Bus-Id        Disp.A | Volatile Uncorr. ECC |\n",
      "| Fan  Temp   Perf          Pwr:Usage/Cap |         Memory-Usage | GPU-Util  Compute M. |\n",
      "|                                         |                      |               MIG M. |\n",
      "|=========================================+======================+======================|\n",
      "|   0  NVIDIA GeForce RTX 4090        On  | 00000000:02:00.0 Off |                  Off |\n",
      "|  0%   28C    P8              22W / 450W |      1MiB / 24564MiB |      0%      Default |\n",
      "|                                         |                      |                  N/A |\n",
      "+-----------------------------------------+----------------------+----------------------+\n",
      "                                                                                         \n",
      "+---------------------------------------------------------------------------------------+\n",
      "| Processes:                                                                            |\n",
      "|  GPU   GI   CI        PID   Type   Process name                            GPU Memory |\n",
      "|        ID   ID                                                             Usage      |\n",
      "|=======================================================================================|\n",
      "|  No running processes found                                                           |\n",
      "+---------------------------------------------------------------------------------------+\n",
      "Python 3.10.12\n",
      "Pytorch Version: 2.3.0+cu121\n",
      "Transformers Version: 4.41.2\n",
      "CUDA Available: True\n",
      "CUDA Version: 12.1\n"
     ]
    }
   ],
   "source": [
    "# print system info \n",
    "!nvidia-smi\n",
    "!python --version\n",
    "\n",
    "# print pytorch lightning version\n",
    "print(f\"Pytorch Version: {torch.__version__}\")\n",
    "print(f\"Transformers Version: {transformers.__version__}\")\n",
    "print(\"CUDA Available:\", torch.cuda.is_available())\n",
    "if torch.cuda.is_available():\n",
    "    print(\"CUDA Version:\", torch.version.cuda)"
   ]
  },
  {
   "cell_type": "code",
   "execution_count": 5,
   "metadata": {},
   "outputs": [],
   "source": [
    "def get_logger(log_file='log.txt'):\n",
    "    import logging\n",
    "    import sys\n",
    "    \n",
    "    logger = logging.getLogger()\n",
    "    logger.setLevel(logging.INFO)\n",
    "    formatter = logging.Formatter('%(message)s')\n",
    "    # Logging to file\n",
    "    file_handler = logging.FileHandler(log_file)\n",
    "    file_handler.setFormatter(formatter)\n",
    "    logger.addHandler(file_handler)\n",
    "    # Logging to console\n",
    "    ch = logging.StreamHandler(sys.stdout)\n",
    "    ch.setFormatter(formatter)\n",
    "    logger.addHandler(ch)\n",
    "    \n",
    "    return logger\n",
    "\n",
    "def seed_everything(seed):\n",
    "    random.seed(seed)\n",
    "    os.environ['PYTHONHASHSEED'] = str(seed)\n",
    "    np.random.seed(seed)\n",
    "    torch.manual_seed(seed)\n",
    "    torch.cuda.manual_seed(seed)\n",
    "    torch.backends.cudnn.deterministic = True\n",
    "    torch.backends.cudnn.benchmark = True\n",
    "    \n",
    "def wandb_init(project_name, run_name, config):\n",
    "    config_dict = {\n",
    "        k: v for k, v in config.__dict__.items() if not k.startswith('_') and not callable(v) and k != 'copy'\n",
    "    }\n",
    "    run = wandb.init(project=project_name, name=run_name, config=config_dict)\n",
    "    return run"
   ]
  },
  {
   "cell_type": "code",
   "execution_count": 6,
   "metadata": {},
   "outputs": [],
   "source": [
    "DRIVE_FOLDER = \".\" #\"/content/drive/MyDrive/Colab Notebooks\"\n",
    "KEEP_COLS = ['category_number', 'common_name', 'audio_length', 'type', 'remarks', 'quality', 'scientific_name', 'mp3_link', 'region']\n",
    "\n",
    "class Config:\n",
    "    dataset_dir = f\"{DRIVE_FOLDER}/Audio_XenoCanto\"\n",
    "    labels_list = f\"{DRIVE_FOLDER}/xeno_labels.csv\"\n",
    "    model_name = \"BirdAST_Baseline_5folds\"\n",
    "    backbone_name = \"MIT/ast-finetuned-audioset-10-10-0.4593\"\n",
    "    n_classes = 728 # number of classes in the dataset\n",
    "    audio_sr = 16000 #Hz\n",
    "    segment_length = 10  #s\n",
    "    fft_window = 0.025 #s\n",
    "    hop_window_length = 0.01 #s\n",
    "    n_mels = 128\n",
    "    low_cut = 1000 #Hz\n",
    "    high_cut = 8000 #Hz\n",
    "    top_db = 100\n",
    "    batch_size = 16 #4 \n",
    "    num_workers = 0\n",
    "    n_splits = 5\n",
    "    log_dir = f\"{DRIVE_FOLDER}/training_logs\"\n",
    "    max_lr = 1e-5\n",
    "    epochs = 15\n",
    "    weight_decay = 0.01\n",
    "    lr_final_div = 1000\n",
    "    amp = True\n",
    "    grad_accum_steps = 1\n",
    "    max_grad_norm = 1e7\n",
    "    print_epoch_freq = 1\n",
    "    print_freq = 500\n",
    "    random_seed = 2046\n",
    "    \n",
    "    @classmethod\n",
    "    def copy(cls):\n",
    "        new_class = type('CustomConfig', (cls,), {k: v for k, v in cls.__dict__.items() if not k.startswith('__') and not callable(v)})\n",
    "        return new_class\n",
    "    \n",
    "config = Config.copy()\n",
    "\n",
    "if not os.path.exists(config.log_dir):\n",
    "    os.makedirs(config.log_dir)\n",
    "\n",
    "DEVICE = torch.device(\"cuda\" if torch.cuda.is_available() else \"cpu\")\n",
    "\n",
    "seed_everything(config.random_seed)"
   ]
  },
  {
   "cell_type": "code",
   "execution_count": 6,
   "metadata": {},
   "outputs": [
    {
     "name": "stdout",
     "output_type": "stream",
     "text": [
      "Number of classes with less than 2 samples: 72\n",
      "Number of classes in dataset: 728\n",
      "Number of samples: 11171\n"
     ]
    },
    {
     "data": {
      "text/html": [
       "<div>\n",
       "<style scoped>\n",
       "    .dataframe tbody tr th:only-of-type {\n",
       "        vertical-align: middle;\n",
       "    }\n",
       "\n",
       "    .dataframe tbody tr th {\n",
       "        vertical-align: top;\n",
       "    }\n",
       "\n",
       "    .dataframe thead th {\n",
       "        text-align: right;\n",
       "    }\n",
       "</style>\n",
       "<table border=\"1\" class=\"dataframe\">\n",
       "  <thead>\n",
       "    <tr style=\"text-align: right;\">\n",
       "      <th></th>\n",
       "      <th>file_name</th>\n",
       "      <th>category_number</th>\n",
       "      <th>common_name</th>\n",
       "      <th>audio_length</th>\n",
       "      <th>type</th>\n",
       "      <th>remarks</th>\n",
       "      <th>quality</th>\n",
       "      <th>mp3_link</th>\n",
       "      <th>scientific_name</th>\n",
       "      <th>region</th>\n",
       "      <th>file_exists</th>\n",
       "      <th>species_id</th>\n",
       "    </tr>\n",
       "  </thead>\n",
       "  <tbody>\n",
       "    <tr>\n",
       "      <th>0</th>\n",
       "      <td>data/XC228210-Blue-crowned_Manakin_B_9369_0.wav</td>\n",
       "      <td>XC228210</td>\n",
       "      <td>Blue-crowned Manakin</td>\n",
       "      <td>0:20</td>\n",
       "      <td>call</td>\n",
       "      <td>ID certainty 80%. (Archiv. tape 393 side A tra...</td>\n",
       "      <td>B</td>\n",
       "      <td>//xeno-canto.org/sounds/uploaded/OOECIWCSWV/XC...</td>\n",
       "      <td>Lepidothrix_coronata</td>\n",
       "      <td>amazonas</td>\n",
       "      <td>True</td>\n",
       "      <td>329</td>\n",
       "    </tr>\n",
       "    <tr>\n",
       "      <th>1</th>\n",
       "      <td>data/XC228210-Blue-crowned_Manakin_B_9369_1.wav</td>\n",
       "      <td>XC228210</td>\n",
       "      <td>Blue-crowned Manakin</td>\n",
       "      <td>0:20</td>\n",
       "      <td>call</td>\n",
       "      <td>ID certainty 80%. (Archiv. tape 393 side A tra...</td>\n",
       "      <td>B</td>\n",
       "      <td>//xeno-canto.org/sounds/uploaded/OOECIWCSWV/XC...</td>\n",
       "      <td>Lepidothrix_coronata</td>\n",
       "      <td>amazonas</td>\n",
       "      <td>True</td>\n",
       "      <td>329</td>\n",
       "    </tr>\n",
       "    <tr>\n",
       "      <th>2</th>\n",
       "      <td>data/XC200163-PIPCOR03_0.wav</td>\n",
       "      <td>XC200163</td>\n",
       "      <td>Blue-crowned Manakin</td>\n",
       "      <td>0:42</td>\n",
       "      <td>call, song</td>\n",
       "      <td>left bank of rio Negro - terra firme forest, w...</td>\n",
       "      <td>C</td>\n",
       "      <td>//xeno-canto.org/sounds/uploaded/DGVLLRYDXS/XC...</td>\n",
       "      <td>Lepidothrix_coronata</td>\n",
       "      <td>amazonas</td>\n",
       "      <td>True</td>\n",
       "      <td>329</td>\n",
       "    </tr>\n",
       "    <tr>\n",
       "      <th>3</th>\n",
       "      <td>data/XC200163-PIPCOR03_1.wav</td>\n",
       "      <td>XC200163</td>\n",
       "      <td>Blue-crowned Manakin</td>\n",
       "      <td>0:42</td>\n",
       "      <td>call, song</td>\n",
       "      <td>left bank of rio Negro - terra firme forest, w...</td>\n",
       "      <td>C</td>\n",
       "      <td>//xeno-canto.org/sounds/uploaded/DGVLLRYDXS/XC...</td>\n",
       "      <td>Lepidothrix_coronata</td>\n",
       "      <td>amazonas</td>\n",
       "      <td>True</td>\n",
       "      <td>329</td>\n",
       "    </tr>\n",
       "    <tr>\n",
       "      <th>4</th>\n",
       "      <td>data/XC200163-PIPCOR03_2.wav</td>\n",
       "      <td>XC200163</td>\n",
       "      <td>Blue-crowned Manakin</td>\n",
       "      <td>0:42</td>\n",
       "      <td>call, song</td>\n",
       "      <td>left bank of rio Negro - terra firme forest, w...</td>\n",
       "      <td>C</td>\n",
       "      <td>//xeno-canto.org/sounds/uploaded/DGVLLRYDXS/XC...</td>\n",
       "      <td>Lepidothrix_coronata</td>\n",
       "      <td>amazonas</td>\n",
       "      <td>True</td>\n",
       "      <td>329</td>\n",
       "    </tr>\n",
       "  </tbody>\n",
       "</table>\n",
       "</div>"
      ],
      "text/plain": [
       "                                         file_name category_number  \\\n",
       "0  data/XC228210-Blue-crowned_Manakin_B_9369_0.wav        XC228210   \n",
       "1  data/XC228210-Blue-crowned_Manakin_B_9369_1.wav        XC228210   \n",
       "2                     data/XC200163-PIPCOR03_0.wav        XC200163   \n",
       "3                     data/XC200163-PIPCOR03_1.wav        XC200163   \n",
       "4                     data/XC200163-PIPCOR03_2.wav        XC200163   \n",
       "\n",
       "            common_name audio_length        type  \\\n",
       "0  Blue-crowned Manakin         0:20        call   \n",
       "1  Blue-crowned Manakin         0:20        call   \n",
       "2  Blue-crowned Manakin         0:42  call, song   \n",
       "3  Blue-crowned Manakin         0:42  call, song   \n",
       "4  Blue-crowned Manakin         0:42  call, song   \n",
       "\n",
       "                                             remarks quality  \\\n",
       "0  ID certainty 80%. (Archiv. tape 393 side A tra...       B   \n",
       "1  ID certainty 80%. (Archiv. tape 393 side A tra...       B   \n",
       "2  left bank of rio Negro - terra firme forest, w...       C   \n",
       "3  left bank of rio Negro - terra firme forest, w...       C   \n",
       "4  left bank of rio Negro - terra firme forest, w...       C   \n",
       "\n",
       "                                            mp3_link       scientific_name  \\\n",
       "0  //xeno-canto.org/sounds/uploaded/OOECIWCSWV/XC...  Lepidothrix_coronata   \n",
       "1  //xeno-canto.org/sounds/uploaded/OOECIWCSWV/XC...  Lepidothrix_coronata   \n",
       "2  //xeno-canto.org/sounds/uploaded/DGVLLRYDXS/XC...  Lepidothrix_coronata   \n",
       "3  //xeno-canto.org/sounds/uploaded/DGVLLRYDXS/XC...  Lepidothrix_coronata   \n",
       "4  //xeno-canto.org/sounds/uploaded/DGVLLRYDXS/XC...  Lepidothrix_coronata   \n",
       "\n",
       "     region  file_exists  species_id  \n",
       "0  amazonas         True         329  \n",
       "1  amazonas         True         329  \n",
       "2  amazonas         True         329  \n",
       "3  amazonas         True         329  \n",
       "4  amazonas         True         329  "
      ]
     },
     "execution_count": 6,
     "metadata": {},
     "output_type": "execute_result"
    }
   ],
   "source": [
    "df_audio_meta = pd.read_csv(f\"{config.dataset_dir}/metadata.csv\", nrows=None)\n",
    "df_audio_meta = df_audio_meta.dropna().reset_index(drop=True)\n",
    "\n",
    "# Filter out files that do not exist\n",
    "df_audio_meta['file_exists'] = df_audio_meta['file_name'].apply(lambda x: os.path.exists(f\"{config.dataset_dir}/{x}\"))\n",
    "df_audio_meta = df_audio_meta[df_audio_meta['file_exists']].reset_index(drop=True)\n",
    "\n",
    "# parse scientific names\n",
    "df_audio_meta['scientific_name'] = df_audio_meta['scientific_name'].apply(lambda x: \"_\".join(x.split(\" \")))\n",
    "\n",
    "# drop species with less than 2 samples\n",
    "class_counts = df_audio_meta['scientific_name'].value_counts()\n",
    "print(f\"Number of classes with less than 2 samples: {len(class_counts[class_counts < 2])}\")\n",
    "\n",
    "df_audio_meta = df_audio_meta[df_audio_meta['scientific_name'].isin(class_counts[class_counts > 1].index)].copy().reset_index(drop=True)\n",
    "\n",
    "# encode scientific names to label ids\n",
    "label_ids_list = df_audio_meta['scientific_name'].unique().tolist()\n",
    "label_ids_list.sort()\n",
    "label_to_id = {label: i for i, label in enumerate(label_ids_list)}\n",
    "df_audio_meta['species_id'] = df_audio_meta['scientific_name'].map(label_to_id)\n",
    "\n",
    "# save the label mapping\n",
    "label_mapping = pd.DataFrame(label_to_id.items(), columns=['scientific_name', 'species_id'])\n",
    "label_mapping.to_csv(f\"{config.log_dir}/{config.model_name}_label_map.csv\", index=False)\n",
    "\n",
    "# drop samples with no labels\n",
    "df_audio_meta.dropna(subset=['species_id'], inplace=True)\n",
    "df_audio_meta.reset_index(drop=True, inplace=True)\n",
    "df_audio_meta['species_id'] = df_audio_meta['species_id'].astype(int)\n",
    "\n",
    "print(f\"Number of classes in dataset: {df_audio_meta['species_id'].nunique()}\")\n",
    "print(f'Number of samples:', len(df_audio_meta))\n",
    "\n",
    "# save the number of classes in the config\n",
    "config.n_classes = df_audio_meta['species_id'].nunique()\n",
    "\n",
    "df_audio_meta.head(5)"
   ]
  },
  {
   "cell_type": "code",
   "execution_count": 7,
   "metadata": {},
   "outputs": [
    {
     "name": "stdout",
     "output_type": "stream",
     "text": [
      "Number of species in greater_manaus: 197\n",
      "Number of species in amazonas: 724\n",
      "Number of species in both regions: 193\n"
     ]
    }
   ],
   "source": [
    "# check if all species in greater_manaus are in amazonas\n",
    "greater_manaus = df_audio_meta[df_audio_meta['region'] == 'greater_manaus']\n",
    "amazonas = df_audio_meta[df_audio_meta['region'] == 'amazonas']\n",
    "\n",
    "print('Number of species in greater_manaus:', len(greater_manaus['scientific_name'].unique()))\n",
    "print('Number of species in amazonas:', len(amazonas['scientific_name'].unique()))\n",
    "\n",
    "shared_species = [x for x in greater_manaus['scientific_name'].unique().tolist() if x in amazonas['scientific_name'].unique().tolist()]\n",
    "\n",
    "print('Number of species in both regions:', len(shared_species))"
   ]
  },
  {
   "cell_type": "code",
   "execution_count": 8,
   "metadata": {},
   "outputs": [
    {
     "data": {
      "image/png": "[encoded data removed]",
      "text/plain": [
       "<Figure size 1200x300 with 1 Axes>"
      ]
     },
     "metadata": {},
     "output_type": "display_data"
    }
   ],
   "source": [
    "# calculate the number of samples per class and weights for focal loss\n",
    "class_counts = df_audio_meta['species_id'].value_counts().sort_index()\n",
    "class_weights = 1 / class_counts\n",
    "\n",
    "# plot the distribution of the number of samples per class\n",
    "fig, ax = plt.subplots(figsize=(12, 3))\n",
    "\n",
    "class_counts_sorted = class_counts.sort_values(ascending=False)\n",
    "class_counts.sort_values(ascending=False)[0:300].plot(ax=ax, kind='bar', color='blue')\n",
    "ax.set_xticklabels([])\n",
    "ax.tick_params(axis='y', labelcolor='black', labelsize=12, labelfontfamily='serif')\n",
    "ax.set_xlabel('Bird species (sorted by number of samples)', fontsize=14, fontfamily='serif')\n",
    "ax.set_ylabel('Number of Samples', fontsize=14, fontfamily='serif')\n",
    "ax.set_title('Number of Samples per Bird Species [Xeno-Canto]', fontsize=18, fontfamily='serif')\n",
    "ax.set_facecolor('#f3ede2')\n",
    "fig.set_facecolor('#f3ede2')\n",
    "plt.grid(axis='y', linestyle='--', alpha=0.6)\n",
    "\n",
    "plt.tight_layout()\n",
    "plt.show()"
   ]
  },
  {
   "cell_type": "code",
   "execution_count": 9,
   "metadata": {},
   "outputs": [
    {
     "name": "stdout",
     "output_type": "stream",
     "text": [
      "./Audio_XenoCanto/data/XC424956-Tachyphonus_cristatus_Musa_1133_2.wav\n"
     ]
    },
    {
     "name": "stderr",
     "output_type": "stream",
     "text": [
      "/workspace/voice_of_jungle/myenv/lib/python3.10/site-packages/transformers/audio_utils.py:296: UserWarning: At least one mel filter has all zero values. The value for `num_mel_filters` (128) may be set too high. Or, the value for `num_frequency_bins` (256) may be set too low.\n",
      "  warnings.warn(\n"
     ]
    },
    {
     "data": {
      "image/png": "[encoded data removed]",
      "text/plain": [
       "<Figure size 900x400 with 2 Axes>"
      ]
     },
     "metadata": {},
     "output_type": "display_data"
    }
   ],
   "source": [
    "# visualize a sample audio file & spectrogram\n",
    "sample = df_audio_meta.sample(1)\n",
    "\n",
    "audio_file = f\"{config.dataset_dir}/{sample['file_name'].values[0]}\"\n",
    "print(audio_file)\n",
    "\n",
    "y, sr = librosa.load(audio_file, sr=config.audio_sr)\n",
    "\n",
    "meta_str = f\"{sample['common_name'].values[0]} | {sample['scientific_name'].values[0]} | {sample['region'].values[0]}\"\n",
    "\n",
    "fig, axes = plt.subplots(2, 1, figsize=(9, 4))\n",
    "\n",
    "axes[0].plot(y)\n",
    "axes[0].set_title(meta_str, fontsize=14, fontfamily='serif')\n",
    "axes[0].set_xlabel('Time (samples)', fontsize=12, fontfamily='serif')\n",
    "axes[0].set_ylabel('Amplitude', fontsize=12, fontfamily='serif')\n",
    "\n",
    "mel_spec = ASTFeatureExtractor()(y, sampling_rate=sr, padding=\"max_length\", return_tensors=\"np\")[\"input_values\"]\n",
    "\n",
    "axes[1].imshow(mel_spec[0].T, aspect='auto', origin='lower', cmap='plasma')\n",
    "axes[1].set_xlabel('Time (frames)', fontsize=12, fontfamily='serif')\n",
    "axes[1].set_ylabel('Mel Frequency', fontsize=12, fontfamily='serif')\n",
    "\n",
    "for ax in axes:\n",
    "    ax.set_facecolor('#f3ede2')\n",
    "    \n",
    "fig.set_facecolor('#f3ede2')\n",
    "fig.tight_layout()\n",
    "plt.show()"
   ]
  },
  {
   "cell_type": "code",
   "execution_count": 10,
   "metadata": {},
   "outputs": [],
   "source": [
    "class BirdSongDataset(Dataset):\n",
    "    \n",
    "    def __init__(self, df_audio_meta, config):\n",
    "        self.df_audio_meta = df_audio_meta\n",
    "        self.feature_extractor = ASTFeatureExtractor()\n",
    "        self.config = config\n",
    "    \n",
    "    def __len__(self):\n",
    "        return len(self.df_audio_meta)\n",
    "\n",
    "    def __getitem__(self, idx):\n",
    "        row = self.df_audio_meta.iloc[idx]\n",
    "        audio_path = f\"{self.config.dataset_dir}/{row['file_name']}\"\n",
    "        audio_arr, sr = self.get_audio(audio_path)\n",
    "        spec = self.feature_extractor(audio_arr, sampling_rate=sr, padding=\"max_length\", return_tensors=\"pt\")\n",
    "        return spec['input_values'].squeeze(0), row['species_id']\n",
    "\n",
    "    def get_audio(self, audio_path):\n",
    "        audio, sr = librosa.load(audio_path, sr=self.config.audio_sr)\n",
    "        return audio, sr\n",
    "\n",
    "def collate_fn(batch):\n",
    "    inputs = [x[0] for x in batch]\n",
    "    targets = [x[1] for x in batch]\n",
    "    data_dict = {\n",
    "        \"input_ids\": torch.nn.utils.rnn.pad_sequence(inputs, batch_first=True, padding_value=0),\n",
    "        \"labels\": torch.tensor(targets)\n",
    "    }\n",
    "    return data_dict"
   ]
  },
  {
   "cell_type": "code",
   "execution_count": 11,
   "metadata": {},
   "outputs": [],
   "source": [
    "# # test the dataset and dataloader\n",
    "# bs_dataset = BirdSongDataset(df_audio_meta, config)\n",
    "# bs_dataloader = DataLoader(bs_dataset, batch_size=8, shuffle=True, collate_fn=collate_fn)\n",
    "\n",
    "# for batch in bs_dataloader:\n",
    "#     print(batch['input_ids'].shape)\n",
    "#     print(batch['labels'])\n",
    "#     break"
   ]
  },
  {
   "cell_type": "code",
   "execution_count": 12,
   "metadata": {},
   "outputs": [],
   "source": [
    "# define loss_fn and eval_fn\n",
    "class FocalLoss(nn.Module):\n",
    "    \n",
    "    def __init__(self, gamma=0, alpha=None, reduction='mean', device=DEVICE):\n",
    "        super(FocalLoss, self).__init__()\n",
    "        self.gamma = gamma\n",
    "        self.reduction = reduction\n",
    "        \n",
    "        if isinstance(alpha, (float, int, )): \n",
    "            self.alpha = torch.Tensor([alpha, 1-alpha])\n",
    "        elif isinstance(alpha, (list, np.ndarray)): \n",
    "            self.alpha = torch.tensor(alpha, dtype=torch.float32, device=device)\n",
    "        else:\n",
    "            raise TypeError('Invalid alpha type')\n",
    "        \n",
    "        self.ce_loss = nn.CrossEntropyLoss(weight=self.alpha, reduction='none')\n",
    "\n",
    "    def forward(self, logits, targets):\n",
    "        ce_loss = self.ce_loss(logits, targets) # nn.CrossEntropyLoss already applies log_softmax\n",
    "        pt = torch.exp(-ce_loss) # CE = -log(p_t) -> p_t = exp(-CE)\n",
    "        \n",
    "        focal_loss = (1 - pt) ** self.gamma * ce_loss\n",
    "        \n",
    "        return_method = {\n",
    "            'mean': torch.mean,\n",
    "            'sum': torch.sum,\n",
    "            'none': lambda x: x\n",
    "        }\n",
    "        \n",
    "        return return_method[self.reduction](focal_loss)\n",
    "        \n",
    "# eval_fn\n",
    "class ROC_AUC_Score(nn.Module):\n",
    "    \n",
    "    def __init__(self, config, average='macro', multi_class='ovo'):\n",
    "        super(ROC_AUC_Score, self).__init__()\n",
    "        self.num_classes = config.n_classes\n",
    "        self.average = average\n",
    "        self.multi_class = multi_class  # 'ovo' (one-vs-one) or 'ovr' (one-vs-rest)\n",
    "        self.label_ids = np.arange(self.num_classes)\n",
    "\n",
    "    def forward(self, logits, targets):\n",
    "        # logits: (batch_size, n_classes)\n",
    "        # targets: (batch_size,) with integer labels\n",
    "        \n",
    "        # Apply softmax to convert logits to probabilities\n",
    "        probas = torch.exp(F.log_softmax(logits, dim=1))\n",
    "\n",
    "        # Detach and move to CPU for sklearn compatibility\n",
    "        probas = probas.detach().cpu().numpy()\n",
    "        targets = targets.detach().cpu().numpy()\n",
    "        \n",
    "        df_scores = pd.DataFrame(probas, columns=self.label_ids)\n",
    "        df_scores['target'] = targets\n",
    "        \n",
    "        # remove samples with classes which is predeicted as 0 in all samples\n",
    "        unscored_cols = df_scores.columns[df_scores.sum(axis=0) == 0]\n",
    "        rows_to_remove = df_scores['target'].isin(unscored_cols)\n",
    "        df_scores = df_scores[~rows_to_remove]\n",
    "        \n",
    "        eval_score = roc_auc_score(\n",
    "            y_true=df_scores['target'].values,\n",
    "            y_score=df_scores[self.label_ids].values,\n",
    "            average=self.average, \n",
    "            multi_class=self.multi_class,\n",
    "            labels=self.label_ids\n",
    "        )\n",
    "        \n",
    "        return eval_score\n"
   ]
  },
  {
   "cell_type": "code",
   "execution_count": 13,
   "metadata": {},
   "outputs": [],
   "source": [
    "# # test loss_fn and eval_fn\n",
    "# loss_fn = FocalLoss(gamma=2, alpha=class_weights.values, reduction='mean', device='cpu')\n",
    "# eval_fn = ROC_AUC_Score(config, average='macro', multi_class='ovo')\n",
    "\n",
    "# # target_labels = torch.tensor(df_audio_meta['species_id'].sample(10).values)\n",
    "# target_labels = torch.tensor([0, 1, 2, 3, 4, 5, 6, 7, 8, 9])\n",
    "# print('Target Labels:', target_labels, \"\\n\")\n",
    "\n",
    "# Test 1: perfect prediction\n",
    "# logits_perfect = F.one_hot(target_labels, num_classes=config.n_classes).float() * 100\n",
    "# loss_perfect = loss_fn(logits_perfect, target_labels)\n",
    "\n",
    "# eval_score_perfect = eval_fn(logits_perfect, target_labels)\n",
    "# print(f\"Perfect Prediction: Loss: {loss_perfect.item()}, Eval Score: {eval_score_perfect}\")\n",
    "# print(\" \")\n",
    "\n",
    "# Test 2: half correct\n",
    "# half_correct = target_labels.clone()\n",
    "# half_correct[:5] = (half_correct[:5] + 1) % config.n_classes  \n",
    "# logits_half = F.one_hot(half_correct, num_classes=config.n_classes).float() * 100\n",
    "# logits_half[:5] *= -1  \n",
    "# loss_half = loss_fn(logits_half, target_labels)\n",
    "\n",
    "# eval_score_half = eval_fn(logits_half, target_labels)\n",
    "# print(f\"Half Correct Prediction: Loss: {loss_half.item()}, Eval Score: {eval_score_half}\")\n",
    "# print(\" \")\n",
    "\n",
    "# Test 3: random prediction\n",
    "# logits_random = torch.rand((10, config.n_classes))\n",
    "# loss_random = loss_fn(logits_random, target_labels)\n",
    "\n",
    "# eval_score_random = eval_fn(logits_random, target_labels)\n",
    "# print(f\"Random Prediction: Loss: {loss_random.item()}, Eval Score: {eval_score_random}\")"
   ]
  },
  {
   "cell_type": "code",
   "execution_count": 14,
   "metadata": {},
   "outputs": [],
   "source": [
    "class BirdAST(nn.Module):\n",
    "    \n",
    "    def __init__(self, backbone_name, n_classes, n_mlp_layers=1, activation='silu'):\n",
    "        super(BirdAST, self).__init__()\n",
    "        \n",
    "        # pre-trained backbone\n",
    "        backbone_config = ASTConfig.from_pretrained(backbone_name)\n",
    "        self.ast = ASTModel.from_pretrained(backbone_name, config=backbone_config)\n",
    "        self.hidden_size = backbone_config.hidden_size\n",
    "        \n",
    "        # set activation functions\n",
    "        if activation == 'relu':\n",
    "            self.activation = nn.ReLU()\n",
    "        elif activation == 'silu':\n",
    "            self.activation = nn.SiLU()\n",
    "        else:\n",
    "            raise ValueError(\"Unsupported activation function. Choose 'relu' or 'silu'.\")\n",
    "        \n",
    "        # define MLP layers with activation\n",
    "        layers = []\n",
    "        for _ in range(n_mlp_layers):\n",
    "            layers.append(nn.Linear(self.hidden_size, self.hidden_size))\n",
    "            layers.append(self.activation)\n",
    "        layers.append(nn.Linear(self.hidden_size, n_classes))\n",
    "        self.mlp = nn.Sequential(*layers)\n",
    "        \n",
    "    def forward(self, spectrogram):\n",
    "        # spectrogram: (batch_size, n_mels, n_frames)\n",
    "        # output: (batch_size, n_classes)\n",
    "        \n",
    "        ast_output = self.ast(spectrogram, output_hidden_states=False)\n",
    "        logits = self.mlp(ast_output.last_hidden_state[:, 0, :]) # Use the CLS token \n",
    "        \n",
    "        return {'logits': logits}\n"
   ]
  },
  {
   "cell_type": "code",
   "execution_count": 15,
   "metadata": {},
   "outputs": [],
   "source": [
    "# # test the model / loss_fn / eval_fn using dataloader\n",
    "\n",
    "# bs_dataset = BirdSongDataset(df_audio_meta, config)\n",
    "# bs_dataloader = DataLoader(bs_dataset, batch_size=8, shuffle=True, collate_fn=collate_fn)\n",
    "\n",
    "# loss_fn = FocalLoss(gamma=2, alpha=class_weights.values, reduction='mean', device='cpu')\n",
    "# eval_fn = ROC_AUC_Score(label_ids_list, average='macro')\n",
    "\n",
    "# bird_ast_model = BirdAST(config.backbone_name, config.n_classes, n_mlp_layers=1, activation='silu')\n",
    "\n",
    "# for batch in bs_dataloader:\n",
    "    \n",
    "#     input_ids = batch['input_ids']\n",
    "#     labels = batch['labels']\n",
    "    \n",
    "#     output = bird_ast_model(input_ids)\n",
    "#     logits = output['logits']\n",
    "    \n",
    "#     loss = loss_fn(logits, labels)\n",
    "#     eval_score = eval_fn(logits, labels)\n",
    "    \n",
    "#     print(f\"Shape of input_ids: {input_ids.shape}\")\n",
    "#     print(f\"Shape of labels: {labels.shape}\")\n",
    "#     print(f\"Shape of logits: {logits.shape}\")\n",
    "#     print(f\"Loss: {loss.item()}, Eval Score: {eval_score}\")\n",
    "    \n",
    "#     break"
   ]
  },
  {
   "cell_type": "code",
   "execution_count": 16,
   "metadata": {},
   "outputs": [],
   "source": [
    "class AverageMeter(object):\n",
    "    \"\"\"Computes and stores the average and current value\"\"\"\n",
    "    def __init__(self):\n",
    "        self.reset()\n",
    "\n",
    "    def reset(self):\n",
    "        self.value = 0\n",
    "        self.avg = 0\n",
    "        self.sum = 0\n",
    "        self.count = 0\n",
    "\n",
    "    def update(self, val, n=1):\n",
    "        self.value = val\n",
    "        self.sum += val * n\n",
    "        self.count += n\n",
    "        self.avg = self.sum / self.count\n",
    "        \n",
    "        \n",
    "class Trainer:\n",
    "\n",
    "    def __init__(self, model, loss_fn, evel_fn, logger, config, is_higher_better=True):\n",
    "        '''\n",
    "        model: nn.Module\n",
    "        loss_fn: loss function\n",
    "        evel_fn: evaluation function\n",
    "        logger: logger\n",
    "        config: Config\n",
    "        is_higher_better: bool (default: True) whether higher evaluation score is better\n",
    "        '''\n",
    "\n",
    "        self.model = model\n",
    "        self.logger = logger\n",
    "        self.config = config\n",
    "        \n",
    "        self.device = torch.device(\"cuda\" if torch.cuda.is_available() else \"cpu\")\n",
    "        self.loss_fn = loss_fn\n",
    "        self.loss_fn.to(self.device)\n",
    "        \n",
    "        self.eval_fn = evel_fn\n",
    "        self.is_higher_better = is_higher_better\n",
    "        \n",
    "    def train(self, train_loader, valid_loader, print_epoch_freq=50, from_checkpoint=None, use_tqdm=True):\n",
    "\n",
    "        self.optimizer = AdamW(self.model.parameters(), lr=1e-3, weight_decay=self.config.weight_decay)\n",
    "\n",
    "        self.scheduler = OneCycleLR(\n",
    "            self.optimizer,\n",
    "            max_lr=self.config.max_lr,\n",
    "            epochs=self.config.epochs,\n",
    "            steps_per_epoch=len(train_loader),\n",
    "            pct_start=0.1,\n",
    "            anneal_strategy=\"cos\",\n",
    "            final_div_factor=self.config.lr_final_div,\n",
    "        )\n",
    "\n",
    "        if from_checkpoint is not None:\n",
    "            self.model.load_state_dict(torch.load(from_checkpoint, map_location=self.device))\n",
    "\n",
    "        self.model.to(self.device)\n",
    "        best_weights, best_preds, best_loss = None, None, float(\"-inf\") if self.is_higher_better else float(\"inf\")\n",
    "        loss_records = {\"train\": [], \"valid\": []}\n",
    "        \n",
    "        if use_tqdm:\n",
    "            pbar = tqdm(range(self.config.epochs), total=self.config.epochs, unit=\"epoch\", leave=True, desc=\"Training Progress\")\n",
    "        else:\n",
    "            pbar = range(self.config.epochs)\n",
    "            \n",
    "        for epoch in pbar:\n",
    "            start_epoch = time()\n",
    "\n",
    "            train_loss, _ = self._train_or_valid_epoch(epoch, train_loader, is_train=True, use_tqdm=use_tqdm)\n",
    "            valid_loss, valid_preds = self._train_or_valid_epoch(epoch, valid_loader, is_train=False, use_tqdm=use_tqdm)\n",
    "            \n",
    "            loss_records[\"train\"].append(train_loss)\n",
    "            loss_records[\"valid\"].append(valid_loss)\n",
    "\n",
    "            elapsed = time() - start_epoch\n",
    "            \n",
    "            if (epoch % print_epoch_freq == 0) or (epoch == (self.config.epochs - 1)):\n",
    "                self.logger.info(f\"Epoch {epoch + 1} - Train Loss: {train_loss:.4f} - Valid Loss: {valid_loss:.4f} - Elapsed Time: {elapsed:.2f}s\")\n",
    "            \n",
    "            if self.is_higher_better:\n",
    "                if valid_loss > best_loss:\n",
    "                    best_loss = valid_loss\n",
    "                    best_weights = self.model.state_dict()\n",
    "                    best_preds = valid_preds\n",
    "                    self.logger.info(f\"- Epoch {epoch + 1}: Best model found with loss = {best_loss:.4f}.\")\n",
    "            else:\n",
    "                if valid_loss < best_loss:\n",
    "                    best_loss = valid_loss\n",
    "                    best_weights = self.model.state_dict()\n",
    "                    best_preds = valid_preds\n",
    "                    self.logger.info(f\"- Epoch {epoch + 1}: Best model found with loss = {best_loss:.4f}.\")\n",
    "\n",
    "        return best_weights, best_preds, loss_records\n",
    "\n",
    "    def _train_or_valid_epoch(self, epoch_id, dataloader, is_train=True, use_tqdm=True):\n",
    "\n",
    "        self.model.train() if is_train else self.model.eval()\n",
    "        mode = \"Train\" if is_train else \"Valid\"\n",
    "\n",
    "        len_loader = len(dataloader)\n",
    "        scaler = GradScaler(enabled=self.config.amp)\n",
    "        loss_meter = AverageMeter()\n",
    "        labels_record, predicts_record = [], []\n",
    "\n",
    "        start = time()\n",
    "        \n",
    "        if use_tqdm:\n",
    "            pbar = tqdm(enumerate(dataloader), total=len_loader, desc=mode, unit=\"batch\")\n",
    "        else:\n",
    "            pbar = enumerate(dataloader)\n",
    "            \n",
    "        for step, data_dict in pbar:\n",
    "            \n",
    "            input_ids = data_dict['input_ids'].to(self.device)\n",
    "            labels = data_dict['labels'].to(self.device)\n",
    "            \n",
    "            if is_train:\n",
    "                with autocast(enabled=self.config.amp):\n",
    "                    model_output = self.model(input_ids)\n",
    "                    logits = model_output['logits']\n",
    "                    train_loss = self.loss_fn(logits, labels)\n",
    "                    \n",
    "                if self.config.grad_accum_steps > 1:\n",
    "                    train_loss = train_loss / self.config.grad_accum_steps\n",
    "                    \n",
    "                scaler.scale(train_loss).backward()\n",
    "                grad_norm = torch.nn.utils.clip_grad_norm_(self.model.parameters(), self.config.max_grad_norm)\n",
    "                if (step + 1) % self.config.grad_accum_steps == 0:\n",
    "                    scaler.step(self.optimizer)\n",
    "                    scaler.update()\n",
    "                    self.optimizer.zero_grad()\n",
    "                    self.scheduler.step()\n",
    "                    \n",
    "                loss_meter.update(train_loss.item())\n",
    "                \n",
    "            else:\n",
    "                with torch.no_grad():\n",
    "                    model_output = self.model(input_ids)\n",
    "                    logits = model_output['logits']\n",
    "                    valid_loss = self.loss_fn(logits, labels)\n",
    "\n",
    "                if self.config.grad_accum_steps > 1:\n",
    "                    valid_loss = valid_loss / self.config.grad_accum_steps\n",
    "                    \n",
    "                loss_meter.update(valid_loss.item())\n",
    "                \n",
    "                predicts_record.append(logits)\n",
    "                labels_record.append(labels)\n",
    "            \n",
    "            end = time()\n",
    "            \n",
    "            if self.config.print_freq:\n",
    "                if (step % self.config.print_freq == 0) or (step == (len_loader - 1)):\n",
    "                    lr = self.scheduler.get_last_lr()[0]\n",
    "                    info = f\"Epoch {epoch_id + 1} [{step}/{len_loader}] | {mode} \"\n",
    "                    \n",
    "                    if is_train:\n",
    "                        info += f\"Loss: {loss_meter.avg:.4f} Grad: {grad_norm:.4f} LR: {lr:.4e}\"\n",
    "                    else:\n",
    "                        info += f\"Loss: {loss_meter.avg:.4f}\"\n",
    "\n",
    "                    info += f\" | Elapse: {end - start:.2f}s\"\n",
    "                    self.logger.info(info)\n",
    "\n",
    "        if is_train:\n",
    "            wandb.log({\n",
    "                \"Train Loss\": loss_meter.avg, \n",
    "                \"Learning Rate\": self.scheduler.get_last_lr()[0],\n",
    "                \"Gradient Norm\": grad_norm,\n",
    "                \"Epoch\": epoch_id + 1\n",
    "            })\n",
    "            return loss_meter.avg, None\n",
    "        else:\n",
    "            eval_loss = self.eval_fn(\n",
    "                torch.cat(predicts_record).cpu(),\n",
    "                torch.cat(labels_record).cpu()\n",
    "                )\n",
    "            wandb.log({\n",
    "                \"Valid Loss\": loss_meter.avg,\n",
    "                \"Eval Score\": eval_loss,\n",
    "                \"Epoch\": epoch_id + 1\n",
    "            })\n",
    "            predicts_record = np.concatenate([p.cpu().detach().numpy() for p in predicts_record], axis=0)\n",
    "            return eval_loss, predicts_record\n"
   ]
  },
  {
   "cell_type": "code",
   "execution_count": 17,
   "metadata": {},
   "outputs": [],
   "source": [
    "def plot_loss_record(loss_history, final_loss, start_at=0, save_to=None):\n",
    "    \n",
    "    fig, ax1 = plt.subplots(1, 1, figsize=(8, 4))\n",
    "    ax2 = ax1.twinx()\n",
    "    for i, loss in enumerate(loss_history):\n",
    "        ax1.plot(np.arange(start_at, len(loss['train'])), loss['train'][start_at:], \"-\",   label=f'Train_{i}')\n",
    "        ax2.plot(np.arange(start_at, len(loss['valid'])), loss['valid'][start_at:], \".--\", label=f'Valid_{i}')\n",
    "        \n",
    "    ax1.set_xlabel(\"Epoch\")\n",
    "    ax1.set_ylabel(\"Train Loss\")\n",
    "    ax2.set_ylabel(\"Valid Loss (Dashed)\")\n",
    "    ax1.set_title(f\"Final Eval-Loss: {final_loss:.4f}\")\n",
    "    ax1.legend(loc='lower left', bbox_to_anchor=[1.15, 0])\n",
    "    ax2.legend(loc='upper left', bbox_to_anchor=[1.15, 1])\n",
    "    \n",
    "    if save_to:\n",
    "        plt.savefig(save_to)\n",
    "    \n",
    "    fig.tight_layout()\n",
    "    plt.show()"
   ]
  },
  {
   "cell_type": "code",
   "execution_count": 18,
   "metadata": {},
   "outputs": [
    {
     "name": "stderr",
     "output_type": "stream",
     "text": [
      "/workspace/voice_of_jungle/myenv/lib/python3.10/site-packages/sklearn/model_selection/_split.py:776: UserWarning: The least populated class in y has only 2 members, which is less than n_splits=5.\n",
      "  warnings.warn(\n"
     ]
    }
   ],
   "source": [
    "skf = StratifiedKFold(n_splits=config.n_splits, shuffle=False)\n",
    "df_audio_meta['fold'] = 0\n",
    "\n",
    "for fold, (train_index, valid_index) in enumerate(skf.split(df_audio_meta, df_audio_meta['species_id'])):\n",
    "    df_audio_meta.loc[valid_index, 'fold'] = fold"
   ]
  },
  {
   "cell_type": "code",
   "execution_count": 19,
   "metadata": {},
   "outputs": [
    {
     "name": "stdout",
     "output_type": "stream",
     "text": [
      "################################### TRAIN_CONFIG ###################################\n",
      "dataset_dir: ./Audio_XenoCanto\n",
      "labels_list: ./xeno_labels.csv\n",
      "model_name: BirdAST_Baseline_5folds\n",
      "backbone_name: MIT/ast-finetuned-audioset-10-10-0.4593\n",
      "n_classes: 728\n",
      "audio_sr: 16000\n",
      "segment_length: 10\n",
      "fft_window: 0.025\n",
      "hop_window_length: 0.01\n",
      "n_mels: 128\n",
      "low_cut: 1000\n",
      "high_cut: 8000\n",
      "top_db: 100\n",
      "batch_size: 16\n",
      "num_workers: 0\n",
      "n_splits: 5\n",
      "log_dir: ./training_logs\n",
      "max_lr: 1e-05\n",
      "epochs: 15\n",
      "weight_decay: 0.01\n",
      "lr_final_div: 1000\n",
      "amp: True\n",
      "grad_accum_steps: 1\n",
      "max_grad_norm: 10000000.0\n",
      "print_epoch_freq: 1\n",
      "print_freq: 500\n",
      "random_seed: 2046\n",
      "copy: <classmethod(<function Config.copy at 0x72c092bb2b00>)>\n",
      "################################################################################\n"
     ]
    }
   ],
   "source": [
    "loss_fn = FocalLoss(gamma=2, alpha=class_weights.values, reduction='mean', device='cpu')\n",
    "eval_fn = ROC_AUC_Score(config, average='macro', multi_class='ovo')\n",
    "\n",
    "oof, loss_history = pd.DataFrame(), []\n",
    "\n",
    "logger = get_logger(log_file=f\"{config.log_dir}/{config.model_name}_training.log\")\n",
    "\n",
    "# log TRAIN_CONFIG\n",
    "logger.info(f\"{'#'*35} TRAIN_CONFIG {'#'*35}\")\n",
    "for k, v in config.__dict__.items():\n",
    "    if '__' not in k:\n",
    "        logger.info(f\"{k}: {v}\")\n",
    "\n",
    "logger.info(f\"{'#'*80}\")"
   ]
  },
  {
   "cell_type": "code",
   "execution_count": 22,
   "metadata": {},
   "outputs": [
    {
     "data": {
      "text/html": [
       "Finishing last run (ID:bypa4dqz) before initializing another..."
      ],
      "text/plain": [
       "<IPython.core.display.HTML object>"
      ]
     },
     "metadata": {},
     "output_type": "display_data"
    },
    {
     "data": {
      "application/vnd.jupyter.widget-view+json": {
       "model_id": "cbf8644570a545af991e0e3ab3d7e888",
       "version_major": 2,
       "version_minor": 0
      },
      "text/plain": [
       "VBox(children=(Label(value='0.004 MB of 0.004 MB uploaded\\r'), FloatProgress(value=1.0, max=1.0)))"
      ]
     },
     "metadata": {},
     "output_type": "display_data"
    },
    {
     "data": {
      "text/html": [
       "<style>\n",
       "    table.wandb td:nth-child(1) { padding: 0 10px; text-align: left ; width: auto;} td:nth-child(2) {text-align: left ; width: 100%}\n",
       "    .wandb-row { display: flex; flex-direction: row; flex-wrap: wrap; justify-content: flex-start; width: 100% }\n",
       "    .wandb-col { display: flex; flex-direction: column; flex-basis: 100%; flex: 1; padding: 10px; }\n",
       "    </style>\n",
       "<div class=\"wandb-row\"><div class=\"wandb-col\"><h3>Run history:</h3><br/><table class=\"wandb\"><tr><td>Epoch</td><td>▁▁▁▁▂▂▃▃▃▃▃▃▄▄▅▅▅▅▅▅▆▆▇▇▇▇▇▇██</td></tr><tr><td>Eval Score</td><td>▁▃▅▆▆▇▇▇▇██████</td></tr><tr><td>Gradient Norm</td><td>▆▇██▇▇▅▄▃▂▁▂▃▁▁</td></tr><tr><td>Learning Rate</td><td>▆██▇▇▆▆▅▄▃▂▂▁▁▁</td></tr><tr><td>Train Loss</td><td>██▇▅▄▃▂▁▁▁▁▁▁▁▁</td></tr><tr><td>Valid Loss</td><td>█▇▆▅▅▄▃▃▃▂▂▂▂▁▁</td></tr></table><br/></div><div class=\"wandb-col\"><h3>Run summary:</h3><br/><table class=\"wandb\"><tr><td>Epoch</td><td>15</td></tr><tr><td>Eval Score</td><td>0.9015</td></tr><tr><td>Gradient Norm</td><td>9246.84766</td></tr><tr><td>Learning Rate</td><td>0.0</td></tr><tr><td>Train Loss</td><td>0.01715</td></tr><tr><td>Valid Loss</td><td>0.06942</td></tr></table><br/></div></div>"
      ],
      "text/plain": [
       "<IPython.core.display.HTML object>"
      ]
     },
     "metadata": {},
     "output_type": "display_data"
    },
    {
     "data": {
      "text/html": [
       " View run <strong style=\"color:#cdcd00\">fold_4</strong> at: <a href='https://wandb.ai/sli2024/BirdAST_Baseline_5folds/runs/bypa4dqz' target=\"_blank\">https://wandb.ai/sli2024/BirdAST_Baseline_5folds/runs/bypa4dqz</a><br/> View project at: <a href='https://wandb.ai/sli2024/BirdAST_Baseline_5folds' target=\"_blank\">https://wandb.ai/sli2024/BirdAST_Baseline_5folds</a><br/>Synced 5 W&B file(s), 0 media file(s), 0 artifact file(s) and 0 other file(s)"
      ],
      "text/plain": [
       "<IPython.core.display.HTML object>"
      ]
     },
     "metadata": {},
     "output_type": "display_data"
    },
    {
     "data": {
      "text/html": [
       "Find logs at: <code>./wandb/run-20240531_080341-bypa4dqz/logs</code>"
      ],
      "text/plain": [
       "<IPython.core.display.HTML object>"
      ]
     },
     "metadata": {},
     "output_type": "display_data"
    },
    {
     "data": {
      "text/html": [
       "Successfully finished last run (ID:bypa4dqz). Initializing new run:<br/>"
      ],
      "text/plain": [
       "<IPython.core.display.HTML object>"
      ]
     },
     "metadata": {},
     "output_type": "display_data"
    },
    {
     "data": {
      "application/vnd.jupyter.widget-view+json": {
       "model_id": "8ec198b235ab4febb38774eb2c18f635",
       "version_major": 2,
       "version_minor": 0
      },
      "text/plain": [
       "VBox(children=(Label(value='Waiting for wandb.init()...\\r'), FloatProgress(value=0.011112306202347908, max=1.0…"
      ]
     },
     "metadata": {},
     "output_type": "display_data"
    },
    {
     "data": {
      "text/html": [
       "Tracking run with wandb version 0.17.0"
      ],
      "text/plain": [
       "<IPython.core.display.HTML object>"
      ]
     },
     "metadata": {},
     "output_type": "display_data"
    },
    {
     "data": {
      "text/html": [
       "Run data is saved locally in <code>/workspace/voice_of_jungle/wandb/run-20240531_121846-12hpo4i7</code>"
      ],
      "text/plain": [
       "<IPython.core.display.HTML object>"
      ]
     },
     "metadata": {},
     "output_type": "display_data"
    },
    {
     "data": {
      "text/html": [
       "Syncing run <strong><a href='https://wandb.ai/sli2024/BirdAST_Baseline_5folds/runs/12hpo4i7' target=\"_blank\">fold_0</a></strong> to <a href='https://wandb.ai/sli2024/BirdAST_Baseline_5folds' target=\"_blank\">Weights & Biases</a> (<a href='https://wandb.me/run' target=\"_blank\">docs</a>)<br/>"
      ],
      "text/plain": [
       "<IPython.core.display.HTML object>"
      ]
     },
     "metadata": {},
     "output_type": "display_data"
    },
    {
     "data": {
      "text/html": [
       " View project at <a href='https://wandb.ai/sli2024/BirdAST_Baseline_5folds' target=\"_blank\">https://wandb.ai/sli2024/BirdAST_Baseline_5folds</a>"
      ],
      "text/plain": [
       "<IPython.core.display.HTML object>"
      ]
     },
     "metadata": {},
     "output_type": "display_data"
    },
    {
     "data": {
      "text/html": [
       " View run at <a href='https://wandb.ai/sli2024/BirdAST_Baseline_5folds/runs/12hpo4i7' target=\"_blank\">https://wandb.ai/sli2024/BirdAST_Baseline_5folds/runs/12hpo4i7</a>"
      ],
      "text/plain": [
       "<IPython.core.display.HTML object>"
      ]
     },
     "metadata": {},
     "output_type": "display_data"
    },
    {
     "name": "stderr",
     "output_type": "stream",
     "text": [
      "/workspace/voice_of_jungle/myenv/lib/python3.10/site-packages/transformers/audio_utils.py:296: UserWarning: At least one mel filter has all zero values. The value for `num_mel_filters` (128) may be set too high. Or, the value for `num_frequency_bins` (256) may be set too low.\n",
      "  warnings.warn(\n",
      "/workspace/voice_of_jungle/myenv/lib/python3.10/site-packages/huggingface_hub/file_download.py:1132: FutureWarning: `resume_download` is deprecated and will be removed in version 1.0.0. Downloads always resume when possible. If you want to force a new download, use `force_download=True`.\n",
      "  warnings.warn(\n"
     ]
    },
    {
     "data": {
      "application/vnd.jupyter.widget-view+json": {
       "model_id": "08a889949cbe413ab12c1536d78e7b41",
       "version_major": 2,
       "version_minor": 0
      },
      "text/plain": [
       "Training Progress:   0%|          | 0/15 [00:00<?, ?epoch/s]"
      ]
     },
     "metadata": {},
     "output_type": "display_data"
    },
    {
     "data": {
      "application/vnd.jupyter.widget-view+json": {
       "model_id": "c353094ec64d43cca65b5c1e42bd3774",
       "version_major": 2,
       "version_minor": 0
      },
      "text/plain": [
       "Train:   0%|          | 0/559 [00:00<?, ?batch/s]"
      ]
     },
     "metadata": {},
     "output_type": "display_data"
    },
    {
     "name": "stdout",
     "output_type": "stream",
     "text": [
      "Epoch 1 [0/559] | Train Loss: 0.1902 Grad: 66413.2578 LR: 4.0003e-07 | Elapse: 1.13s\n",
      "Epoch 1 [500/559] | Train Loss: 0.1762 Grad: 2669.0898 LR: 6.6576e-06 | Elapse: 645.72s\n",
      "Epoch 1 [558/559] | Train Loss: 0.1660 Grad: 50164.2422 LR: 7.6104e-06 | Elapse: 721.57s\n"
     ]
    },
    {
     "data": {
      "application/vnd.jupyter.widget-view+json": {
       "model_id": "3f8d7fdb0e054574bf4e1f35232bfc1a",
       "version_major": 2,
       "version_minor": 0
      },
      "text/plain": [
       "Valid:   0%|          | 0/140 [00:00<?, ?batch/s]"
      ]
     },
     "metadata": {},
     "output_type": "display_data"
    },
    {
     "name": "stdout",
     "output_type": "stream",
     "text": [
      "Epoch 1 [0/140] | Valid Loss: 0.1869 | Elapse: 1.34s\n",
      "Epoch 1 [139/140] | Valid Loss: 0.1561 | Elapse: 181.44s\n",
      "Epoch 1 - Train Loss: 0.1660 - Valid Loss: 0.5658 - Elapsed Time: 961.36s\n",
      "- Epoch 1: Best model found with loss = 0.5658.\n"
     ]
    },
    {
     "data": {
      "application/vnd.jupyter.widget-view+json": {
       "model_id": "e3b86723381c4bf886f36fd2e2c94499",
       "version_major": 2,
       "version_minor": 0
      },
      "text/plain": [
       "Train:   0%|          | 0/559 [00:00<?, ?batch/s]"
      ]
     },
     "metadata": {},
     "output_type": "display_data"
    },
    {
     "name": "stdout",
     "output_type": "stream",
     "text": [
      "Epoch 2 [0/559] | Train Loss: 0.1867 Grad: 57774.2891 LR: 7.6259e-06 | Elapse: 1.37s\n",
      "Epoch 2 [500/559] | Train Loss: 0.1714 Grad: 2945.2744 LR: 9.9786e-06 | Elapse: 657.97s\n",
      "Epoch 2 [558/559] | Train Loss: 0.1607 Grad: 50242.5000 LR: 9.9660e-06 | Elapse: 736.99s\n"
     ]
    },
    {
     "data": {
      "application/vnd.jupyter.widget-view+json": {
       "model_id": "b80a496b747d498b9632f1760487afbd",
       "version_major": 2,
       "version_minor": 0
      },
      "text/plain": [
       "Valid:   0%|          | 0/140 [00:00<?, ?batch/s]"
      ]
     },
     "metadata": {},
     "output_type": "display_data"
    },
    {
     "name": "stdout",
     "output_type": "stream",
     "text": [
      "Epoch 2 [0/140] | Valid Loss: 0.1820 | Elapse: 1.36s\n",
      "Epoch 2 [139/140] | Valid Loss: 0.1447 | Elapse: 180.02s\n",
      "Epoch 2 - Train Loss: 0.1607 - Valid Loss: 0.7065 - Elapsed Time: 976.65s\n",
      "- Epoch 2: Best model found with loss = 0.7065.\n"
     ]
    },
    {
     "data": {
      "application/vnd.jupyter.widget-view+json": {
       "model_id": "4af368fe78e04c528cd2357bb69daf35",
       "version_major": 2,
       "version_minor": 0
      },
      "text/plain": [
       "Train:   0%|          | 0/559 [00:00<?, ?batch/s]"
      ]
     },
     "metadata": {},
     "output_type": "display_data"
    },
    {
     "name": "stdout",
     "output_type": "stream",
     "text": [
      "Epoch 3 [0/559] | Train Loss: 0.1736 Grad: 71577.5156 LR: 9.9657e-06 | Elapse: 1.61s\n",
      "Epoch 3 [500/559] | Train Loss: 0.1443 Grad: 4092.1748 LR: 9.7377e-06 | Elapse: 652.20s\n",
      "Epoch 3 [558/559] | Train Loss: 0.1345 Grad: 50957.5117 LR: 9.6978e-06 | Elapse: 727.83s\n"
     ]
    },
    {
     "data": {
      "application/vnd.jupyter.widget-view+json": {
       "model_id": "b06bc56e2b3f49519c80b518a49760cb",
       "version_major": 2,
       "version_minor": 0
      },
      "text/plain": [
       "Valid:   0%|          | 0/140 [00:00<?, ?batch/s]"
      ]
     },
     "metadata": {},
     "output_type": "display_data"
    },
    {
     "name": "stdout",
     "output_type": "stream",
     "text": [
      "Epoch 3 [0/140] | Valid Loss: 0.1715 | Elapse: 1.26s\n",
      "Epoch 3 [139/140] | Valid Loss: 0.1274 | Elapse: 179.61s\n",
      "Epoch 3 - Train Loss: 0.1345 - Valid Loss: 0.7868 - Elapsed Time: 965.51s\n",
      "- Epoch 3: Best model found with loss = 0.7868.\n"
     ]
    },
    {
     "data": {
      "application/vnd.jupyter.widget-view+json": {
       "model_id": "034c30e2304642828136b3e4e44997ea",
       "version_major": 2,
       "version_minor": 0
      },
      "text/plain": [
       "Train:   0%|          | 0/559 [00:00<?, ?batch/s]"
      ]
     },
     "metadata": {},
     "output_type": "display_data"
    },
    {
     "name": "stdout",
     "output_type": "stream",
     "text": [
      "Epoch 4 [0/559] | Train Loss: 0.1299 Grad: 89553.9766 LR: 9.6970e-06 | Elapse: 1.30s\n",
      "Epoch 4 [500/559] | Train Loss: 0.1024 Grad: 4908.1235 LR: 9.2415e-06 | Elapse: 646.79s\n",
      "Epoch 4 [558/559] | Train Loss: 0.0953 Grad: 51755.4883 LR: 9.1763e-06 | Elapse: 723.82s\n"
     ]
    },
    {
     "data": {
      "application/vnd.jupyter.widget-view+json": {
       "model_id": "2e7306c1254c48208722e2160c2d1acb",
       "version_major": 2,
       "version_minor": 0
      },
      "text/plain": [
       "Valid:   0%|          | 0/140 [00:00<?, ?batch/s]"
      ]
     },
     "metadata": {},
     "output_type": "display_data"
    },
    {
     "name": "stdout",
     "output_type": "stream",
     "text": [
      "Epoch 4 [0/140] | Valid Loss: 0.1466 | Elapse: 1.17s\n",
      "Epoch 4 [139/140] | Valid Loss: 0.1127 | Elapse: 177.61s\n",
      "Epoch 4 - Train Loss: 0.0953 - Valid Loss: 0.8238 - Elapsed Time: 959.55s\n",
      "- Epoch 4: Best model found with loss = 0.8238.\n"
     ]
    },
    {
     "data": {
      "application/vnd.jupyter.widget-view+json": {
       "model_id": "8ed5de100f69478bbbe2fff221900d86",
       "version_major": 2,
       "version_minor": 0
      },
      "text/plain": [
       "Train:   0%|          | 0/559 [00:00<?, ?batch/s]"
      ]
     },
     "metadata": {},
     "output_type": "display_data"
    },
    {
     "name": "stdout",
     "output_type": "stream",
     "text": [
      "Epoch 5 [0/559] | Train Loss: 0.0821 Grad: 102318.5078 LR: 9.1752e-06 | Elapse: 1.54s\n",
      "Epoch 5 [500/559] | Train Loss: 0.0698 Grad: 5586.0479 LR: 8.5166e-06 | Elapse: 647.14s\n",
      "Epoch 5 [558/559] | Train Loss: 0.0650 Grad: 44889.3242 LR: 8.4298e-06 | Elapse: 721.04s\n"
     ]
    },
    {
     "data": {
      "application/vnd.jupyter.widget-view+json": {
       "model_id": "3aee052d54f54aa1b1770b51896c04dc",
       "version_major": 2,
       "version_minor": 0
      },
      "text/plain": [
       "Valid:   0%|          | 0/140 [00:00<?, ?batch/s]"
      ]
     },
     "metadata": {},
     "output_type": "display_data"
    },
    {
     "name": "stdout",
     "output_type": "stream",
     "text": [
      "Epoch 5 [0/140] | Valid Loss: 0.1277 | Elapse: 1.28s\n",
      "Epoch 5 [139/140] | Valid Loss: 0.1013 | Elapse: 178.04s\n",
      "Epoch 5 - Train Loss: 0.0650 - Valid Loss: 0.8493 - Elapsed Time: 958.05s\n",
      "- Epoch 5: Best model found with loss = 0.8493.\n"
     ]
    },
    {
     "data": {
      "application/vnd.jupyter.widget-view+json": {
       "model_id": "552d3f769a884689b96c6ef0ccbd0bbc",
       "version_major": 2,
       "version_minor": 0
      },
      "text/plain": [
       "Train:   0%|          | 0/559 [00:00<?, ?batch/s]"
      ]
     },
     "metadata": {},
     "output_type": "display_data"
    },
    {
     "name": "stdout",
     "output_type": "stream",
     "text": [
      "Epoch 6 [0/559] | Train Loss: 0.0456 Grad: 94000.5000 LR: 8.4282e-06 | Elapse: 1.29s\n",
      "Epoch 6 [500/559] | Train Loss: 0.0469 Grad: 5821.9785 LR: 7.6021e-06 | Elapse: 650.70s\n",
      "Epoch 6 [558/559] | Train Loss: 0.0439 Grad: 36521.1172 LR: 7.4983e-06 | Elapse: 726.91s\n"
     ]
    },
    {
     "data": {
      "application/vnd.jupyter.widget-view+json": {
       "model_id": "cb19ff230a3c4e4aae660cecca00b24b",
       "version_major": 2,
       "version_minor": 0
      },
      "text/plain": [
       "Valid:   0%|          | 0/140 [00:00<?, ?batch/s]"
      ]
     },
     "metadata": {},
     "output_type": "display_data"
    },
    {
     "name": "stdout",
     "output_type": "stream",
     "text": [
      "Epoch 6 [0/140] | Valid Loss: 0.1070 | Elapse: 0.91s\n",
      "Epoch 6 [139/140] | Valid Loss: 0.0911 | Elapse: 176.52s\n",
      "Epoch 6 - Train Loss: 0.0439 - Valid Loss: 0.8720 - Elapsed Time: 962.33s\n",
      "- Epoch 6: Best model found with loss = 0.8720.\n"
     ]
    },
    {
     "data": {
      "application/vnd.jupyter.widget-view+json": {
       "model_id": "c87755af70724862bae264d429868aed",
       "version_major": 2,
       "version_minor": 0
      },
      "text/plain": [
       "Train:   0%|          | 0/559 [00:00<?, ?batch/s]"
      ]
     },
     "metadata": {},
     "output_type": "display_data"
    },
    {
     "name": "stdout",
     "output_type": "stream",
     "text": [
      "Epoch 7 [0/559] | Train Loss: 0.0244 Grad: 67486.2812 LR: 7.4965e-06 | Elapse: 1.45s\n",
      "Epoch 7 [500/559] | Train Loss: 0.0322 Grad: 6044.8472 LR: 6.5474e-06 | Elapse: 649.35s\n",
      "Epoch 7 [558/559] | Train Loss: 0.0303 Grad: 31346.2227 LR: 6.4322e-06 | Elapse: 723.66s\n"
     ]
    },
    {
     "data": {
      "application/vnd.jupyter.widget-view+json": {
       "model_id": "7c298777cab440e190b28f2f41b591f1",
       "version_major": 2,
       "version_minor": 0
      },
      "text/plain": [
       "Valid:   0%|          | 0/140 [00:00<?, ?batch/s]"
      ]
     },
     "metadata": {},
     "output_type": "display_data"
    },
    {
     "name": "stdout",
     "output_type": "stream",
     "text": [
      "Epoch 7 [0/140] | Valid Loss: 0.0936 | Elapse: 0.88s\n",
      "Epoch 7 [139/140] | Valid Loss: 0.0839 | Elapse: 176.47s\n",
      "Epoch 7 - Train Loss: 0.0303 - Valid Loss: 0.8888 - Elapsed Time: 958.02s\n",
      "- Epoch 7: Best model found with loss = 0.8888.\n"
     ]
    },
    {
     "data": {
      "application/vnd.jupyter.widget-view+json": {
       "model_id": "5a2e2bb6a8af4360b88c613eac3b0c8d",
       "version_major": 2,
       "version_minor": 0
      },
      "text/plain": [
       "Train:   0%|          | 0/559 [00:00<?, ?batch/s]"
      ]
     },
     "metadata": {},
     "output_type": "display_data"
    },
    {
     "name": "stdout",
     "output_type": "stream",
     "text": [
      "Epoch 8 [0/559] | Train Loss: 0.0108 Grad: 29399.3164 LR: 6.4302e-06 | Elapse: 1.63s\n",
      "Epoch 8 [500/559] | Train Loss: 0.0237 Grad: 6178.5142 LR: 5.4093e-06 | Elapse: 660.03s\n",
      "Epoch 8 [558/559] | Train Loss: 0.0224 Grad: 27034.6348 LR: 5.2888e-06 | Elapse: 732.26s\n"
     ]
    },
    {
     "data": {
      "application/vnd.jupyter.widget-view+json": {
       "model_id": "8835a11b712a4a6581cf8e0c23682caf",
       "version_major": 2,
       "version_minor": 0
      },
      "text/plain": [
       "Valid:   0%|          | 0/140 [00:00<?, ?batch/s]"
      ]
     },
     "metadata": {},
     "output_type": "display_data"
    },
    {
     "name": "stdout",
     "output_type": "stream",
     "text": [
      "Epoch 8 [0/140] | Valid Loss: 0.0897 | Elapse: 0.90s\n",
      "Epoch 8 [139/140] | Valid Loss: 0.0791 | Elapse: 178.92s\n",
      "Epoch 8 - Train Loss: 0.0224 - Valid Loss: 0.9013 - Elapsed Time: 968.97s\n",
      "- Epoch 8: Best model found with loss = 0.9013.\n"
     ]
    },
    {
     "data": {
      "application/vnd.jupyter.widget-view+json": {
       "model_id": "312b707028da4809aa1e630308e52800",
       "version_major": 2,
       "version_minor": 0
      },
      "text/plain": [
       "Train:   0%|          | 0/559 [00:00<?, ?batch/s]"
      ]
     },
     "metadata": {},
     "output_type": "display_data"
    },
    {
     "name": "stdout",
     "output_type": "stream",
     "text": [
      "Epoch 9 [0/559] | Train Loss: 0.0083 Grad: 21065.5977 LR: 5.2868e-06 | Elapse: 1.36s\n"
     ]
    }
   ],
   "source": [
    "# --------------------------------------------------------------\n",
    "# Training Loop Starts Here\n",
    "# --------------------------------------------------------------\n",
    "loader_kwargs = {\n",
    "    \"batch_size\": config.batch_size,\n",
    "    \"num_workers\": config.num_workers,\n",
    "    \"pin_memory\": True,\n",
    "    \"shuffle\": False,\n",
    "    'collate_fn': collate_fn\n",
    "}\n",
    "\n",
    "prediction_columns = [f\"pred_{i}\" for i in range(config.n_classes)]\n",
    "    \n",
    "for fold_id in range(0, config.n_splits):\n",
    "    tik = time()\n",
    "    \n",
    "    wandb_init(project_name=config.model_name, run_name=f\"fold_{fold_id}\", config=config)\n",
    "    \n",
    "    train_df = df_audio_meta[df_audio_meta['fold'] != fold_id].copy().reset_index(drop=True)\n",
    "    valid_df = df_audio_meta[df_audio_meta['fold'] == fold_id].copy().reset_index(drop=True)\n",
    "    \n",
    "    train_folds = BirdSongDataset(train_df, config)\n",
    "    valid_folds = BirdSongDataset(valid_df, config)\n",
    "    \n",
    "    train_loader = DataLoader(train_folds, **loader_kwargs)\n",
    "    valid_loader = DataLoader(valid_folds, **loader_kwargs)\n",
    "        \n",
    "    model = BirdAST(config.backbone_name, config.n_classes, n_mlp_layers=1, activation='silu')\n",
    "    \n",
    "    trainer = Trainer(model, loss_fn, eval_fn, logger, config, is_higher_better=True)\n",
    "    \n",
    "    best_weights, best_preds, loss_records = trainer.train( \n",
    "        train_loader, \n",
    "        valid_loader, \n",
    "        print_epoch_freq=config.print_epoch_freq,\n",
    "        from_checkpoint=None,\n",
    "        use_tqdm=True\n",
    "        )\n",
    "    \n",
    "    loss_history.append(loss_records)\n",
    "    \n",
    "    df_valid = pd.DataFrame({'species_id': valid_df['species_id'], 'fold': fold})\n",
    "    df_valid[prediction_columns] = best_preds\n",
    "    \n",
    "    oof = pd.concat([oof, df_valid], axis=0).reset_index(drop=True)\n",
    "    \n",
    "    save_model_name = f\"{config.model_name}_fold_{fold_id}\"\n",
    "    torch.save(best_weights, f\"{config.log_dir}/{save_model_name}.pth\")\n",
    "\n",
    "    del train_folds, valid_folds, train_loader, valid_loader\n",
    "    torch.cuda.empty_cache()\n",
    "    gc.collect()\n",
    "    \n",
    "    valid_loss_fold = eval_fn(\n",
    "        torch.tensor(oof[prediction_columns].values),\n",
    "        torch.tensor(oof['species_id'].values)\n",
    "    )\n",
    "    logger.info(f\"Fold {fold_id} | Time: {(time() - tik)/60:.2f}min | Overall Evaluation Loss: {valid_loss_fold:.4f}\")\n",
    "    \n",
    "    # Save the oof predictions\n",
    "    oof.to_csv(f\"{config.log_dir}/{config.model_name}_oof.csv\", index=False)\n",
    "    \n",
    "    wandb.finish()\n",
    "        \n",
    "# Summarize the final results\n",
    "valid_loss = eval_fn(\n",
    "    torch.tensor(oof[prediction_columns].values),\n",
    "    torch.tensor(oof['species_id'].values)\n",
    ")\n",
    "\n",
    "plot_loss_record(loss_history, valid_loss, start_at=0, save_to=os.path.join(config.log_dir, f\"{config.model_name}_loss.jpg\"))"
   ]
  },
  {
   "cell_type": "code",
   "execution_count": 21,
   "metadata": {},
   "outputs": [
    {
     "data": {
      "text/html": [
       "<div>\n",
       "<style scoped>\n",
       "    .dataframe tbody tr th:only-of-type {\n",
       "        vertical-align: middle;\n",
       "    }\n",
       "\n",
       "    .dataframe tbody tr th {\n",
       "        vertical-align: top;\n",
       "    }\n",
       "\n",
       "    .dataframe thead th {\n",
       "        text-align: right;\n",
       "    }\n",
       "</style>\n",
       "<table border=\"1\" class=\"dataframe\">\n",
       "  <thead>\n",
       "    <tr style=\"text-align: right;\">\n",
       "      <th></th>\n",
       "      <th>species_id</th>\n",
       "      <th>fold</th>\n",
       "      <th>pred_0</th>\n",
       "      <th>pred_1</th>\n",
       "      <th>pred_2</th>\n",
       "      <th>pred_3</th>\n",
       "      <th>pred_4</th>\n",
       "      <th>pred_5</th>\n",
       "      <th>pred_6</th>\n",
       "      <th>pred_7</th>\n",
       "      <th>...</th>\n",
       "      <th>pred_718</th>\n",
       "      <th>pred_719</th>\n",
       "      <th>pred_720</th>\n",
       "      <th>pred_721</th>\n",
       "      <th>pred_722</th>\n",
       "      <th>pred_723</th>\n",
       "      <th>pred_724</th>\n",
       "      <th>pred_725</th>\n",
       "      <th>pred_726</th>\n",
       "      <th>pred_727</th>\n",
       "    </tr>\n",
       "  </thead>\n",
       "  <tbody>\n",
       "    <tr>\n",
       "      <th>0</th>\n",
       "      <td>329</td>\n",
       "      <td>4</td>\n",
       "      <td>0.110719</td>\n",
       "      <td>-0.818163</td>\n",
       "      <td>-1.820923</td>\n",
       "      <td>-0.850833</td>\n",
       "      <td>-2.183810</td>\n",
       "      <td>-2.039678</td>\n",
       "      <td>-1.590111</td>\n",
       "      <td>-0.043910</td>\n",
       "      <td>...</td>\n",
       "      <td>-0.360445</td>\n",
       "      <td>1.134292</td>\n",
       "      <td>-3.051804</td>\n",
       "      <td>0.029355</td>\n",
       "      <td>0.023843</td>\n",
       "      <td>-0.765804</td>\n",
       "      <td>-0.214190</td>\n",
       "      <td>-0.622933</td>\n",
       "      <td>-1.878577</td>\n",
       "      <td>-0.188837</td>\n",
       "    </tr>\n",
       "    <tr>\n",
       "      <th>1</th>\n",
       "      <td>329</td>\n",
       "      <td>4</td>\n",
       "      <td>0.556078</td>\n",
       "      <td>-0.730475</td>\n",
       "      <td>-0.564465</td>\n",
       "      <td>-0.636509</td>\n",
       "      <td>-1.993192</td>\n",
       "      <td>-2.238650</td>\n",
       "      <td>-2.012083</td>\n",
       "      <td>-0.348798</td>\n",
       "      <td>...</td>\n",
       "      <td>-0.878334</td>\n",
       "      <td>0.814978</td>\n",
       "      <td>-2.358797</td>\n",
       "      <td>0.029363</td>\n",
       "      <td>-0.183402</td>\n",
       "      <td>-0.834180</td>\n",
       "      <td>-0.392925</td>\n",
       "      <td>-0.542034</td>\n",
       "      <td>-1.744697</td>\n",
       "      <td>-0.635733</td>\n",
       "    </tr>\n",
       "    <tr>\n",
       "      <th>2</th>\n",
       "      <td>329</td>\n",
       "      <td>4</td>\n",
       "      <td>0.083548</td>\n",
       "      <td>-0.387529</td>\n",
       "      <td>-1.165738</td>\n",
       "      <td>-1.174039</td>\n",
       "      <td>-1.502098</td>\n",
       "      <td>-1.848693</td>\n",
       "      <td>-1.136064</td>\n",
       "      <td>-0.374658</td>\n",
       "      <td>...</td>\n",
       "      <td>0.473307</td>\n",
       "      <td>0.340365</td>\n",
       "      <td>-2.241143</td>\n",
       "      <td>0.515801</td>\n",
       "      <td>-0.446851</td>\n",
       "      <td>-0.993739</td>\n",
       "      <td>-0.735773</td>\n",
       "      <td>-0.474315</td>\n",
       "      <td>-1.689126</td>\n",
       "      <td>-0.206630</td>\n",
       "    </tr>\n",
       "    <tr>\n",
       "      <th>3</th>\n",
       "      <td>329</td>\n",
       "      <td>4</td>\n",
       "      <td>0.748796</td>\n",
       "      <td>0.798054</td>\n",
       "      <td>-1.071437</td>\n",
       "      <td>-0.643391</td>\n",
       "      <td>-1.918263</td>\n",
       "      <td>-2.719134</td>\n",
       "      <td>-1.833319</td>\n",
       "      <td>-0.479189</td>\n",
       "      <td>...</td>\n",
       "      <td>-1.452024</td>\n",
       "      <td>-0.169492</td>\n",
       "      <td>-3.154814</td>\n",
       "      <td>-0.936500</td>\n",
       "      <td>-1.200979</td>\n",
       "      <td>-1.524884</td>\n",
       "      <td>-1.008059</td>\n",
       "      <td>-0.342774</td>\n",
       "      <td>-2.463296</td>\n",
       "      <td>0.319915</td>\n",
       "    </tr>\n",
       "    <tr>\n",
       "      <th>4</th>\n",
       "      <td>714</td>\n",
       "      <td>4</td>\n",
       "      <td>-1.311434</td>\n",
       "      <td>0.489721</td>\n",
       "      <td>-0.833095</td>\n",
       "      <td>-1.067887</td>\n",
       "      <td>-1.325536</td>\n",
       "      <td>-1.759557</td>\n",
       "      <td>-1.099963</td>\n",
       "      <td>-1.366372</td>\n",
       "      <td>...</td>\n",
       "      <td>-0.958520</td>\n",
       "      <td>0.262758</td>\n",
       "      <td>-2.394817</td>\n",
       "      <td>-0.995289</td>\n",
       "      <td>-1.082945</td>\n",
       "      <td>-1.230805</td>\n",
       "      <td>-0.907885</td>\n",
       "      <td>-0.723380</td>\n",
       "      <td>-1.286123</td>\n",
       "      <td>-0.155440</td>\n",
       "    </tr>\n",
       "  </tbody>\n",
       "</table>\n",
       "<p>5 rows × 730 columns</p>\n",
       "</div>"
      ],
      "text/plain": [
       "   species_id  fold    pred_0    pred_1    pred_2    pred_3    pred_4  \\\n",
       "0         329     4  0.110719 -0.818163 -1.820923 -0.850833 -2.183810   \n",
       "1         329     4  0.556078 -0.730475 -0.564465 -0.636509 -1.993192   \n",
       "2         329     4  0.083548 -0.387529 -1.165738 -1.174039 -1.502098   \n",
       "3         329     4  0.748796  0.798054 -1.071437 -0.643391 -1.918263   \n",
       "4         714     4 -1.311434  0.489721 -0.833095 -1.067887 -1.325536   \n",
       "\n",
       "     pred_5    pred_6    pred_7  ...  pred_718  pred_719  pred_720  pred_721  \\\n",
       "0 -2.039678 -1.590111 -0.043910  ... -0.360445  1.134292 -3.051804  0.029355   \n",
       "1 -2.238650 -2.012083 -0.348798  ... -0.878334  0.814978 -2.358797  0.029363   \n",
       "2 -1.848693 -1.136064 -0.374658  ...  0.473307  0.340365 -2.241143  0.515801   \n",
       "3 -2.719134 -1.833319 -0.479189  ... -1.452024 -0.169492 -3.154814 -0.936500   \n",
       "4 -1.759557 -1.099963 -1.366372  ... -0.958520  0.262758 -2.394817 -0.995289   \n",
       "\n",
       "   pred_722  pred_723  pred_724  pred_725  pred_726  pred_727  \n",
       "0  0.023843 -0.765804 -0.214190 -0.622933 -1.878577 -0.188837  \n",
       "1 -0.183402 -0.834180 -0.392925 -0.542034 -1.744697 -0.635733  \n",
       "2 -0.446851 -0.993739 -0.735773 -0.474315 -1.689126 -0.206630  \n",
       "3 -1.200979 -1.524884 -1.008059 -0.342774 -2.463296  0.319915  \n",
       "4 -1.082945 -1.230805 -0.907885 -0.723380 -1.286123 -0.155440  \n",
       "\n",
       "[5 rows x 730 columns]"
      ]
     },
     "execution_count": 21,
     "metadata": {},
     "output_type": "execute_result"
    }
   ],
   "source": [
    "oof.head()"
   ]
  },
  {
   "cell_type": "code",
   "execution_count": null,
   "metadata": {},
   "outputs": [],
   "source": [
    "# parse training log\n",
    "import re \n",
    "\n",
    "log_file = f\"{config.log_dir}/{config.model_name}_training.log\"\n",
    "\n",
    "with open(log_file, 'r') as f:\n",
    "    lines = f.readlines()\n",
    "    \n",
    "epoch_records = []\n",
    "epoch_pattern = re.compile(r\"Epoch (\\d+) - Train Loss: (\\d+\\.\\d+) - Valid Loss: (\\d+\\.\\d+) - Elapsed Time: (\\d+\\.\\d+)s\")\n",
    "\n",
    "for line in lines:\n",
    "    \n",
    "    try:\n",
    "        epoch, train_loss, valid_loss, elapsed = epoch_pattern.findall(line)[0]\n",
    "        epoch_records.append({\n",
    "            \"epoch\": int(epoch),\n",
    "            \"train_loss\": float(train_loss),\n",
    "            \"valid_loss\": float(valid_loss),\n",
    "            \"elapsed\": float(elapsed)\n",
    "        })\n",
    "        \n",
    "    except:\n",
    "        pass\n",
    "    \n",
    "df_epoch_records = pd.DataFrame(epoch_records)\n",
    "\n",
    "df_epoch_records['fold_id'] = df_epoch_records.index // 5\n",
    "\n",
    "df_epoch_records"
   ]
  },
  {
   "cell_type": "code",
   "execution_count": 7,
   "metadata": {},
   "outputs": [
    {
     "data": {
      "text/html": [
       "<div>\n",
       "<style scoped>\n",
       "    .dataframe tbody tr th:only-of-type {\n",
       "        vertical-align: middle;\n",
       "    }\n",
       "\n",
       "    .dataframe tbody tr th {\n",
       "        vertical-align: top;\n",
       "    }\n",
       "\n",
       "    .dataframe thead th {\n",
       "        text-align: right;\n",
       "    }\n",
       "</style>\n",
       "<table border=\"1\" class=\"dataframe\">\n",
       "  <thead>\n",
       "    <tr style=\"text-align: right;\">\n",
       "      <th></th>\n",
       "      <th>species_id</th>\n",
       "      <th>fold</th>\n",
       "      <th>pred_0</th>\n",
       "      <th>pred_1</th>\n",
       "      <th>pred_2</th>\n",
       "      <th>pred_3</th>\n",
       "      <th>pred_4</th>\n",
       "      <th>pred_5</th>\n",
       "      <th>pred_6</th>\n",
       "      <th>pred_7</th>\n",
       "      <th>...</th>\n",
       "      <th>pred_719</th>\n",
       "      <th>pred_720</th>\n",
       "      <th>pred_721</th>\n",
       "      <th>pred_722</th>\n",
       "      <th>pred_723</th>\n",
       "      <th>pred_724</th>\n",
       "      <th>pred_725</th>\n",
       "      <th>pred_726</th>\n",
       "      <th>pred_727</th>\n",
       "      <th>species_category</th>\n",
       "    </tr>\n",
       "  </thead>\n",
       "  <tbody>\n",
       "    <tr>\n",
       "      <th>0</th>\n",
       "      <td>329</td>\n",
       "      <td>4</td>\n",
       "      <td>0.110719</td>\n",
       "      <td>-0.818163</td>\n",
       "      <td>-1.820923</td>\n",
       "      <td>-0.850833</td>\n",
       "      <td>-2.183810</td>\n",
       "      <td>-2.039678</td>\n",
       "      <td>-1.590111</td>\n",
       "      <td>-0.043910</td>\n",
       "      <td>...</td>\n",
       "      <td>1.134292</td>\n",
       "      <td>-3.051804</td>\n",
       "      <td>0.029355</td>\n",
       "      <td>0.023843</td>\n",
       "      <td>-0.765804</td>\n",
       "      <td>-0.214190</td>\n",
       "      <td>-0.622933</td>\n",
       "      <td>-1.878577</td>\n",
       "      <td>-0.188837</td>\n",
       "      <td>0-50</td>\n",
       "    </tr>\n",
       "    <tr>\n",
       "      <th>1</th>\n",
       "      <td>329</td>\n",
       "      <td>4</td>\n",
       "      <td>0.556078</td>\n",
       "      <td>-0.730475</td>\n",
       "      <td>-0.564465</td>\n",
       "      <td>-0.636509</td>\n",
       "      <td>-1.993192</td>\n",
       "      <td>-2.238650</td>\n",
       "      <td>-2.012083</td>\n",
       "      <td>-0.348798</td>\n",
       "      <td>...</td>\n",
       "      <td>0.814978</td>\n",
       "      <td>-2.358797</td>\n",
       "      <td>0.029363</td>\n",
       "      <td>-0.183402</td>\n",
       "      <td>-0.834180</td>\n",
       "      <td>-0.392925</td>\n",
       "      <td>-0.542034</td>\n",
       "      <td>-1.744698</td>\n",
       "      <td>-0.635733</td>\n",
       "      <td>0-50</td>\n",
       "    </tr>\n",
       "    <tr>\n",
       "      <th>2</th>\n",
       "      <td>329</td>\n",
       "      <td>4</td>\n",
       "      <td>0.083548</td>\n",
       "      <td>-0.387529</td>\n",
       "      <td>-1.165739</td>\n",
       "      <td>-1.174039</td>\n",
       "      <td>-1.502098</td>\n",
       "      <td>-1.848693</td>\n",
       "      <td>-1.136064</td>\n",
       "      <td>-0.374658</td>\n",
       "      <td>...</td>\n",
       "      <td>0.340365</td>\n",
       "      <td>-2.241143</td>\n",
       "      <td>0.515801</td>\n",
       "      <td>-0.446852</td>\n",
       "      <td>-0.993739</td>\n",
       "      <td>-0.735773</td>\n",
       "      <td>-0.474315</td>\n",
       "      <td>-1.689126</td>\n",
       "      <td>-0.206630</td>\n",
       "      <td>0-50</td>\n",
       "    </tr>\n",
       "    <tr>\n",
       "      <th>3</th>\n",
       "      <td>329</td>\n",
       "      <td>4</td>\n",
       "      <td>0.748796</td>\n",
       "      <td>0.798054</td>\n",
       "      <td>-1.071437</td>\n",
       "      <td>-0.643391</td>\n",
       "      <td>-1.918263</td>\n",
       "      <td>-2.719134</td>\n",
       "      <td>-1.833319</td>\n",
       "      <td>-0.479189</td>\n",
       "      <td>...</td>\n",
       "      <td>-0.169492</td>\n",
       "      <td>-3.154815</td>\n",
       "      <td>-0.936500</td>\n",
       "      <td>-1.200979</td>\n",
       "      <td>-1.524884</td>\n",
       "      <td>-1.008059</td>\n",
       "      <td>-0.342774</td>\n",
       "      <td>-2.463296</td>\n",
       "      <td>0.319915</td>\n",
       "      <td>0-50</td>\n",
       "    </tr>\n",
       "    <tr>\n",
       "      <th>4</th>\n",
       "      <td>714</td>\n",
       "      <td>4</td>\n",
       "      <td>-1.311434</td>\n",
       "      <td>0.489721</td>\n",
       "      <td>-0.833095</td>\n",
       "      <td>-1.067887</td>\n",
       "      <td>-1.325536</td>\n",
       "      <td>-1.759557</td>\n",
       "      <td>-1.099963</td>\n",
       "      <td>-1.366372</td>\n",
       "      <td>...</td>\n",
       "      <td>0.262758</td>\n",
       "      <td>-2.394817</td>\n",
       "      <td>-0.995289</td>\n",
       "      <td>-1.082945</td>\n",
       "      <td>-1.230805</td>\n",
       "      <td>-0.907885</td>\n",
       "      <td>-0.723380</td>\n",
       "      <td>-1.286123</td>\n",
       "      <td>-0.155440</td>\n",
       "      <td>0-50</td>\n",
       "    </tr>\n",
       "  </tbody>\n",
       "</table>\n",
       "<p>5 rows × 731 columns</p>\n",
       "</div>"
      ],
      "text/plain": [
       "   species_id  fold    pred_0    pred_1    pred_2    pred_3    pred_4  \\\n",
       "0         329     4  0.110719 -0.818163 -1.820923 -0.850833 -2.183810   \n",
       "1         329     4  0.556078 -0.730475 -0.564465 -0.636509 -1.993192   \n",
       "2         329     4  0.083548 -0.387529 -1.165739 -1.174039 -1.502098   \n",
       "3         329     4  0.748796  0.798054 -1.071437 -0.643391 -1.918263   \n",
       "4         714     4 -1.311434  0.489721 -0.833095 -1.067887 -1.325536   \n",
       "\n",
       "     pred_5    pred_6    pred_7  ...  pred_719  pred_720  pred_721  pred_722  \\\n",
       "0 -2.039678 -1.590111 -0.043910  ...  1.134292 -3.051804  0.029355  0.023843   \n",
       "1 -2.238650 -2.012083 -0.348798  ...  0.814978 -2.358797  0.029363 -0.183402   \n",
       "2 -1.848693 -1.136064 -0.374658  ...  0.340365 -2.241143  0.515801 -0.446852   \n",
       "3 -2.719134 -1.833319 -0.479189  ... -0.169492 -3.154815 -0.936500 -1.200979   \n",
       "4 -1.759557 -1.099963 -1.366372  ...  0.262758 -2.394817 -0.995289 -1.082945   \n",
       "\n",
       "   pred_723  pred_724  pred_725  pred_726  pred_727  species_category  \n",
       "0 -0.765804 -0.214190 -0.622933 -1.878577 -0.188837              0-50  \n",
       "1 -0.834180 -0.392925 -0.542034 -1.744698 -0.635733              0-50  \n",
       "2 -0.993739 -0.735773 -0.474315 -1.689126 -0.206630              0-50  \n",
       "3 -1.524884 -1.008059 -0.342774 -2.463296  0.319915              0-50  \n",
       "4 -1.230805 -0.907885 -0.723380 -1.286123 -0.155440              0-50  \n",
       "\n",
       "[5 rows x 731 columns]"
      ]
     },
     "metadata": {},
     "output_type": "display_data"
    }
   ],
   "source": [
    "# analyze oof predictions\n",
    "df_oof = pd.read_csv(f\"{config.log_dir}/{config.model_name}_oof.csv\")\n",
    "df_oof['species_id'] = df_oof['species_id'].astype(int)\n",
    "\n",
    "species_category = pd.cut(\n",
    "    df_oof['species_id'].value_counts(), \n",
    "    bins=[0, 50, 120], \n",
    "    labels=['0-50', '50-120']\n",
    "    ).to_frame()\n",
    "\n",
    "species_category['count']\n",
    "\n",
    "df_oof['species_category'] = df_oof['species_id'].map({i: c for i, c in enumerate(species_category['count'])})\n",
    "\n",
    "prediction_columns = [f\"pred_{i}\" for i in range(config.n_classes)]\n",
    "\n",
    "display(df_oof.head())\n",
    "\n",
    "# eval_fn = ROC_AUC_Score(config, average='macro', multi_class='ovo')\n",
    "\n",
    "# # caculate the overall evaluation loss\n",
    "# eval_loss = eval_fn(\n",
    "#     torch.tensor(df_oof[prediction_columns].values),\n",
    "#     torch.tensor(df_oof['species_id'].values)\n",
    "# )\n",
    "\n",
    "# print(f\"Overall Evaluation Loss: {eval_loss:.4f}\")"
   ]
  },
  {
   "cell_type": "code",
   "execution_count": 8,
   "metadata": {},
   "outputs": [
    {
     "data": {
      "text/plain": [
       "728"
      ]
     },
     "execution_count": 8,
     "metadata": {},
     "output_type": "execute_result"
    }
   ],
   "source": [
    "len(df_oof['species_id'].unique())"
   ]
  },
  {
   "cell_type": "code",
   "execution_count": 11,
   "metadata": {},
   "outputs": [],
   "source": [
    "# make cm plots\n",
    "from sklearn.metrics import confusion_matrix\n",
    "import seaborn as sns\n",
    "\n",
    "def plot_confusion_matrix(y_true, y_pred, labels, save_to=None):\n",
    "    \n",
    "    cm = confusion_matrix(y_true, y_pred, labels=labels)\n",
    "    cm = cm / cm.sum(axis=1)[:, np.newaxis]\n",
    "    \n",
    "    plt.figure(figsize=(10, 10))\n",
    "    sns.heatmap(cm, annot=False, cmap=\"Blues\", xticklabels=labels, yticklabels=labels)\n",
    "    plt.xlabel(\"Predicted Label\")\n",
    "    plt.ylabel(\"True Label\")\n",
    "    # plt.xticks([])\n",
    "    # plt.yticks([])\n",
    "    plt.title(\"Normalized Confusion Matrix\")\n",
    "    \n",
    "    if save_to:\n",
    "        plt.savefig(save_to)\n",
    "    \n",
    "    plt.show()\n",
    "\n"
   ]
  },
  {
   "cell_type": "code",
   "execution_count": null,
   "metadata": {},
   "outputs": [],
   "source": [
    "# plot confusion matrix\n",
    "y_true = df_oof['species_id'].values\n",
    "y_pred = df_oof[prediction_columns].values.argmax(axis=1)\n",
    "\n",
    "labels = df_oof['species_id'].unique()\n",
    "labels.sort()\n",
    "\n",
    "plot_confusion_matrix(\n",
    "    y_true, y_pred, \n",
    "    labels=labels,\n",
    "    save_to=os.path.join(config.log_dir, f\"{config.model_name}_cm.jpg\")\n",
    "    )"
   ]
  },
  {
   "cell_type": "code",
   "execution_count": 12,
   "metadata": {},
   "outputs": [
    {
     "name": "stderr",
     "output_type": "stream",
     "text": [
      "/tmp/ipykernel_12994/3341622484.py:8: RuntimeWarning: invalid value encountered in divide\n",
      "  cm = cm / cm.sum(axis=1)[:, np.newaxis]\n"
     ]
    },
    {
     "data": {
      "image/png": "[encoded data removed]",
      "text/plain": [
       "<Figure size 1000x1000 with 2 Axes>"
      ]
     },
     "metadata": {},
     "output_type": "display_data"
    }
   ],
   "source": [
    "labels = df_oof['species_id'].unique()[:50]\n",
    "labels.sort()\n",
    "\n",
    "tmp = df_oof[df_oof['species_id'].isin(labels)].copy()\n",
    "# plot confusion matrix\n",
    "y_true = tmp['species_id'].values\n",
    "y_pred = tmp[prediction_columns].values.argmax(axis=1)\n",
    "\n",
    "plot_confusion_matrix(y_true, y_pred, labels=labels, save_to=None)"
   ]
  },
  {
   "cell_type": "code",
   "execution_count": null,
   "metadata": {},
   "outputs": [],
   "source": [
    "# calc F1, Precision, Recall, mAP \n",
    "from sklearn.metrics import f1_score, precision_score, recall_score \n",
    "import warnings\n",
    "\n",
    "warnings.filterwarnings(\"ignore\")\n",
    "\n",
    "print(species_category['count'].unique())\n",
    "\n",
    "for category_id in ['0-50', '50-120']:\n",
    "    tmp = df_oof[df_oof['species_category'] == category_id].copy().reset_index(drop=True)\n",
    "\n",
    "    y_true = tmp['species_id'].values\n",
    "    y_pred = tmp[prediction_columns].values.argmax(axis=1)\n",
    "\n",
    "    f1 = f1_score(y_true, y_pred, average='macro')\n",
    "    precision = precision_score(y_true, y_pred, average='macro')\n",
    "    recall = recall_score(y_true, y_pred, average='macro')\n",
    "\n",
    "    print(f\"Category: {category_id} | N_samples: {len(tmp)} | N_classes: {tmp['species_id'].nunique()} | F1: {f1} | Precision: {precision} | Recall: {recall:.4f}\")\n",
    "\n",
    "    # labels = tmp['species_id'].unique()\n",
    "    # cm = confusion_matrix(y_true, y_pred, labels=labels, normalize='pred')\n",
    "    \n",
    "    # plt.figure(figsize=(10, 10))\n",
    "    # sns.heatmap(cm, annot=False, cmap=\"Blues\", xticklabels=labels, yticklabels=labels)\n",
    "    # plt.xlabel(\"Predicted Label\")\n",
    "    # plt.ylabel(\"True Label\")\n",
    "    # plt.title(\"Normalized Confusion Matrix | Category: \" + category_id)\n",
    "    \n",
    "    # break"
   ]
  },
  {
   "cell_type": "code",
   "execution_count": null,
   "metadata": {},
   "outputs": [],
   "source": [
    "# plot training progress\n",
    "fig, ax = plt.subplots(1, 1, figsize=(9, 6))\n",
    "\n",
    "ax_right = ax.twinx()\n",
    "\n",
    "for fold_id in range(config.n_splits):\n",
    "    df_fold = df_epoch_records[df_epoch_records['fold_id'] == fold_id]\n",
    "    ax.plot(df_fold['epoch'], df_fold['train_loss'], marker='o', label=f\"Train_Fold_{fold_id}\")\n",
    "    ax_right.plot(df_fold['epoch'], df_fold['valid_loss'], linestyle=\"--\", marker='*', label=f\"Valid_Fold_{fold_id}\")\n",
    "\n",
    "ax.set_xticks(np.arange(0, config.epochs, 1)+1)\n",
    "ax.set_xlabel(\"Epoch\", fontsize=14, fontfamily='serif')\n",
    "ax.set_ylabel(\"Training Loss (Focal Loss)\", fontsize=14, fontfamily='serif')\n",
    "ax.set_title(f\"Training Progress | Overall ROCAUC: {eval_loss:.3f}\", fontsize=18, fontfamily='serif')\n",
    "ax.legend(loc='upper left')\n",
    "\n",
    "ax_right.set_ylabel(\"Validation Loss (ROCAUC)\", fontsize=14, fontfamily='serif')\n",
    "ax_right.legend(loc='lower left')\n",
    "\n",
    "ax.set_facecolor('#f3ede2')\n",
    "fig.set_facecolor('#f3ede2')\n",
    "\n",
    "fig.tight_layout()\n",
    "plt.show()"
   ]
  },
  {
   "cell_type": "code",
   "execution_count": null,
   "metadata": {},
   "outputs": [],
   "source": []
  }
 ],
 "metadata": {
  "kernelspec": {
   "display_name": "kaggle",
   "language": "python",
   "name": "python3"
  },
  "language_info": {
   "codemirror_mode": {
    "name": "ipython",
    "version": 3
   },
   "file_extension": ".py",
   "mimetype": "text/x-python",
   "name": "python",
   "nbconvert_exporter": "python",
   "pygments_lexer": "ipython3",
   "version": "3.10.12"
  }
 },
 "nbformat": 4,
 "nbformat_minor": 2
}
