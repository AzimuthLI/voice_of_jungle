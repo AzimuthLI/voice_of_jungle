{
 "cells": [
  {
   "cell_type": "code",
   "execution_count": 1,
   "metadata": {},
   "outputs": [
    {
     "name": "stdout",
     "output_type": "stream",
     "text": [
      "\u001b[34m\u001b[1mwandb\u001b[0m: Currently logged in as: \u001b[33ms-li2022\u001b[0m (\u001b[33msli2024\u001b[0m). Use \u001b[1m`wandb login --relogin`\u001b[0m to force relogin\n"
     ]
    }
   ],
   "source": [
    "!wandb login"
   ]
  },
  {
   "cell_type": "code",
   "execution_count": 2,
   "metadata": {},
   "outputs": [],
   "source": [
    "import os, gc, random\n",
    "import pandas as pd\n",
    "import numpy as np\n",
    "import matplotlib.pyplot as plt\n",
    "import seaborn as sns\n",
    "\n",
    "import librosa\n",
    "\n",
    "from tqdm.notebook import tqdm\n",
    "from glob import glob\n",
    "\n",
    "import torch\n",
    "from torch.utils.data import Dataset, DataLoader\n",
    "from torch import nn\n",
    "\n",
    "from torch.optim import AdamW\n",
    "from torch.optim.lr_scheduler import OneCycleLR\n",
    "from torch.cuda.amp import GradScaler, autocast\n",
    "import torch.nn.functional as F\n",
    "\n",
    "import timm\n",
    "from timm.models.vision_transformer import Block\n",
    "from timm.models.layers import to_2tuple\n",
    "\n",
    "from transformers import ASTFeatureExtractor\n",
    "\n",
    "from sklearn.model_selection import GroupKFold\n",
    "from sklearn.metrics import roc_auc_score\n",
    "\n",
    "from time import time\n",
    "\n",
    "# import custom AudioMAE module\n",
    "from ManausAudioMAE import *\n",
    "\n",
    "import wandb"
   ]
  },
  {
   "cell_type": "code",
   "execution_count": 3,
   "metadata": {},
   "outputs": [],
   "source": [
    "def get_logger(log_file='log.txt'):\n",
    "    import logging\n",
    "    import sys\n",
    "    \n",
    "    logger = logging.getLogger()\n",
    "    logger.setLevel(logging.INFO)\n",
    "    formatter = logging.Formatter('%(message)s')\n",
    "    # Logging to file\n",
    "    file_handler = logging.FileHandler(log_file)\n",
    "    file_handler.setFormatter(formatter)\n",
    "    logger.addHandler(file_handler)\n",
    "    # Logging to console\n",
    "    ch = logging.StreamHandler(sys.stdout)\n",
    "    ch.setFormatter(formatter)\n",
    "    logger.addHandler(ch)\n",
    "    \n",
    "    return logger\n",
    "\n",
    "def seed_everything(seed):\n",
    "    random.seed(seed)\n",
    "    os.environ['PYTHONHASHSEED'] = str(seed)\n",
    "    np.random.seed(seed)\n",
    "    torch.manual_seed(seed)\n",
    "    torch.cuda.manual_seed(seed)\n",
    "    torch.backends.cudnn.deterministic = True\n",
    "    torch.backends.cudnn.benchmark = True\n",
    "    \n",
    "def wandb_init(project_name, run_name, config):\n",
    "    config_dict = {\n",
    "        k: v for k, v in config.__dict__.items() if not k.startswith('_') and not callable(v) and k != 'copy'\n",
    "    }\n",
    "    run = wandb.init(project=project_name, name=run_name, config=config_dict)\n",
    "    return run\n",
    "\n",
    "class AverageMeter(object):\n",
    "    \"\"\"Computes and stores the average and current value\"\"\"\n",
    "    def __init__(self):\n",
    "        self.reset()\n",
    "\n",
    "    def reset(self):\n",
    "        self.value = 0\n",
    "        self.avg = 0\n",
    "        self.sum = 0\n",
    "        self.count = 0\n",
    "\n",
    "    def update(self, val, n=1):\n",
    "        self.value = val\n",
    "        self.sum += val * n\n",
    "        self.count += n\n",
    "        self.avg = self.sum / self.count"
   ]
  },
  {
   "cell_type": "code",
   "execution_count": 4,
   "metadata": {},
   "outputs": [
    {
     "name": "stdout",
     "output_type": "stream",
     "text": [
      "Device: cuda\n"
     ]
    }
   ],
   "source": [
    "DRIVE_FOLDER = \".\" #\"/content/drive/MyDrive/Colab Notebooks\"\n",
    "KEEP_COLS = ['category_number', 'common_name', 'audio_length', 'type', 'remarks', 'quality', 'scientific_name', 'mp3_link', 'region']\n",
    "\n",
    "class Config:\n",
    "    dataset_dir = f\"{DRIVE_FOLDER}/Audio_XenoCanto\"\n",
    "    model_name = \"Manaus_AudioMAE_CLS_GKFold\"\n",
    "    backbone_name = \"./training_logs/ViTMAE_Pretrain_best_0.01.pth\"\n",
    "    # number of classes in the dataset\n",
    "    n_classes = 728  \n",
    "    # Audio parameters\n",
    "    audio_sr = 16000 #Hz\n",
    "    segment_length = 10  #s\n",
    "    fft_window = 0.025 #s\n",
    "    hop_window_length = 0.01 #s\n",
    "    n_mels = 128\n",
    "    low_cut = 1000 #Hz\n",
    "    high_cut = 8000 #Hz\n",
    "    top_db = 100\n",
    "    # Training parameters\n",
    "    batch_size = 16 \n",
    "    num_workers = 0\n",
    "    n_splits = 5\n",
    "    log_dir = f\"{DRIVE_FOLDER}/training_logs\"\n",
    "    max_lr = 1e-5\n",
    "    epochs = 15\n",
    "    weight_decay = 0.01\n",
    "    lr_final_div = 1000\n",
    "    amp = True\n",
    "    grad_accum_steps = 1\n",
    "    max_grad_norm = 1e7\n",
    "    print_epoch_freq = 1\n",
    "    print_freq = 500\n",
    "    # model parameters\n",
    "    n_decoder_layers = 6\n",
    "    n_decoder_heads = 6\n",
    "    ff_dim_decoder = 2048\n",
    "    # seed\n",
    "    random_seed = 2046\n",
    "    \n",
    "    @classmethod\n",
    "    def copy(cls):\n",
    "        new_class = type('CustomConfig', (cls,), {k: v for k, v in cls.__dict__.items() if not k.startswith('__') and not callable(v)})\n",
    "        return new_class\n",
    "    \n",
    "config = Config.copy()\n",
    "\n",
    "if not os.path.exists(config.log_dir):\n",
    "    os.makedirs(config.log_dir)\n",
    "\n",
    "DEVICE = torch.device(\"cuda\" if torch.cuda.is_available() else \"cpu\")\n",
    "print(f\"Device: {DEVICE}\")\n",
    "\n",
    "seed_everything(config.random_seed)"
   ]
  },
  {
   "cell_type": "code",
   "execution_count": 5,
   "metadata": {},
   "outputs": [
    {
     "name": "stdout",
     "output_type": "stream",
     "text": [
      "Number of classes with less than 2 samples: 72\n",
      "Number of classes in dataset: 728\n",
      "Number of samples: 11171\n"
     ]
    },
    {
     "data": {
      "text/html": [
       "<div>\n",
       "<style scoped>\n",
       "    .dataframe tbody tr th:only-of-type {\n",
       "        vertical-align: middle;\n",
       "    }\n",
       "\n",
       "    .dataframe tbody tr th {\n",
       "        vertical-align: top;\n",
       "    }\n",
       "\n",
       "    .dataframe thead th {\n",
       "        text-align: right;\n",
       "    }\n",
       "</style>\n",
       "<table border=\"1\" class=\"dataframe\">\n",
       "  <thead>\n",
       "    <tr style=\"text-align: right;\">\n",
       "      <th></th>\n",
       "      <th>file_name</th>\n",
       "      <th>category_number</th>\n",
       "      <th>common_name</th>\n",
       "      <th>audio_length</th>\n",
       "      <th>type</th>\n",
       "      <th>remarks</th>\n",
       "      <th>quality</th>\n",
       "      <th>mp3_link</th>\n",
       "      <th>scientific_name</th>\n",
       "      <th>region</th>\n",
       "      <th>file_exists</th>\n",
       "      <th>species_id</th>\n",
       "      <th>group_id</th>\n",
       "    </tr>\n",
       "  </thead>\n",
       "  <tbody>\n",
       "    <tr>\n",
       "      <th>0</th>\n",
       "      <td>data/XC228210-Blue-crowned_Manakin_B_9369_0.wav</td>\n",
       "      <td>XC228210</td>\n",
       "      <td>Blue-crowned Manakin</td>\n",
       "      <td>0:20</td>\n",
       "      <td>call</td>\n",
       "      <td>ID certainty 80%. (Archiv. tape 393 side A tra...</td>\n",
       "      <td>B</td>\n",
       "      <td>//xeno-canto.org/sounds/uploaded/OOECIWCSWV/XC...</td>\n",
       "      <td>Lepidothrix_coronata</td>\n",
       "      <td>amazonas</td>\n",
       "      <td>True</td>\n",
       "      <td>329</td>\n",
       "      <td>0</td>\n",
       "    </tr>\n",
       "    <tr>\n",
       "      <th>1</th>\n",
       "      <td>data/XC228210-Blue-crowned_Manakin_B_9369_1.wav</td>\n",
       "      <td>XC228210</td>\n",
       "      <td>Blue-crowned Manakin</td>\n",
       "      <td>0:20</td>\n",
       "      <td>call</td>\n",
       "      <td>ID certainty 80%. (Archiv. tape 393 side A tra...</td>\n",
       "      <td>B</td>\n",
       "      <td>//xeno-canto.org/sounds/uploaded/OOECIWCSWV/XC...</td>\n",
       "      <td>Lepidothrix_coronata</td>\n",
       "      <td>amazonas</td>\n",
       "      <td>True</td>\n",
       "      <td>329</td>\n",
       "      <td>0</td>\n",
       "    </tr>\n",
       "    <tr>\n",
       "      <th>2</th>\n",
       "      <td>data/XC200163-PIPCOR03_0.wav</td>\n",
       "      <td>XC200163</td>\n",
       "      <td>Blue-crowned Manakin</td>\n",
       "      <td>0:42</td>\n",
       "      <td>call, song</td>\n",
       "      <td>left bank of rio Negro - terra firme forest, w...</td>\n",
       "      <td>C</td>\n",
       "      <td>//xeno-canto.org/sounds/uploaded/DGVLLRYDXS/XC...</td>\n",
       "      <td>Lepidothrix_coronata</td>\n",
       "      <td>amazonas</td>\n",
       "      <td>True</td>\n",
       "      <td>329</td>\n",
       "      <td>1</td>\n",
       "    </tr>\n",
       "    <tr>\n",
       "      <th>3</th>\n",
       "      <td>data/XC200163-PIPCOR03_1.wav</td>\n",
       "      <td>XC200163</td>\n",
       "      <td>Blue-crowned Manakin</td>\n",
       "      <td>0:42</td>\n",
       "      <td>call, song</td>\n",
       "      <td>left bank of rio Negro - terra firme forest, w...</td>\n",
       "      <td>C</td>\n",
       "      <td>//xeno-canto.org/sounds/uploaded/DGVLLRYDXS/XC...</td>\n",
       "      <td>Lepidothrix_coronata</td>\n",
       "      <td>amazonas</td>\n",
       "      <td>True</td>\n",
       "      <td>329</td>\n",
       "      <td>1</td>\n",
       "    </tr>\n",
       "    <tr>\n",
       "      <th>4</th>\n",
       "      <td>data/XC200163-PIPCOR03_2.wav</td>\n",
       "      <td>XC200163</td>\n",
       "      <td>Blue-crowned Manakin</td>\n",
       "      <td>0:42</td>\n",
       "      <td>call, song</td>\n",
       "      <td>left bank of rio Negro - terra firme forest, w...</td>\n",
       "      <td>C</td>\n",
       "      <td>//xeno-canto.org/sounds/uploaded/DGVLLRYDXS/XC...</td>\n",
       "      <td>Lepidothrix_coronata</td>\n",
       "      <td>amazonas</td>\n",
       "      <td>True</td>\n",
       "      <td>329</td>\n",
       "      <td>1</td>\n",
       "    </tr>\n",
       "  </tbody>\n",
       "</table>\n",
       "</div>"
      ],
      "text/plain": [
       "                                         file_name category_number  \\\n",
       "0  data/XC228210-Blue-crowned_Manakin_B_9369_0.wav        XC228210   \n",
       "1  data/XC228210-Blue-crowned_Manakin_B_9369_1.wav        XC228210   \n",
       "2                     data/XC200163-PIPCOR03_0.wav        XC200163   \n",
       "3                     data/XC200163-PIPCOR03_1.wav        XC200163   \n",
       "4                     data/XC200163-PIPCOR03_2.wav        XC200163   \n",
       "\n",
       "            common_name audio_length        type  \\\n",
       "0  Blue-crowned Manakin         0:20        call   \n",
       "1  Blue-crowned Manakin         0:20        call   \n",
       "2  Blue-crowned Manakin         0:42  call, song   \n",
       "3  Blue-crowned Manakin         0:42  call, song   \n",
       "4  Blue-crowned Manakin         0:42  call, song   \n",
       "\n",
       "                                             remarks quality  \\\n",
       "0  ID certainty 80%. (Archiv. tape 393 side A tra...       B   \n",
       "1  ID certainty 80%. (Archiv. tape 393 side A tra...       B   \n",
       "2  left bank of rio Negro - terra firme forest, w...       C   \n",
       "3  left bank of rio Negro - terra firme forest, w...       C   \n",
       "4  left bank of rio Negro - terra firme forest, w...       C   \n",
       "\n",
       "                                            mp3_link       scientific_name  \\\n",
       "0  //xeno-canto.org/sounds/uploaded/OOECIWCSWV/XC...  Lepidothrix_coronata   \n",
       "1  //xeno-canto.org/sounds/uploaded/OOECIWCSWV/XC...  Lepidothrix_coronata   \n",
       "2  //xeno-canto.org/sounds/uploaded/DGVLLRYDXS/XC...  Lepidothrix_coronata   \n",
       "3  //xeno-canto.org/sounds/uploaded/DGVLLRYDXS/XC...  Lepidothrix_coronata   \n",
       "4  //xeno-canto.org/sounds/uploaded/DGVLLRYDXS/XC...  Lepidothrix_coronata   \n",
       "\n",
       "     region  file_exists  species_id  group_id  \n",
       "0  amazonas         True         329         0  \n",
       "1  amazonas         True         329         0  \n",
       "2  amazonas         True         329         1  \n",
       "3  amazonas         True         329         1  \n",
       "4  amazonas         True         329         1  "
      ]
     },
     "execution_count": 5,
     "metadata": {},
     "output_type": "execute_result"
    }
   ],
   "source": [
    "df_audio_meta = pd.read_csv(f\"{config.dataset_dir}/metadata.csv\", nrows=None)\n",
    "df_audio_meta = df_audio_meta.dropna().reset_index(drop=True)\n",
    "\n",
    "# Filter out files that do not exist\n",
    "df_audio_meta['file_exists'] = df_audio_meta['file_name'].apply(lambda x: os.path.exists(f\"{config.dataset_dir}/{x}\"))\n",
    "df_audio_meta = df_audio_meta[df_audio_meta['file_exists']].reset_index(drop=True)\n",
    "\n",
    "# parse scientific names\n",
    "df_audio_meta['scientific_name'] = df_audio_meta['scientific_name'].apply(lambda x: \"_\".join(x.split(\" \")))\n",
    "\n",
    "# drop species with less than 2 samples\n",
    "class_counts = df_audio_meta['scientific_name'].value_counts()\n",
    "print(f\"Number of classes with less than 2 samples: {len(class_counts[class_counts < 2])}\")\n",
    "\n",
    "df_audio_meta = df_audio_meta[df_audio_meta['scientific_name'].isin(class_counts[class_counts > 1].index)].copy().reset_index(drop=True)\n",
    "\n",
    "# encode scientific names to label ids\n",
    "label_ids_list = df_audio_meta['scientific_name'].unique().tolist()\n",
    "label_ids_list.sort()\n",
    "label_to_id = {label: i for i, label in enumerate(label_ids_list)}\n",
    "df_audio_meta['species_id'] = df_audio_meta['scientific_name'].map(label_to_id)\n",
    "\n",
    "# save the label mapping\n",
    "label_mapping = pd.DataFrame(label_to_id.items(), columns=['scientific_name', 'species_id'])\n",
    "label_mapping.to_csv(f\"{config.log_dir}/{config.model_name}_label_map.csv\", index=False)\n",
    "\n",
    "# drop samples with no labels\n",
    "df_audio_meta.dropna(subset=['species_id'], inplace=True)\n",
    "df_audio_meta.reset_index(drop=True, inplace=True)\n",
    "df_audio_meta['species_id'] = df_audio_meta['species_id'].astype(int)\n",
    "\n",
    "print(f\"Number of classes in dataset: {df_audio_meta['species_id'].nunique()}\")\n",
    "print(f'Number of samples:', len(df_audio_meta))\n",
    "\n",
    "# save the number of classes in the config\n",
    "config.n_classes = df_audio_meta['species_id'].nunique()\n",
    "\n",
    "# encode mp3 links to group ids for 5-folds\n",
    "group_ids = df_audio_meta['mp3_link'].unique().tolist()\n",
    "group_ids_map = {group_id: i for i, group_id in enumerate(group_ids)}\n",
    "df_audio_meta['group_id'] = df_audio_meta['mp3_link'].map(group_ids_map)\n",
    "\n",
    "df_audio_meta.to_csv(f\"{config.log_dir}/{config.model_name}_metadata.csv\", index=False)\n",
    "\n",
    "df_audio_meta.head(5)"
   ]
  },
  {
   "cell_type": "code",
   "execution_count": 6,
   "metadata": {},
   "outputs": [
    {
     "name": "stdout",
     "output_type": "stream",
     "text": [
      "Number of species in greater_manaus: 197\n",
      "Number of species in amazonas: 724\n",
      "Number of species in both regions: 193\n"
     ]
    }
   ],
   "source": [
    "# check if all species in greater_manaus are in amazonas\n",
    "greater_manaus = df_audio_meta[df_audio_meta['region'] == 'greater_manaus']\n",
    "amazonas = df_audio_meta[df_audio_meta['region'] == 'amazonas']\n",
    "\n",
    "print('Number of species in greater_manaus:', len(greater_manaus['scientific_name'].unique()))\n",
    "print('Number of species in amazonas:', len(amazonas['scientific_name'].unique()))\n",
    "\n",
    "shared_species = [x for x in greater_manaus['scientific_name'].unique().tolist() if x in amazonas['scientific_name'].unique().tolist()]\n",
    "\n",
    "print('Number of species in both regions:', len(shared_species))"
   ]
  },
  {
   "cell_type": "code",
   "execution_count": 7,
   "metadata": {},
   "outputs": [
    {
     "data": {
      "image/png": "[encoded data removed]",
      "text/plain": [
       "<Figure size 1200x300 with 1 Axes>"
      ]
     },
     "metadata": {},
     "output_type": "display_data"
    }
   ],
   "source": [
    "# calculate the number of samples per class and weights for focal loss\n",
    "class_counts = df_audio_meta['species_id'].value_counts().sort_index()\n",
    "class_weights = 1 / class_counts\n",
    "\n",
    "# plot the distribution of the number of samples per class\n",
    "fig, ax = plt.subplots(figsize=(12, 3))\n",
    "\n",
    "class_counts_sorted = class_counts.sort_values(ascending=False)\n",
    "class_counts.sort_values(ascending=False)[0:300].plot(ax=ax, kind='bar', color='blue')\n",
    "ax.set_xticklabels([])\n",
    "ax.tick_params(axis='y', labelcolor='black', labelsize=12, labelfontfamily='serif')\n",
    "ax.set_xlabel('Bird species (sorted by number of samples)', fontsize=14, fontfamily='serif')\n",
    "ax.set_ylabel('Number of Samples', fontsize=14, fontfamily='serif')\n",
    "ax.set_title('Number of Samples per Bird Species [Xeno-Canto]', fontsize=18, fontfamily='serif')\n",
    "ax.set_facecolor('#f3ede2')\n",
    "fig.set_facecolor('#f3ede2')\n",
    "plt.grid(axis='y', linestyle='--', alpha=0.6)\n",
    "\n",
    "plt.tight_layout()\n",
    "plt.show()"
   ]
  },
  {
   "cell_type": "code",
   "execution_count": 8,
   "metadata": {},
   "outputs": [
    {
     "name": "stdout",
     "output_type": "stream",
     "text": [
      "./Audio_XenoCanto/data/XC424956-Tachyphonus_cristatus_Musa_1133_2.wav\n"
     ]
    },
    {
     "data": {
      "image/png": "[encoded data removed]",
      "text/plain": [
       "<Figure size 900x400 with 2 Axes>"
      ]
     },
     "metadata": {},
     "output_type": "display_data"
    }
   ],
   "source": [
    "# visualize a sample audio file & spectrogram\n",
    "sample = df_audio_meta.sample(1)\n",
    "\n",
    "audio_file = f\"{config.dataset_dir}/{sample['file_name'].values[0]}\"\n",
    "print(audio_file)\n",
    "\n",
    "y, sr = librosa.load(audio_file, sr=config.audio_sr)\n",
    "\n",
    "meta_str = f\"{sample['common_name'].values[0]} | {sample['scientific_name'].values[0]} | {sample['region'].values[0]}\"\n",
    "\n",
    "fig, axes = plt.subplots(2, 1, figsize=(9, 4))\n",
    "\n",
    "axes[0].plot(y)\n",
    "axes[0].set_title(meta_str, fontsize=14, fontfamily='serif')\n",
    "axes[0].set_xlabel('Time (samples)', fontsize=12, fontfamily='serif')\n",
    "axes[0].set_ylabel('Amplitude', fontsize=12, fontfamily='serif')\n",
    "\n",
    "mel_spec = ASTFeatureExtractor()(y, sampling_rate=sr, padding=\"max_length\", return_tensors=\"np\")[\"input_values\"]\n",
    "\n",
    "axes[1].imshow(mel_spec[0].T, aspect='auto', origin='lower', cmap='plasma')\n",
    "axes[1].set_xlabel('Time (frames)', fontsize=12, fontfamily='serif')\n",
    "axes[1].set_ylabel('Mel Frequency', fontsize=12, fontfamily='serif')\n",
    "\n",
    "for ax in axes:\n",
    "    ax.set_facecolor('#f3ede2')\n",
    "    \n",
    "fig.set_facecolor('#f3ede2')\n",
    "fig.tight_layout()\n",
    "plt.show()"
   ]
  },
  {
   "cell_type": "code",
   "execution_count": 9,
   "metadata": {},
   "outputs": [],
   "source": [
    "class BirdSongDataset(Dataset):\n",
    "    \n",
    "    def __init__(self, df_audio_meta, config):\n",
    "        self.df_audio_meta = df_audio_meta\n",
    "        self.feature_extractor = ASTFeatureExtractor()\n",
    "        self.config = config\n",
    "    \n",
    "    def __len__(self):\n",
    "        return len(self.df_audio_meta)\n",
    "\n",
    "    def __getitem__(self, idx):\n",
    "        row = self.df_audio_meta.iloc[idx]\n",
    "        audio_path = f\"{self.config.dataset_dir}/{row['file_name']}\"\n",
    "        audio_arr, sr = self.get_audio(audio_path)\n",
    "        spec = self.feature_extractor(audio_arr, sampling_rate=sr, padding=\"max_length\", return_tensors=\"pt\")\n",
    "        return spec['input_values'].squeeze(0), row['species_id']\n",
    "\n",
    "    def get_audio(self, audio_path):\n",
    "        audio, sr = librosa.load(audio_path, sr=self.config.audio_sr)\n",
    "        return audio, sr\n",
    "\n",
    "def collate_fn(batch):\n",
    "    inputs = [x[0] for x in batch]\n",
    "    targets = [x[1] for x in batch]\n",
    "    data_dict = {\n",
    "        \"input_ids\": torch.nn.utils.rnn.pad_sequence(inputs, batch_first=True, padding_value=0),\n",
    "        \"labels\": torch.tensor(targets)\n",
    "    }\n",
    "    return data_dict"
   ]
  },
  {
   "cell_type": "code",
   "execution_count": 10,
   "metadata": {},
   "outputs": [],
   "source": [
    "class SelfAttentionPooling(nn.Module):\n",
    "    \"\"\"\n",
    "    Implementation of SelfAttentionPooling \n",
    "    Original Paper: Self-Attention Encoding and Pooling for Speaker Recognition\n",
    "    https://arxiv.org/pdf/2008.01077v1.pdf\n",
    "    \"\"\"\n",
    "    def __init__(self, input_dim):\n",
    "        super(SelfAttentionPooling, self).__init__()\n",
    "        self.W = nn.Linear(input_dim, 1)\n",
    "        self.softmax = nn.Softmax(dim=1)\n",
    "        \n",
    "    def forward(self, batch_rep):\n",
    "        \"\"\"\n",
    "        input:\n",
    "            batch_rep : size (N, T, H), N: batch size, T: sequence length, H: Hidden dimension\n",
    "        attention_weight:\n",
    "            att_w : size (N, T, 1)\n",
    "        return:\n",
    "            utter_rep: size (N, H)\n",
    "        \"\"\"\n",
    "        att_w = self.softmax(self.W(batch_rep).squeeze(-1)).unsqueeze(-1)\n",
    "        utter_rep = torch.sum(batch_rep * att_w, dim=1)\n",
    "\n",
    "        return utter_rep\n",
    "\n",
    "\n",
    "class BirdAudioMAE(nn.Module):\n",
    "    \n",
    "    def __init__(self, basename, n_classes, device, n_mlp_layers=1, activation='silu'):\n",
    "        super(BirdAudioMAE, self).__init__()\n",
    "        \n",
    "        # pre-trained backbone\n",
    "        checkpoint = torch.load(basename, map_location=device)\n",
    "        self.vit_encoder = ViTEncoder(backbone_name='hf_hub:gaunernst/vit_base_patch16_1024_128.audiomae_as2m', contextual_depth=11)\n",
    "        self.vit_encoder.load_state_dict({k.replace('enc_model.', ''): v for k, v in checkpoint.items() if 'enc_model' in k})\n",
    "        \n",
    "        self.hidden_size = self.vit_encoder.embed_dim\n",
    "        \n",
    "        # set activation functions\n",
    "        if activation == 'relu':\n",
    "            self.activation = nn.ReLU()\n",
    "        elif activation == 'silu':\n",
    "            self.activation = nn.SiLU()\n",
    "        elif activation == 'gelu':\n",
    "            self.activation = nn.GELU()\n",
    "        else:\n",
    "            raise ValueError(\"Unsupported activation function. Choose 'relu', 'silu' or 'gelu'\")\n",
    "        \n",
    "        # #define self-attention pooling layer\n",
    "        # self.sa_pool = SelfAttentionPooling(self.hidden_size)\n",
    "        \n",
    "        # define MLP layers with activation\n",
    "        layers = []\n",
    "        for _ in range(n_mlp_layers):\n",
    "            layers.append(nn.Linear(self.hidden_size, self.hidden_size))\n",
    "            layers.append(self.activation)\n",
    "        layers.append(nn.Linear(self.hidden_size, n_classes))\n",
    "        self.mlp = nn.Sequential(*layers)\n",
    "        \n",
    "        \n",
    "    def forward(self, spectrogram):\n",
    "        # spectrogram: (batch_size, n_frames, n_mels)\n",
    "        # output: (batch_size, n_classes)\n",
    "        \n",
    "        encoder_output = self.vit_encoder(spectrogram.unsqueeze(1))\n",
    "        # pool_output = self.sa_pool(encoder_output)\n",
    "        logits = self.mlp(encoder_output[:, 0, :])\n",
    "        \n",
    "        return {'logits': logits}"
   ]
  },
  {
   "cell_type": "code",
   "execution_count": 11,
   "metadata": {},
   "outputs": [],
   "source": [
    "# define loss_fn and eval_fn\n",
    "class FocalLoss(nn.Module):\n",
    "    \n",
    "    def __init__(self, gamma=0, alpha=None, reduction='mean', device=DEVICE):\n",
    "        super(FocalLoss, self).__init__()\n",
    "        self.gamma = gamma\n",
    "        self.reduction = reduction\n",
    "        \n",
    "        if isinstance(alpha, (float, int, )): \n",
    "            self.alpha = torch.Tensor([alpha, 1-alpha])\n",
    "        elif isinstance(alpha, (list, np.ndarray)): \n",
    "            self.alpha = torch.tensor(alpha, dtype=torch.float32, device=device)\n",
    "        else:\n",
    "            raise TypeError('Invalid alpha type')\n",
    "        \n",
    "        self.ce_loss = nn.CrossEntropyLoss(weight=self.alpha, reduction='none')\n",
    "\n",
    "    def forward(self, logits, targets):\n",
    "        ce_loss = self.ce_loss(logits, targets) # nn.CrossEntropyLoss already applies log_softmax\n",
    "        pt = torch.exp(-ce_loss) # CE = -log(p_t) -> p_t = exp(-CE)\n",
    "        \n",
    "        focal_loss = (1 - pt) ** self.gamma * ce_loss\n",
    "        \n",
    "        return_method = {\n",
    "            'mean': torch.mean,\n",
    "            'sum': torch.sum,\n",
    "            'none': lambda x: x\n",
    "        }\n",
    "        \n",
    "        return return_method[self.reduction](focal_loss)\n",
    "        \n",
    "# eval_fn\n",
    "class ROC_AUC_Score(nn.Module):\n",
    "    \n",
    "    def __init__(self, config, average='macro', multi_class='ovo'):\n",
    "        super(ROC_AUC_Score, self).__init__()\n",
    "        self.num_classes = config.n_classes\n",
    "        self.average = average\n",
    "        self.multi_class = multi_class  # 'ovo' (one-vs-one) or 'ovr' (one-vs-rest)\n",
    "        self.label_ids = np.arange(self.num_classes)\n",
    "\n",
    "    def forward(self, logits, targets):\n",
    "        # logits: (batch_size, n_classes)\n",
    "        # targets: (batch_size,) with integer labels\n",
    "        \n",
    "        # Apply softmax to convert logits to probabilities\n",
    "        probas = torch.exp(F.log_softmax(logits, dim=1))\n",
    "\n",
    "        # Detach and move to CPU for sklearn compatibility\n",
    "        probas = probas.detach().cpu().numpy()\n",
    "        targets = targets.detach().cpu().numpy()\n",
    "        \n",
    "        df_scores = pd.DataFrame(probas, columns=self.label_ids)\n",
    "        df_scores['target'] = targets\n",
    "        \n",
    "        # remove samples with classes which is predeicted as 0 in all samples\n",
    "        unscored_cols = df_scores.columns[df_scores.sum(axis=0) == 0]\n",
    "        rows_to_remove = df_scores['target'].isin(unscored_cols)\n",
    "        df_scores = df_scores[~rows_to_remove]\n",
    "        \n",
    "        eval_score = roc_auc_score(\n",
    "            y_true=df_scores['target'].values,\n",
    "            y_score=df_scores[self.label_ids].values,\n",
    "            average=self.average, \n",
    "            multi_class=self.multi_class,\n",
    "            labels=self.label_ids\n",
    "        )\n",
    "        \n",
    "        return eval_score\n"
   ]
  },
  {
   "cell_type": "code",
   "execution_count": 12,
   "metadata": {},
   "outputs": [],
   "source": [
    "# # test the model / loss_fn / eval_fn using dataloader\n",
    "\n",
    "# bs_dataset = BirdSongDataset(df_audio_meta, config)\n",
    "# bs_dataloader = DataLoader(bs_dataset, batch_size=8, shuffle=True, collate_fn=collate_fn)\n",
    "\n",
    "# loss_fn = FocalLoss(gamma=2, alpha=class_weights.values, reduction='mean', device='cpu')\n",
    "# eval_fn = ROC_AUC_Score(config, average='macro', multi_class='ovo')\n",
    "\n",
    "# model = BirdAudioMAE(config.backbone_name, config.n_classes, device=DEVICE, n_mlp_layers=1, activation='silu')\n",
    "\n",
    "# for batch in bs_dataloader:\n",
    "    \n",
    "#     input_ids = batch['input_ids'] # (batch_size, n_frames, n_mels)s\n",
    "#     labels = batch['labels']\n",
    "    \n",
    "#     output = model(input_ids) # (batch_size, 1, n_frames, n_mels)\n",
    "#     logits = output['logits']\n",
    "    \n",
    "#     loss = loss_fn(logits, labels)\n",
    "#     eval_score = eval_fn(logits, labels)\n",
    "    \n",
    "#     print(f\"Shape of input_ids: {input_ids.shape}\")\n",
    "#     print(f\"Shape of labels: {labels.shape}\")\n",
    "#     print(f\"Shape of logits: {logits.shape}\")\n",
    "#     print(f\"Loss: {loss.item()}, Eval Score: {eval_score}\")\n",
    "    \n",
    "#     break"
   ]
  },
  {
   "cell_type": "code",
   "execution_count": 13,
   "metadata": {},
   "outputs": [],
   "source": [
    "# # test loss_fn and eval_fn\n",
    "# loss_fn = FocalLoss(gamma=2, alpha=class_weights.values, reduction='mean', device='cpu')\n",
    "# eval_fn = ROC_AUC_Score(config, average='macro', multi_class='ovo')\n",
    "\n",
    "# # target_labels = torch.tensor(df_audio_meta['species_id'].sample(10).values)\n",
    "# target_labels = torch.tensor([0, 1, 2, 3, 4, 5, 6, 7, 8, 9])\n",
    "# print('Target Labels:', target_labels, \"\\n\")\n",
    "\n",
    "# Test 1: perfect prediction\n",
    "# logits_perfect = F.one_hot(target_labels, num_classes=config.n_classes).float() * 100\n",
    "# loss_perfect = loss_fn(logits_perfect, target_labels)\n",
    "\n",
    "# eval_score_perfect = eval_fn(logits_perfect, target_labels)\n",
    "# print(f\"Perfect Prediction: Loss: {loss_perfect.item()}, Eval Score: {eval_score_perfect}\")\n",
    "# print(\" \")\n",
    "\n",
    "# Test 2: half correct\n",
    "# half_correct = target_labels.clone()\n",
    "# half_correct[:5] = (half_correct[:5] + 1) % config.n_classes  \n",
    "# logits_half = F.one_hot(half_correct, num_classes=config.n_classes).float() * 100\n",
    "# logits_half[:5] *= -1  \n",
    "# loss_half = loss_fn(logits_half, target_labels)\n",
    "\n",
    "# eval_score_half = eval_fn(logits_half, target_labels)\n",
    "# print(f\"Half Correct Prediction: Loss: {loss_half.item()}, Eval Score: {eval_score_half}\")\n",
    "# print(\" \")\n",
    "\n",
    "# Test 3: random prediction\n",
    "# logits_random = torch.rand((10, config.n_classes))\n",
    "# loss_random = loss_fn(logits_random, target_labels)\n",
    "\n",
    "# eval_score_random = eval_fn(logits_random, target_labels)\n",
    "# print(f\"Random Prediction: Loss: {loss_random.item()}, Eval Score: {eval_score_random}\")"
   ]
  },
  {
   "cell_type": "code",
   "execution_count": 14,
   "metadata": {},
   "outputs": [],
   "source": [
    "class Trainer:\n",
    "\n",
    "    def __init__(self, model, loss_fn, evel_fn, logger, config, is_higher_better=True):\n",
    "        '''\n",
    "        model: nn.Module\n",
    "        loss_fn: loss function\n",
    "        evel_fn: evaluation function\n",
    "        logger: logger\n",
    "        config: Config\n",
    "        is_higher_better: bool (default: True) whether higher evaluation score is better\n",
    "        '''\n",
    "\n",
    "        self.model = model\n",
    "        self.logger = logger\n",
    "        self.config = config\n",
    "        \n",
    "        self.device = torch.device(\"cuda\" if torch.cuda.is_available() else \"cpu\")\n",
    "        self.loss_fn = loss_fn\n",
    "        self.loss_fn.to(self.device)\n",
    "        \n",
    "        self.eval_fn = evel_fn\n",
    "        self.is_higher_better = is_higher_better\n",
    "        \n",
    "    def train(self, train_loader, valid_loader, print_epoch_freq=50, from_checkpoint=None, use_tqdm=True):\n",
    "\n",
    "        self.optimizer = AdamW(self.model.parameters(), lr=1e-3, weight_decay=self.config.weight_decay)\n",
    "\n",
    "        self.scheduler = OneCycleLR(\n",
    "            self.optimizer,\n",
    "            max_lr=self.config.max_lr,\n",
    "            epochs=self.config.epochs,\n",
    "            steps_per_epoch=len(train_loader),\n",
    "            pct_start=0.1,\n",
    "            anneal_strategy=\"cos\",\n",
    "            final_div_factor=self.config.lr_final_div,\n",
    "        )\n",
    "\n",
    "        if from_checkpoint is not None:\n",
    "            self.model.load_state_dict(torch.load(from_checkpoint, map_location=self.device))\n",
    "\n",
    "        self.model.to(self.device)\n",
    "        best_weights, best_preds, best_loss = None, None, float(\"-inf\") if self.is_higher_better else float(\"inf\")\n",
    "        loss_records = {\"train\": [], \"valid\": []}\n",
    "        \n",
    "        if use_tqdm:\n",
    "            pbar = tqdm(range(self.config.epochs), total=self.config.epochs, unit=\"epoch\", leave=True, desc=\"Training Progress\")\n",
    "        else:\n",
    "            pbar = range(self.config.epochs)\n",
    "            \n",
    "        for epoch in pbar:\n",
    "            start_epoch = time()\n",
    "\n",
    "            train_loss, _ = self._train_or_valid_epoch(epoch, train_loader, is_train=True, use_tqdm=use_tqdm)\n",
    "            valid_loss, valid_preds = self._train_or_valid_epoch(epoch, valid_loader, is_train=False, use_tqdm=use_tqdm)\n",
    "            \n",
    "            loss_records[\"train\"].append(train_loss)\n",
    "            loss_records[\"valid\"].append(valid_loss)\n",
    "\n",
    "            elapsed = time() - start_epoch\n",
    "            \n",
    "            if (epoch % print_epoch_freq == 0) or (epoch == (self.config.epochs - 1)):\n",
    "                self.logger.info(f\"Epoch {epoch + 1} - Train Loss: {train_loss:.4f} - Valid Loss: {valid_loss:.4f} - Elapsed Time: {elapsed:.2f}s\")\n",
    "            \n",
    "            if self.is_higher_better:\n",
    "                if valid_loss > best_loss:\n",
    "                    best_loss = valid_loss\n",
    "                    best_weights = self.model.state_dict()\n",
    "                    best_preds = valid_preds\n",
    "                    self.logger.info(f\"- Epoch {epoch + 1}: Best model found with loss = {best_loss:.4f}.\")\n",
    "            else:\n",
    "                if valid_loss < best_loss:\n",
    "                    best_loss = valid_loss\n",
    "                    best_weights = self.model.state_dict()\n",
    "                    best_preds = valid_preds\n",
    "                    self.logger.info(f\"- Epoch {epoch + 1}: Best model found with loss = {best_loss:.4f}.\")\n",
    "\n",
    "        return best_weights, best_preds, loss_records\n",
    "\n",
    "    def _train_or_valid_epoch(self, epoch_id, dataloader, is_train=True, use_tqdm=True):\n",
    "\n",
    "        self.model.train() if is_train else self.model.eval()\n",
    "        mode = \"Train\" if is_train else \"Valid\"\n",
    "\n",
    "        len_loader = len(dataloader)\n",
    "        scaler = GradScaler(enabled=self.config.amp)\n",
    "        loss_meter = AverageMeter()\n",
    "        labels_record, predicts_record = [], []\n",
    "\n",
    "        start = time()\n",
    "        \n",
    "        if use_tqdm:\n",
    "            pbar = tqdm(enumerate(dataloader), total=len_loader, desc=mode, unit=\"batch\")\n",
    "        else:\n",
    "            pbar = enumerate(dataloader)\n",
    "            \n",
    "        for step, data_dict in pbar:\n",
    "            \n",
    "            input_ids = data_dict['input_ids'].to(self.device)\n",
    "            labels = data_dict['labels'].to(self.device)\n",
    "            \n",
    "            if is_train:\n",
    "                with autocast(enabled=self.config.amp):\n",
    "                    model_output = self.model(input_ids)\n",
    "                    logits = model_output['logits']\n",
    "                    train_loss = self.loss_fn(logits, labels)\n",
    "                    \n",
    "                if self.config.grad_accum_steps > 1:\n",
    "                    train_loss = train_loss / self.config.grad_accum_steps\n",
    "                    \n",
    "                scaler.scale(train_loss).backward()\n",
    "                grad_norm = torch.nn.utils.clip_grad_norm_(self.model.parameters(), self.config.max_grad_norm)\n",
    "                if (step + 1) % self.config.grad_accum_steps == 0:\n",
    "                    scaler.step(self.optimizer)\n",
    "                    scaler.update()\n",
    "                    self.optimizer.zero_grad()\n",
    "                    self.scheduler.step()\n",
    "                    \n",
    "                loss_meter.update(train_loss.item())\n",
    "                \n",
    "            else:\n",
    "                with torch.no_grad():\n",
    "                    model_output = self.model(input_ids)\n",
    "                    logits = model_output['logits']\n",
    "                    valid_loss = self.loss_fn(logits, labels)\n",
    "\n",
    "                if self.config.grad_accum_steps > 1:\n",
    "                    valid_loss = valid_loss / self.config.grad_accum_steps\n",
    "                    \n",
    "                loss_meter.update(valid_loss.item())\n",
    "                \n",
    "                predicts_record.append(logits)\n",
    "                labels_record.append(labels)\n",
    "            \n",
    "            end = time()\n",
    "            \n",
    "            if self.config.print_freq:\n",
    "                if (step % self.config.print_freq == 0) or (step == (len_loader - 1)):\n",
    "                    lr = self.scheduler.get_last_lr()[0]\n",
    "                    info = f\"Epoch {epoch_id + 1} [{step}/{len_loader}] | {mode} \"\n",
    "                    \n",
    "                    if is_train:\n",
    "                        info += f\"Loss: {loss_meter.avg:.4f} Grad: {grad_norm:.4f} LR: {lr:.4e}\"\n",
    "                    else:\n",
    "                        info += f\"Loss: {loss_meter.avg:.4f}\"\n",
    "\n",
    "                    info += f\" | Elapse: {end - start:.2f}s\"\n",
    "                    self.logger.info(info)\n",
    "\n",
    "        if is_train:\n",
    "            wandb.log({\n",
    "                \"Train Loss\": loss_meter.avg, \n",
    "                \"Learning Rate\": self.scheduler.get_last_lr()[0],\n",
    "                \"Gradient Norm\": grad_norm,\n",
    "                \"Epoch\": epoch_id + 1\n",
    "            })\n",
    "            return loss_meter.avg, None\n",
    "        else:\n",
    "            eval_loss = self.eval_fn(\n",
    "                torch.cat(predicts_record).cpu(),\n",
    "                torch.cat(labels_record).cpu()\n",
    "                )\n",
    "            wandb.log({\n",
    "                \"Valid Loss\": loss_meter.avg,\n",
    "                \"Eval Score\": eval_loss,\n",
    "                \"Epoch\": epoch_id + 1\n",
    "            })\n",
    "            predicts_record = np.concatenate([p.cpu().detach().numpy() for p in predicts_record], axis=0)\n",
    "            return eval_loss, predicts_record\n"
   ]
  },
  {
   "cell_type": "code",
   "execution_count": 15,
   "metadata": {},
   "outputs": [],
   "source": [
    "def plot_loss_record(loss_history, final_loss, start_at=0, save_to=None):\n",
    "    \n",
    "    fig, ax1 = plt.subplots(1, 1, figsize=(8, 4))\n",
    "    ax2 = ax1.twinx()\n",
    "    for i, loss in enumerate(loss_history):\n",
    "        ax1.plot(np.arange(start_at, len(loss['train'])), loss['train'][start_at:], \"-\",   label=f'Train_{i}')\n",
    "        ax2.plot(np.arange(start_at, len(loss['valid'])), loss['valid'][start_at:], \".--\", label=f'Valid_{i}')\n",
    "        \n",
    "    ax1.set_xlabel(\"Epoch\")\n",
    "    ax1.set_ylabel(\"Train Loss\")\n",
    "    ax2.set_ylabel(\"Valid Loss (Dashed)\")\n",
    "    ax1.set_title(f\"Final Eval-Loss: {final_loss:.4f}\")\n",
    "    ax1.legend(loc='lower left', bbox_to_anchor=[1.15, 0])\n",
    "    ax2.legend(loc='upper left', bbox_to_anchor=[1.15, 1])\n",
    "    \n",
    "    if save_to:\n",
    "        plt.savefig(save_to)\n",
    "    \n",
    "    fig.tight_layout()\n",
    "    plt.show()"
   ]
  },
  {
   "cell_type": "code",
   "execution_count": 16,
   "metadata": {},
   "outputs": [
    {
     "data": {
      "text/plain": [
       "fold\n",
       "0    2235\n",
       "1    2234\n",
       "4    2234\n",
       "3    2234\n",
       "2    2234\n",
       "Name: count, dtype: int64"
      ]
     },
     "metadata": {},
     "output_type": "display_data"
    },
    {
     "name": "stdout",
     "output_type": "stream",
     "text": [
      "Fold 0: Number of common groups between train and valid: 0\n",
      "Fold 1: Number of common groups between train and valid: 0\n",
      "Fold 2: Number of common groups between train and valid: 0\n",
      "Fold 3: Number of common groups between train and valid: 0\n",
      "Fold 4: Number of common groups between train and valid: 0\n"
     ]
    }
   ],
   "source": [
    "gkf = GroupKFold(n_splits=config.n_splits)\n",
    "df_audio_meta['fold'] = 0\n",
    "\n",
    "for fold, (train_index, test_index) in enumerate(gkf.split(df_audio_meta, groups=df_audio_meta['group_id'])):\n",
    "    df_audio_meta.loc[test_index, 'fold'] = fold\n",
    "    \n",
    "display(df_audio_meta['fold'].value_counts())\n",
    "\n",
    "# check if any sample in valid set has the same mp3_link as the train set\n",
    "for fold in range(config.n_splits):\n",
    "    train_group_ids = df_audio_meta[df_audio_meta['fold'] != fold]['mp3_link'].unique()\n",
    "    valid_group_ids = df_audio_meta[df_audio_meta['fold'] == fold]['mp3_link'].unique()\n",
    "    common_groups = set(train_group_ids).intersection(set(valid_group_ids))\n",
    "    print(f\"Fold {fold}: Number of common groups between train and valid: {len(common_groups)}\")"
   ]
  },
  {
   "cell_type": "code",
   "execution_count": 17,
   "metadata": {},
   "outputs": [
    {
     "name": "stdout",
     "output_type": "stream",
     "text": [
      "################################### TRAIN_CONFIG ###################################\n",
      "dataset_dir: ./Audio_XenoCanto\n",
      "model_name: Manaus_AudioMAE_SeqPool_GKFold\n",
      "backbone_name: ./training_logs/ViTMAE_Pretrain_best_0.01.pth\n",
      "n_classes: 728\n",
      "audio_sr: 16000\n",
      "segment_length: 10\n",
      "fft_window: 0.025\n",
      "hop_window_length: 0.01\n",
      "n_mels: 128\n",
      "low_cut: 1000\n",
      "high_cut: 8000\n",
      "top_db: 100\n",
      "batch_size: 16\n",
      "num_workers: 0\n",
      "n_splits: 5\n",
      "log_dir: ./training_logs\n",
      "max_lr: 1e-05\n",
      "epochs: 15\n",
      "weight_decay: 0.01\n",
      "lr_final_div: 1000\n",
      "amp: True\n",
      "grad_accum_steps: 1\n",
      "max_grad_norm: 10000000.0\n",
      "print_epoch_freq: 1\n",
      "print_freq: 500\n",
      "n_decoder_layers: 6\n",
      "n_decoder_heads: 6\n",
      "ff_dim_decoder: 2048\n",
      "random_seed: 2046\n",
      "copy: <classmethod(<function Config.copy at 0x72147dc2d3f0>)>\n",
      "################################################################################\n"
     ]
    }
   ],
   "source": [
    "loss_fn = FocalLoss(gamma=2, alpha=class_weights.values, reduction='mean', device='cpu')\n",
    "eval_fn = ROC_AUC_Score(config, average='macro', multi_class='ovo')\n",
    "\n",
    "oof, loss_history = pd.DataFrame(), []\n",
    "\n",
    "logger = get_logger(log_file=f\"{config.log_dir}/{config.model_name}_training.log\")\n",
    "\n",
    "# log TRAIN_CONFIG\n",
    "logger.info(f\"{'#'*35} TRAIN_CONFIG {'#'*35}\")\n",
    "for k, v in config.__dict__.items():\n",
    "    if '__' not in k:\n",
    "        logger.info(f\"{k}: {v}\")\n",
    "\n",
    "logger.info(f\"{'#'*80}\")"
   ]
  },
  {
   "cell_type": "code",
   "execution_count": 18,
   "metadata": {},
   "outputs": [
    {
     "name": "stdout",
     "output_type": "stream",
     "text": [
      "Failed to detect the name of this notebook, you can set it manually with the WANDB_NOTEBOOK_NAME environment variable to enable code saving.\n"
     ]
    },
    {
     "name": "stderr",
     "output_type": "stream",
     "text": [
      "\u001b[34m\u001b[1mwandb\u001b[0m: Currently logged in as: \u001b[33ms-li2022\u001b[0m (\u001b[33msli2024\u001b[0m). Use \u001b[1m`wandb login --relogin`\u001b[0m to force relogin\n"
     ]
    },
    {
     "data": {
      "text/html": [
       "Tracking run with wandb version 0.17.0"
      ],
      "text/plain": [
       "<IPython.core.display.HTML object>"
      ]
     },
     "metadata": {},
     "output_type": "display_data"
    },
    {
     "data": {
      "text/html": [
       "Run data is saved locally in <code>/workspace/voice_of_jungle/wandb/run-20240601_223935-9opflxyg</code>"
      ],
      "text/plain": [
       "<IPython.core.display.HTML object>"
      ]
     },
     "metadata": {},
     "output_type": "display_data"
    },
    {
     "data": {
      "text/html": [
       "Syncing run <strong><a href='https://wandb.ai/sli2024/Manaus_AudioMAE_SeqPool_GKFold/runs/9opflxyg' target=\"_blank\">fold_0</a></strong> to <a href='https://wandb.ai/sli2024/Manaus_AudioMAE_SeqPool_GKFold' target=\"_blank\">Weights & Biases</a> (<a href='https://wandb.me/run' target=\"_blank\">docs</a>)<br/>"
      ],
      "text/plain": [
       "<IPython.core.display.HTML object>"
      ]
     },
     "metadata": {},
     "output_type": "display_data"
    },
    {
     "data": {
      "text/html": [
       " View project at <a href='https://wandb.ai/sli2024/Manaus_AudioMAE_SeqPool_GKFold' target=\"_blank\">https://wandb.ai/sli2024/Manaus_AudioMAE_SeqPool_GKFold</a>"
      ],
      "text/plain": [
       "<IPython.core.display.HTML object>"
      ]
     },
     "metadata": {},
     "output_type": "display_data"
    },
    {
     "data": {
      "text/html": [
       " View run at <a href='https://wandb.ai/sli2024/Manaus_AudioMAE_SeqPool_GKFold/runs/9opflxyg' target=\"_blank\">https://wandb.ai/sli2024/Manaus_AudioMAE_SeqPool_GKFold/runs/9opflxyg</a>"
      ],
      "text/plain": [
       "<IPython.core.display.HTML object>"
      ]
     },
     "metadata": {},
     "output_type": "display_data"
    },
    {
     "name": "stdout",
     "output_type": "stream",
     "text": [
      "Loading pretrained weights from Hugging Face hub (gaunernst/vit_base_patch16_1024_128.audiomae_as2m)\n",
      "Converted input conv patch_embed.proj pretrained weights from 3 to 1 channel(s)\n"
     ]
    },
    {
     "data": {
      "application/vnd.jupyter.widget-view+json": {
       "model_id": "4ebc9dd0e53844d59a9a9148d62c2a41",
       "version_major": 2,
       "version_minor": 0
      },
      "text/plain": [
       "Training Progress:   0%|          | 0/15 [00:00<?, ?epoch/s]"
      ]
     },
     "metadata": {},
     "output_type": "display_data"
    },
    {
     "data": {
      "application/vnd.jupyter.widget-view+json": {
       "model_id": "703382182d62447eb702f220ad590367",
       "version_major": 2,
       "version_minor": 0
      },
      "text/plain": [
       "Train:   0%|          | 0/559 [00:00<?, ?batch/s]"
      ]
     },
     "metadata": {},
     "output_type": "display_data"
    },
    {
     "name": "stdout",
     "output_type": "stream",
     "text": [
      "Epoch 1 [0/559] | Train Loss: 0.7547 Grad: inf LR: 4.0003e-07 | Elapse: 3.92s\n"
     ]
    },
    {
     "name": "stderr",
     "output_type": "stream",
     "text": [
      "/workspace/voice_of_jungle/myenv/lib/python3.10/site-packages/torch/optim/lr_scheduler.py:143: UserWarning: Detected call of `lr_scheduler.step()` before `optimizer.step()`. In PyTorch 1.1.0 and later, you should call them in the opposite order: `optimizer.step()` before `lr_scheduler.step()`.  Failure to do this will result in PyTorch skipping the first value of the learning rate schedule. See more details at https://pytorch.org/docs/stable/optim.html#how-to-adjust-learning-rate\n",
      "  warnings.warn(\"Detected call of `lr_scheduler.step()` before `optimizer.step()`. \"\n"
     ]
    },
    {
     "name": "stdout",
     "output_type": "stream",
     "text": [
      "Epoch 1 [500/559] | Train Loss: 0.4139 Grad: 5382.2500 LR: 6.6576e-06 | Elapse: 130.45s\n",
      "Epoch 1 [558/559] | Train Loss: 0.3826 Grad: 15448.6621 LR: 7.6104e-06 | Elapse: 143.81s\n"
     ]
    },
    {
     "data": {
      "application/vnd.jupyter.widget-view+json": {
       "model_id": "10928a15da34485695d639d6b6919bf3",
       "version_major": 2,
       "version_minor": 0
      },
      "text/plain": [
       "Valid:   0%|          | 0/140 [00:00<?, ?batch/s]"
      ]
     },
     "metadata": {},
     "output_type": "display_data"
    },
    {
     "name": "stdout",
     "output_type": "stream",
     "text": [
      "Epoch 1 [0/140] | Valid Loss: 0.1736 | Elapse: 0.50s\n",
      "Epoch 1 [139/140] | Valid Loss: 0.2493 | Elapse: 31.94s\n",
      "Epoch 1 - Train Loss: 0.3826 - Valid Loss: 0.5310 - Elapsed Time: 194.28s\n",
      "- Epoch 1: Best model found with loss = 0.5310.\n"
     ]
    },
    {
     "data": {
      "application/vnd.jupyter.widget-view+json": {
       "model_id": "2d72fb403f4d48e29f420e8862dd0cb6",
       "version_major": 2,
       "version_minor": 0
      },
      "text/plain": [
       "Train:   0%|          | 0/559 [00:00<?, ?batch/s]"
      ]
     },
     "metadata": {},
     "output_type": "display_data"
    },
    {
     "name": "stdout",
     "output_type": "stream",
     "text": [
      "Epoch 2 [0/559] | Train Loss: 0.5166 Grad: inf LR: 7.6259e-06 | Elapse: 0.24s\n",
      "Epoch 2 [500/559] | Train Loss: 0.2151 Grad: 6359.3657 LR: 9.9786e-06 | Elapse: 126.58s\n",
      "Epoch 2 [558/559] | Train Loss: 0.2006 Grad: 13655.3486 LR: 9.9660e-06 | Elapse: 139.50s\n"
     ]
    },
    {
     "data": {
      "application/vnd.jupyter.widget-view+json": {
       "model_id": "13c899ab8a9144b0b7b0fb1f7c359e4c",
       "version_major": 2,
       "version_minor": 0
      },
      "text/plain": [
       "Valid:   0%|          | 0/140 [00:00<?, ?batch/s]"
      ]
     },
     "metadata": {},
     "output_type": "display_data"
    },
    {
     "name": "stdout",
     "output_type": "stream",
     "text": [
      "Epoch 2 [0/140] | Valid Loss: 0.1747 | Elapse: 0.22s\n",
      "Epoch 2 [139/140] | Valid Loss: 0.2309 | Elapse: 31.69s\n",
      "Epoch 2 - Train Loss: 0.2006 - Valid Loss: 0.5223 - Elapsed Time: 189.41s\n"
     ]
    },
    {
     "data": {
      "application/vnd.jupyter.widget-view+json": {
       "model_id": "fb7548d6b6764ffb9ee0e367c7bfd63e",
       "version_major": 2,
       "version_minor": 0
      },
      "text/plain": [
       "Train:   0%|          | 0/559 [00:00<?, ?batch/s]"
      ]
     },
     "metadata": {},
     "output_type": "display_data"
    },
    {
     "name": "stdout",
     "output_type": "stream",
     "text": [
      "Epoch 3 [0/559] | Train Loss: 0.5550 Grad: 509711.9375 LR: 9.9657e-06 | Elapse: 0.25s\n",
      "Epoch 3 [500/559] | Train Loss: 0.1645 Grad: 12100.7764 LR: 9.7377e-06 | Elapse: 126.85s\n",
      "Epoch 3 [558/559] | Train Loss: 0.1532 Grad: 23765.9297 LR: 9.6978e-06 | Elapse: 136.91s\n"
     ]
    },
    {
     "data": {
      "application/vnd.jupyter.widget-view+json": {
       "model_id": "4a1a6faacd984aa0871a483efeac1772",
       "version_major": 2,
       "version_minor": 0
      },
      "text/plain": [
       "Valid:   0%|          | 0/140 [00:00<?, ?batch/s]"
      ]
     },
     "metadata": {},
     "output_type": "display_data"
    },
    {
     "name": "stdout",
     "output_type": "stream",
     "text": [
      "Epoch 3 [0/140] | Valid Loss: 0.1411 | Elapse: 0.26s\n",
      "Epoch 3 [139/140] | Valid Loss: 0.2405 | Elapse: 32.07s\n",
      "Epoch 3 - Train Loss: 0.1532 - Valid Loss: 0.5414 - Elapsed Time: 187.01s\n",
      "- Epoch 3: Best model found with loss = 0.5414.\n"
     ]
    },
    {
     "data": {
      "application/vnd.jupyter.widget-view+json": {
       "model_id": "6616e8ac1ffa49d6b476afd1c65bdd4d",
       "version_major": 2,
       "version_minor": 0
      },
      "text/plain": [
       "Train:   0%|          | 0/559 [00:00<?, ?batch/s]"
      ]
     },
     "metadata": {},
     "output_type": "display_data"
    },
    {
     "name": "stdout",
     "output_type": "stream",
     "text": [
      "Epoch 4 [0/559] | Train Loss: 0.4344 Grad: 504655.3438 LR: 9.6970e-06 | Elapse: 0.27s\n",
      "Epoch 4 [500/559] | Train Loss: 0.1326 Grad: 12015.6533 LR: 9.2415e-06 | Elapse: 126.02s\n",
      "Epoch 4 [558/559] | Train Loss: 0.1231 Grad: 19413.2539 LR: 9.1763e-06 | Elapse: 139.71s\n"
     ]
    },
    {
     "data": {
      "application/vnd.jupyter.widget-view+json": {
       "model_id": "80c9e94115c04fceb2a2bdbca627a1c8",
       "version_major": 2,
       "version_minor": 0
      },
      "text/plain": [
       "Valid:   0%|          | 0/140 [00:00<?, ?batch/s]"
      ]
     },
     "metadata": {},
     "output_type": "display_data"
    },
    {
     "name": "stdout",
     "output_type": "stream",
     "text": [
      "Epoch 4 [0/140] | Valid Loss: 0.1282 | Elapse: 0.22s\n",
      "Epoch 4 [139/140] | Valid Loss: 0.2584 | Elapse: 31.84s\n",
      "Epoch 4 - Train Loss: 0.1231 - Valid Loss: 0.5554 - Elapsed Time: 189.52s\n",
      "- Epoch 4: Best model found with loss = 0.5554.\n"
     ]
    },
    {
     "data": {
      "application/vnd.jupyter.widget-view+json": {
       "model_id": "438ceb5b11de4824b44f6a681ed6f966",
       "version_major": 2,
       "version_minor": 0
      },
      "text/plain": [
       "Train:   0%|          | 0/559 [00:00<?, ?batch/s]"
      ]
     },
     "metadata": {},
     "output_type": "display_data"
    },
    {
     "name": "stdout",
     "output_type": "stream",
     "text": [
      "Epoch 5 [0/559] | Train Loss: 0.3831 Grad: 562327.7500 LR: 9.1752e-06 | Elapse: 0.24s\n",
      "Epoch 5 [500/559] | Train Loss: 0.1014 Grad: 11461.7764 LR: 8.5166e-06 | Elapse: 126.26s\n",
      "Epoch 5 [558/559] | Train Loss: 0.0939 Grad: 17064.9883 LR: 8.4298e-06 | Elapse: 139.79s\n"
     ]
    },
    {
     "data": {
      "application/vnd.jupyter.widget-view+json": {
       "model_id": "3f16a75353874d37b88673f79597d29b",
       "version_major": 2,
       "version_minor": 0
      },
      "text/plain": [
       "Valid:   0%|          | 0/140 [00:00<?, ?batch/s]"
      ]
     },
     "metadata": {},
     "output_type": "display_data"
    },
    {
     "name": "stdout",
     "output_type": "stream",
     "text": [
      "Epoch 5 [0/140] | Valid Loss: 0.1164 | Elapse: 0.22s\n",
      "Epoch 5 [139/140] | Valid Loss: 0.2755 | Elapse: 32.11s\n",
      "Epoch 5 - Train Loss: 0.0939 - Valid Loss: 0.5687 - Elapsed Time: 189.88s\n",
      "- Epoch 5: Best model found with loss = 0.5687.\n"
     ]
    },
    {
     "data": {
      "application/vnd.jupyter.widget-view+json": {
       "model_id": "550c02cd013941cb8a37cdf1bc85b0b5",
       "version_major": 2,
       "version_minor": 0
      },
      "text/plain": [
       "Train:   0%|          | 0/559 [00:00<?, ?batch/s]"
      ]
     },
     "metadata": {},
     "output_type": "display_data"
    },
    {
     "name": "stdout",
     "output_type": "stream",
     "text": [
      "Epoch 6 [0/559] | Train Loss: 0.2560 Grad: 641248.6250 LR: 8.4282e-06 | Elapse: 0.25s\n",
      "Epoch 6 [500/559] | Train Loss: 0.0728 Grad: 10159.9902 LR: 7.6021e-06 | Elapse: 127.05s\n",
      "Epoch 6 [558/559] | Train Loss: 0.0674 Grad: 14787.0752 LR: 7.4983e-06 | Elapse: 140.69s\n"
     ]
    },
    {
     "data": {
      "application/vnd.jupyter.widget-view+json": {
       "model_id": "d3d02bb715a54424a143dfbede3d8770",
       "version_major": 2,
       "version_minor": 0
      },
      "text/plain": [
       "Valid:   0%|          | 0/140 [00:00<?, ?batch/s]"
      ]
     },
     "metadata": {},
     "output_type": "display_data"
    },
    {
     "name": "stdout",
     "output_type": "stream",
     "text": [
      "Epoch 6 [0/140] | Valid Loss: 0.1011 | Elapse: 0.24s\n",
      "Epoch 6 [139/140] | Valid Loss: 0.2863 | Elapse: 31.57s\n",
      "Epoch 6 - Train Loss: 0.0674 - Valid Loss: 0.5832 - Elapsed Time: 190.51s\n",
      "- Epoch 6: Best model found with loss = 0.5832.\n"
     ]
    },
    {
     "data": {
      "application/vnd.jupyter.widget-view+json": {
       "model_id": "00aefac1d83846d5ab1f8c0d6a41d2e2",
       "version_major": 2,
       "version_minor": 0
      },
      "text/plain": [
       "Train:   0%|          | 0/559 [00:00<?, ?batch/s]"
      ]
     },
     "metadata": {},
     "output_type": "display_data"
    },
    {
     "name": "stdout",
     "output_type": "stream",
     "text": [
      "Epoch 7 [0/559] | Train Loss: 0.0879 Grad: 530556.9375 LR: 7.4965e-06 | Elapse: 0.25s\n",
      "Epoch 7 [500/559] | Train Loss: 0.0523 Grad: 4476.6758 LR: 6.5474e-06 | Elapse: 125.62s\n",
      "Epoch 7 [558/559] | Train Loss: 0.0485 Grad: 5406.0200 LR: 6.4322e-06 | Elapse: 137.98s\n"
     ]
    },
    {
     "data": {
      "application/vnd.jupyter.widget-view+json": {
       "model_id": "4348854cf7bb410eaa4b8bb0fae1a481",
       "version_major": 2,
       "version_minor": 0
      },
      "text/plain": [
       "Valid:   0%|          | 0/140 [00:00<?, ?batch/s]"
      ]
     },
     "metadata": {},
     "output_type": "display_data"
    },
    {
     "name": "stdout",
     "output_type": "stream",
     "text": [
      "Epoch 7 [0/140] | Valid Loss: 0.0976 | Elapse: 0.23s\n",
      "Epoch 7 [139/140] | Valid Loss: 0.2964 | Elapse: 31.59s\n",
      "Epoch 7 - Train Loss: 0.0485 - Valid Loss: 0.5829 - Elapsed Time: 187.57s\n"
     ]
    },
    {
     "data": {
      "application/vnd.jupyter.widget-view+json": {
       "model_id": "5650efec66de497596e87bb083a4fa14",
       "version_major": 2,
       "version_minor": 0
      },
      "text/plain": [
       "Train:   0%|          | 0/559 [00:00<?, ?batch/s]"
      ]
     },
     "metadata": {},
     "output_type": "display_data"
    },
    {
     "name": "stdout",
     "output_type": "stream",
     "text": [
      "Epoch 8 [0/559] | Train Loss: 0.0153 Grad: 112219.8047 LR: 6.4302e-06 | Elapse: 0.26s\n",
      "Epoch 8 [500/559] | Train Loss: 0.0384 Grad: 3904.2026 LR: 5.4093e-06 | Elapse: 125.86s\n",
      "Epoch 8 [558/559] | Train Loss: 0.0358 Grad: 3600.3320 LR: 5.2888e-06 | Elapse: 138.61s\n"
     ]
    },
    {
     "data": {
      "application/vnd.jupyter.widget-view+json": {
       "model_id": "4689303d2d274f54936e010f5c44abbc",
       "version_major": 2,
       "version_minor": 0
      },
      "text/plain": [
       "Valid:   0%|          | 0/140 [00:00<?, ?batch/s]"
      ]
     },
     "metadata": {},
     "output_type": "display_data"
    },
    {
     "name": "stdout",
     "output_type": "stream",
     "text": [
      "Epoch 8 [0/140] | Valid Loss: 0.0976 | Elapse: 0.23s\n",
      "Epoch 8 [139/140] | Valid Loss: 0.3065 | Elapse: 31.52s\n",
      "Epoch 8 - Train Loss: 0.0358 - Valid Loss: 0.5840 - Elapsed Time: 188.33s\n",
      "- Epoch 8: Best model found with loss = 0.5840.\n"
     ]
    },
    {
     "data": {
      "application/vnd.jupyter.widget-view+json": {
       "model_id": "52de7a74b40346688305682f4ebd907e",
       "version_major": 2,
       "version_minor": 0
      },
      "text/plain": [
       "Train:   0%|          | 0/559 [00:00<?, ?batch/s]"
      ]
     },
     "metadata": {},
     "output_type": "display_data"
    },
    {
     "name": "stdout",
     "output_type": "stream",
     "text": [
      "Epoch 9 [0/559] | Train Loss: 0.0131 Grad: 99562.0547 LR: 5.2868e-06 | Elapse: 0.25s\n",
      "Epoch 9 [500/559] | Train Loss: 0.0301 Grad: 12558.8906 LR: 4.2491e-06 | Elapse: 127.15s\n",
      "Epoch 9 [558/559] | Train Loss: 0.0281 Grad: 11099.0303 LR: 4.1299e-06 | Elapse: 139.02s\n"
     ]
    },
    {
     "data": {
      "application/vnd.jupyter.widget-view+json": {
       "model_id": "0b02a88d72da4eba92f0ba001dd3073d",
       "version_major": 2,
       "version_minor": 0
      },
      "text/plain": [
       "Valid:   0%|          | 0/140 [00:00<?, ?batch/s]"
      ]
     },
     "metadata": {},
     "output_type": "display_data"
    },
    {
     "name": "stdout",
     "output_type": "stream",
     "text": [
      "Epoch 9 [0/140] | Valid Loss: 0.0975 | Elapse: 0.22s\n",
      "Epoch 9 [139/140] | Valid Loss: 0.3145 | Elapse: 31.74s\n",
      "Epoch 9 - Train Loss: 0.0281 - Valid Loss: 0.5931 - Elapsed Time: 188.88s\n",
      "- Epoch 9: Best model found with loss = 0.5931.\n"
     ]
    },
    {
     "data": {
      "application/vnd.jupyter.widget-view+json": {
       "model_id": "764ed1071da448c88d3aabb9b7bf3ca5",
       "version_major": 2,
       "version_minor": 0
      },
      "text/plain": [
       "Train:   0%|          | 0/559 [00:00<?, ?batch/s]"
      ]
     },
     "metadata": {},
     "output_type": "display_data"
    },
    {
     "name": "stdout",
     "output_type": "stream",
     "text": [
      "Epoch 10 [0/559] | Train Loss: 0.0116 Grad: 68845.8281 LR: 4.1279e-06 | Elapse: 0.24s\n",
      "Epoch 10 [500/559] | Train Loss: 0.0255 Grad: 5851.3135 LR: 3.1294e-06 | Elapse: 125.70s\n",
      "Epoch 10 [558/559] | Train Loss: 0.0239 Grad: 3397.1216 LR: 3.0180e-06 | Elapse: 139.27s\n"
     ]
    },
    {
     "data": {
      "application/vnd.jupyter.widget-view+json": {
       "model_id": "328ccecb117c4fb29328ae4f41d43937",
       "version_major": 2,
       "version_minor": 0
      },
      "text/plain": [
       "Valid:   0%|          | 0/140 [00:00<?, ?batch/s]"
      ]
     },
     "metadata": {},
     "output_type": "display_data"
    },
    {
     "name": "stdout",
     "output_type": "stream",
     "text": [
      "Epoch 10 [0/140] | Valid Loss: 0.1015 | Elapse: 0.23s\n",
      "Epoch 10 [139/140] | Valid Loss: 0.3201 | Elapse: 32.15s\n",
      "Epoch 10 - Train Loss: 0.0239 - Valid Loss: 0.5981 - Elapsed Time: 189.54s\n",
      "- Epoch 10: Best model found with loss = 0.5981.\n"
     ]
    },
    {
     "data": {
      "application/vnd.jupyter.widget-view+json": {
       "model_id": "110e9bc1cd3543f78f7e5d9d0d613297",
       "version_major": 2,
       "version_minor": 0
      },
      "text/plain": [
       "Train:   0%|          | 0/559 [00:00<?, ?batch/s]"
      ]
     },
     "metadata": {},
     "output_type": "display_data"
    },
    {
     "name": "stdout",
     "output_type": "stream",
     "text": [
      "Epoch 11 [0/559] | Train Loss: 0.0109 Grad: 59132.3789 LR: 3.0161e-06 | Elapse: 0.24s\n",
      "Epoch 11 [500/559] | Train Loss: 0.0219 Grad: 4886.1030 LR: 2.1105e-06 | Elapse: 127.21s\n",
      "Epoch 11 [558/559] | Train Loss: 0.0206 Grad: 2758.1614 LR: 2.0129e-06 | Elapse: 139.75s\n"
     ]
    },
    {
     "data": {
      "application/vnd.jupyter.widget-view+json": {
       "model_id": "6947af0b34eb44aaa02f2290a80bfc65",
       "version_major": 2,
       "version_minor": 0
      },
      "text/plain": [
       "Valid:   0%|          | 0/140 [00:00<?, ?batch/s]"
      ]
     },
     "metadata": {},
     "output_type": "display_data"
    },
    {
     "name": "stdout",
     "output_type": "stream",
     "text": [
      "Epoch 11 [0/140] | Valid Loss: 0.0975 | Elapse: 0.23s\n",
      "Epoch 11 [139/140] | Valid Loss: 0.3214 | Elapse: 31.94s\n",
      "Epoch 11 - Train Loss: 0.0206 - Valid Loss: 0.6030 - Elapsed Time: 190.04s\n",
      "- Epoch 11: Best model found with loss = 0.6030.\n"
     ]
    },
    {
     "data": {
      "application/vnd.jupyter.widget-view+json": {
       "model_id": "2dce68c72f2648e2bad87e4ed2d560d4",
       "version_major": 2,
       "version_minor": 0
      },
      "text/plain": [
       "Train:   0%|          | 0/559 [00:00<?, ?batch/s]"
      ]
     },
     "metadata": {},
     "output_type": "display_data"
    },
    {
     "name": "stdout",
     "output_type": "stream",
     "text": [
      "Epoch 12 [0/559] | Train Loss: 0.0093 Grad: 41543.1367 LR: 2.0112e-06 | Elapse: 0.23s\n",
      "Epoch 12 [500/559] | Train Loss: 0.0210 Grad: 14074.4834 LR: 1.2475e-06 | Elapse: 125.50s\n",
      "Epoch 12 [558/559] | Train Loss: 0.0197 Grad: 6915.6309 LR: 1.1688e-06 | Elapse: 137.34s\n"
     ]
    },
    {
     "data": {
      "application/vnd.jupyter.widget-view+json": {
       "model_id": "3396a3268c004fb6a9791abe0673b6a2",
       "version_major": 2,
       "version_minor": 0
      },
      "text/plain": [
       "Valid:   0%|          | 0/140 [00:00<?, ?batch/s]"
      ]
     },
     "metadata": {},
     "output_type": "display_data"
    },
    {
     "name": "stdout",
     "output_type": "stream",
     "text": [
      "Epoch 12 [0/140] | Valid Loss: 0.0918 | Elapse: 0.24s\n",
      "Epoch 12 [139/140] | Valid Loss: 0.3223 | Elapse: 31.55s\n",
      "Epoch 12 - Train Loss: 0.0197 - Valid Loss: 0.6035 - Elapsed Time: 186.93s\n",
      "- Epoch 12: Best model found with loss = 0.6035.\n"
     ]
    },
    {
     "data": {
      "application/vnd.jupyter.widget-view+json": {
       "model_id": "f62edde62fa9431dab4c1de141095c4c",
       "version_major": 2,
       "version_minor": 0
      },
      "text/plain": [
       "Train:   0%|          | 0/559 [00:00<?, ?batch/s]"
      ]
     },
     "metadata": {},
     "output_type": "display_data"
    },
    {
     "name": "stdout",
     "output_type": "stream",
     "text": [
      "Epoch 13 [0/559] | Train Loss: 0.0092 Grad: 54471.5273 LR: 1.1675e-06 | Elapse: 0.27s\n",
      "Epoch 13 [500/559] | Train Loss: 0.0219 Grad: 17403.4277 LR: 5.8671e-07 | Elapse: 126.09s\n",
      "Epoch 13 [558/559] | Train Loss: 0.0206 Grad: 4789.8760 LR: 5.3128e-07 | Elapse: 139.55s\n"
     ]
    },
    {
     "data": {
      "application/vnd.jupyter.widget-view+json": {
       "model_id": "95e87bc2bb1d40538a02015626447b5d",
       "version_major": 2,
       "version_minor": 0
      },
      "text/plain": [
       "Valid:   0%|          | 0/140 [00:00<?, ?batch/s]"
      ]
     },
     "metadata": {},
     "output_type": "display_data"
    },
    {
     "name": "stdout",
     "output_type": "stream",
     "text": [
      "Epoch 13 [0/140] | Valid Loss: 0.1025 | Elapse: 0.23s\n",
      "Epoch 13 [139/140] | Valid Loss: 0.3288 | Elapse: 31.45s\n",
      "Epoch 13 - Train Loss: 0.0206 - Valid Loss: 0.6061 - Elapsed Time: 189.35s\n",
      "- Epoch 13: Best model found with loss = 0.6061.\n"
     ]
    },
    {
     "data": {
      "application/vnd.jupyter.widget-view+json": {
       "model_id": "39d9353734c34e209d45b41d268ef91e",
       "version_major": 2,
       "version_minor": 0
      },
      "text/plain": [
       "Train:   0%|          | 0/559 [00:00<?, ?batch/s]"
      ]
     },
     "metadata": {},
     "output_type": "display_data"
    },
    {
     "name": "stdout",
     "output_type": "stream",
     "text": [
      "Epoch 14 [0/559] | Train Loss: 0.0175 Grad: 209220.3594 LR: 5.3035e-07 | Elapse: 0.24s\n",
      "Epoch 14 [500/559] | Train Loss: 0.0251 Grad: 4015.4312 LR: 1.6390e-07 | Elapse: 126.21s\n",
      "Epoch 14 [558/559] | Train Loss: 0.0234 Grad: 1408.4232 LR: 1.3469e-07 | Elapse: 138.76s\n"
     ]
    },
    {
     "data": {
      "application/vnd.jupyter.widget-view+json": {
       "model_id": "3f55066fab934f64a28d3cb6cabfe40e",
       "version_major": 2,
       "version_minor": 0
      },
      "text/plain": [
       "Valid:   0%|          | 0/140 [00:00<?, ?batch/s]"
      ]
     },
     "metadata": {},
     "output_type": "display_data"
    },
    {
     "name": "stdout",
     "output_type": "stream",
     "text": [
      "Epoch 14 [0/140] | Valid Loss: 0.1108 | Elapse: 0.24s\n",
      "Epoch 14 [139/140] | Valid Loss: 0.3283 | Elapse: 31.91s\n",
      "Epoch 14 - Train Loss: 0.0234 - Valid Loss: 0.6136 - Elapsed Time: 189.22s\n",
      "- Epoch 14: Best model found with loss = 0.6136.\n"
     ]
    },
    {
     "data": {
      "application/vnd.jupyter.widget-view+json": {
       "model_id": "8fa5b11582ad46a1926f99badfda80f9",
       "version_major": 2,
       "version_minor": 0
      },
      "text/plain": [
       "Train:   0%|          | 0/559 [00:00<?, ?batch/s]"
      ]
     },
     "metadata": {},
     "output_type": "display_data"
    },
    {
     "name": "stdout",
     "output_type": "stream",
     "text": [
      "Epoch 15 [0/559] | Train Loss: 0.0087 Grad: 35368.4102 LR: 1.3421e-07 | Elapse: 0.25s\n",
      "Epoch 15 [500/559] | Train Loss: 0.0241 Grad: 3638.1060 LR: 1.8075e-09 | Elapse: 126.03s\n",
      "Epoch 15 [558/559] | Train Loss: 0.0224 Grad: 1589.8220 LR: 4.0043e-10 | Elapse: 138.72s\n"
     ]
    },
    {
     "data": {
      "application/vnd.jupyter.widget-view+json": {
       "model_id": "e37232f26c134bb1934089b024d4c88a",
       "version_major": 2,
       "version_minor": 0
      },
      "text/plain": [
       "Valid:   0%|          | 0/140 [00:00<?, ?batch/s]"
      ]
     },
     "metadata": {},
     "output_type": "display_data"
    },
    {
     "name": "stdout",
     "output_type": "stream",
     "text": [
      "Epoch 15 [0/140] | Valid Loss: 0.1119 | Elapse: 0.23s\n",
      "Epoch 15 [139/140] | Valid Loss: 0.3254 | Elapse: 31.48s\n",
      "Epoch 15 - Train Loss: 0.0224 - Valid Loss: 0.6138 - Elapsed Time: 188.45s\n",
      "- Epoch 15: Best model found with loss = 0.6138.\n",
      "Fold 0 | Time: 47.90min | Overall Evaluation Loss: 0.6138\n"
     ]
    },
    {
     "data": {
      "application/vnd.jupyter.widget-view+json": {
       "model_id": "fa313379c7eb4fbb8d43f04e905c3da3",
       "version_major": 2,
       "version_minor": 0
      },
      "text/plain": [
       "VBox(children=(Label(value='0.004 MB of 0.004 MB uploaded\\r'), FloatProgress(value=1.0, max=1.0)))"
      ]
     },
     "metadata": {},
     "output_type": "display_data"
    },
    {
     "data": {
      "text/html": [
       "<style>\n",
       "    table.wandb td:nth-child(1) { padding: 0 10px; text-align: left ; width: auto;} td:nth-child(2) {text-align: left ; width: 100%}\n",
       "    .wandb-row { display: flex; flex-direction: row; flex-wrap: wrap; justify-content: flex-start; width: 100% }\n",
       "    .wandb-col { display: flex; flex-direction: column; flex-basis: 100%; flex: 1; padding: 10px; }\n",
       "    </style>\n",
       "<div class=\"wandb-row\"><div class=\"wandb-col\"><h3>Run history:</h3><br/><table class=\"wandb\"><tr><td>Epoch</td><td>▁▁▁▁▂▂▃▃▃▃▃▃▄▄▅▅▅▅▅▅▆▆▇▇▇▇▇▇██</td></tr><tr><td>Eval Score</td><td>▂▁▂▄▅▆▆▆▆▇▇▇▇██</td></tr><tr><td>Gradient Norm</td><td>▅▅█▇▆▅▂▂▄▂▁▃▂▁▁</td></tr><tr><td>Learning Rate</td><td>▆██▇▇▆▆▅▄▃▂▂▁▁▁</td></tr><tr><td>Train Loss</td><td>█▄▄▃▂▂▂▁▁▁▁▁▁▁▁</td></tr><tr><td>Valid Loss</td><td>▂▁▂▃▄▅▆▆▇▇▇████</td></tr></table><br/></div><div class=\"wandb-col\"><h3>Run summary:</h3><br/><table class=\"wandb\"><tr><td>Epoch</td><td>15</td></tr><tr><td>Eval Score</td><td>0.61384</td></tr><tr><td>Gradient Norm</td><td>1589.82202</td></tr><tr><td>Learning Rate</td><td>0.0</td></tr><tr><td>Train Loss</td><td>0.02244</td></tr><tr><td>Valid Loss</td><td>0.3254</td></tr></table><br/></div></div>"
      ],
      "text/plain": [
       "<IPython.core.display.HTML object>"
      ]
     },
     "metadata": {},
     "output_type": "display_data"
    },
    {
     "data": {
      "text/html": [
       " View run <strong style=\"color:#cdcd00\">fold_0</strong> at: <a href='https://wandb.ai/sli2024/Manaus_AudioMAE_SeqPool_GKFold/runs/9opflxyg' target=\"_blank\">https://wandb.ai/sli2024/Manaus_AudioMAE_SeqPool_GKFold/runs/9opflxyg</a><br/> View project at: <a href='https://wandb.ai/sli2024/Manaus_AudioMAE_SeqPool_GKFold' target=\"_blank\">https://wandb.ai/sli2024/Manaus_AudioMAE_SeqPool_GKFold</a><br/>Synced 5 W&B file(s), 0 media file(s), 0 artifact file(s) and 0 other file(s)"
      ],
      "text/plain": [
       "<IPython.core.display.HTML object>"
      ]
     },
     "metadata": {},
     "output_type": "display_data"
    },
    {
     "data": {
      "text/html": [
       "Find logs at: <code>./wandb/run-20240601_223935-9opflxyg/logs</code>"
      ],
      "text/plain": [
       "<IPython.core.display.HTML object>"
      ]
     },
     "metadata": {},
     "output_type": "display_data"
    },
    {
     "data": {
      "application/vnd.jupyter.widget-view+json": {
       "model_id": "ad8062ccc85d4d4f85de3ad72ffce020",
       "version_major": 2,
       "version_minor": 0
      },
      "text/plain": [
       "VBox(children=(Label(value='Waiting for wandb.init()...\\r'), FloatProgress(value=0.01111234610952023, max=1.0)…"
      ]
     },
     "metadata": {},
     "output_type": "display_data"
    },
    {
     "data": {
      "text/html": [
       "Tracking run with wandb version 0.17.0"
      ],
      "text/plain": [
       "<IPython.core.display.HTML object>"
      ]
     },
     "metadata": {},
     "output_type": "display_data"
    },
    {
     "data": {
      "text/html": [
       "Run data is saved locally in <code>/workspace/voice_of_jungle/wandb/run-20240601_232731-40r86z14</code>"
      ],
      "text/plain": [
       "<IPython.core.display.HTML object>"
      ]
     },
     "metadata": {},
     "output_type": "display_data"
    },
    {
     "data": {
      "text/html": [
       "Syncing run <strong><a href='https://wandb.ai/sli2024/Manaus_AudioMAE_SeqPool_GKFold/runs/40r86z14' target=\"_blank\">fold_1</a></strong> to <a href='https://wandb.ai/sli2024/Manaus_AudioMAE_SeqPool_GKFold' target=\"_blank\">Weights & Biases</a> (<a href='https://wandb.me/run' target=\"_blank\">docs</a>)<br/>"
      ],
      "text/plain": [
       "<IPython.core.display.HTML object>"
      ]
     },
     "metadata": {},
     "output_type": "display_data"
    },
    {
     "data": {
      "text/html": [
       " View project at <a href='https://wandb.ai/sli2024/Manaus_AudioMAE_SeqPool_GKFold' target=\"_blank\">https://wandb.ai/sli2024/Manaus_AudioMAE_SeqPool_GKFold</a>"
      ],
      "text/plain": [
       "<IPython.core.display.HTML object>"
      ]
     },
     "metadata": {},
     "output_type": "display_data"
    },
    {
     "data": {
      "text/html": [
       " View run at <a href='https://wandb.ai/sli2024/Manaus_AudioMAE_SeqPool_GKFold/runs/40r86z14' target=\"_blank\">https://wandb.ai/sli2024/Manaus_AudioMAE_SeqPool_GKFold/runs/40r86z14</a>"
      ],
      "text/plain": [
       "<IPython.core.display.HTML object>"
      ]
     },
     "metadata": {},
     "output_type": "display_data"
    },
    {
     "name": "stdout",
     "output_type": "stream",
     "text": [
      "Loading pretrained weights from Hugging Face hub (gaunernst/vit_base_patch16_1024_128.audiomae_as2m)\n",
      "Converted input conv patch_embed.proj pretrained weights from 3 to 1 channel(s)\n"
     ]
    },
    {
     "data": {
      "application/vnd.jupyter.widget-view+json": {
       "model_id": "5453d7497f4e4836846bd9010a40c4ac",
       "version_major": 2,
       "version_minor": 0
      },
      "text/plain": [
       "Training Progress:   0%|          | 0/15 [00:00<?, ?epoch/s]"
      ]
     },
     "metadata": {},
     "output_type": "display_data"
    },
    {
     "data": {
      "application/vnd.jupyter.widget-view+json": {
       "model_id": "754cd5c0ff864ffc933a8bc0ebf24235",
       "version_major": 2,
       "version_minor": 0
      },
      "text/plain": [
       "Train:   0%|          | 0/559 [00:00<?, ?batch/s]"
      ]
     },
     "metadata": {},
     "output_type": "display_data"
    },
    {
     "name": "stdout",
     "output_type": "stream",
     "text": [
      "Epoch 1 [0/559] | Train Loss: 23.9935 Grad: nan LR: 4.0003e-07 | Elapse: 0.23s\n"
     ]
    },
    {
     "name": "stderr",
     "output_type": "stream",
     "text": [
      "/workspace/voice_of_jungle/myenv/lib/python3.10/site-packages/torch/optim/lr_scheduler.py:143: UserWarning: Detected call of `lr_scheduler.step()` before `optimizer.step()`. In PyTorch 1.1.0 and later, you should call them in the opposite order: `optimizer.step()` before `lr_scheduler.step()`.  Failure to do this will result in PyTorch skipping the first value of the learning rate schedule. See more details at https://pytorch.org/docs/stable/optim.html#how-to-adjust-learning-rate\n",
      "  warnings.warn(\"Detected call of `lr_scheduler.step()` before `optimizer.step()`. \"\n"
     ]
    },
    {
     "name": "stdout",
     "output_type": "stream",
     "text": [
      "Epoch 1 [500/559] | Train Loss: 11.4647 Grad: 6540.0439 LR: 6.6576e-06 | Elapse: 126.32s\n",
      "Epoch 1 [558/559] | Train Loss: 10.4207 Grad: 32598.8867 LR: 7.6104e-06 | Elapse: 140.29s\n"
     ]
    },
    {
     "data": {
      "application/vnd.jupyter.widget-view+json": {
       "model_id": "7ae6f52206014733b5669cf3f1d97a81",
       "version_major": 2,
       "version_minor": 0
      },
      "text/plain": [
       "Valid:   0%|          | 0/140 [00:00<?, ?batch/s]"
      ]
     },
     "metadata": {},
     "output_type": "display_data"
    },
    {
     "name": "stdout",
     "output_type": "stream",
     "text": [
      "Epoch 1 [0/140] | Valid Loss: 2.9758 | Elapse: 0.24s\n",
      "Epoch 1 [139/140] | Valid Loss: 2.0943 | Elapse: 31.88s\n",
      "Epoch 1 - Train Loss: 10.4207 - Valid Loss: 0.5287 - Elapsed Time: 191.21s\n",
      "- Epoch 1: Best model found with loss = 0.5287.\n"
     ]
    },
    {
     "data": {
      "application/vnd.jupyter.widget-view+json": {
       "model_id": "63dd2e9b39cf4c5d8f55f1914e348b3e",
       "version_major": 2,
       "version_minor": 0
      },
      "text/plain": [
       "Train:   0%|          | 0/559 [00:00<?, ?batch/s]"
      ]
     },
     "metadata": {},
     "output_type": "display_data"
    },
    {
     "name": "stdout",
     "output_type": "stream",
     "text": [
      "Epoch 2 [0/559] | Train Loss: 3.3695 Grad: inf LR: 7.6259e-06 | Elapse: 0.23s\n",
      "Epoch 2 [500/559] | Train Loss: 0.4824 Grad: 43.6100 LR: 9.9786e-06 | Elapse: 124.52s\n",
      "Epoch 2 [558/559] | Train Loss: 0.4414 Grad: 1506.6749 LR: 9.9660e-06 | Elapse: 138.23s\n"
     ]
    },
    {
     "data": {
      "application/vnd.jupyter.widget-view+json": {
       "model_id": "0f3f6783fc4942edaf9a8f4a4ed88f4c",
       "version_major": 2,
       "version_minor": 0
      },
      "text/plain": [
       "Valid:   0%|          | 0/140 [00:00<?, ?batch/s]"
      ]
     },
     "metadata": {},
     "output_type": "display_data"
    },
    {
     "name": "stdout",
     "output_type": "stream",
     "text": [
      "Epoch 2 [0/140] | Valid Loss: 0.3128 | Elapse: 0.26s\n",
      "Epoch 2 [139/140] | Valid Loss: 0.1792 | Elapse: 31.37s\n",
      "Epoch 2 - Train Loss: 0.4414 - Valid Loss: 0.5153 - Elapsed Time: 188.67s\n"
     ]
    },
    {
     "data": {
      "application/vnd.jupyter.widget-view+json": {
       "model_id": "1150856d2b88438aa089a3e5dffa100c",
       "version_major": 2,
       "version_minor": 0
      },
      "text/plain": [
       "Train:   0%|          | 0/559 [00:00<?, ?batch/s]"
      ]
     },
     "metadata": {},
     "output_type": "display_data"
    },
    {
     "name": "stdout",
     "output_type": "stream",
     "text": [
      "Epoch 3 [0/559] | Train Loss: 0.4117 Grad: 526134.6250 LR: 9.9657e-06 | Elapse: 0.26s\n",
      "Epoch 3 [500/559] | Train Loss: 0.1803 Grad: 869.1898 LR: 9.7377e-06 | Elapse: 123.15s\n",
      "Epoch 3 [558/559] | Train Loss: 0.1702 Grad: 44783.7344 LR: 9.6978e-06 | Elapse: 136.85s\n"
     ]
    },
    {
     "data": {
      "application/vnd.jupyter.widget-view+json": {
       "model_id": "41cb0ad62b874acd9812c42c50cdd268",
       "version_major": 2,
       "version_minor": 0
      },
      "text/plain": [
       "Valid:   0%|          | 0/140 [00:00<?, ?batch/s]"
      ]
     },
     "metadata": {},
     "output_type": "display_data"
    },
    {
     "name": "stdout",
     "output_type": "stream",
     "text": [
      "Epoch 3 [0/140] | Valid Loss: 0.3430 | Elapse: 0.22s\n",
      "Epoch 3 [139/140] | Valid Loss: 0.1816 | Elapse: 31.83s\n",
      "Epoch 3 - Train Loss: 0.1702 - Valid Loss: 0.4962 - Elapsed Time: 187.77s\n"
     ]
    },
    {
     "data": {
      "application/vnd.jupyter.widget-view+json": {
       "model_id": "f7540a0882244a27a24d3f7c7c3e05eb",
       "version_major": 2,
       "version_minor": 0
      },
      "text/plain": [
       "Train:   0%|          | 0/559 [00:00<?, ?batch/s]"
      ]
     },
     "metadata": {},
     "output_type": "display_data"
    },
    {
     "name": "stdout",
     "output_type": "stream",
     "text": [
      "Epoch 4 [0/559] | Train Loss: 0.3882 Grad: 466979.7812 LR: 9.6970e-06 | Elapse: 0.24s\n",
      "Epoch 4 [500/559] | Train Loss: 0.1656 Grad: 1996.5546 LR: 9.2415e-06 | Elapse: 124.00s\n",
      "Epoch 4 [558/559] | Train Loss: 0.1565 Grad: 74984.6094 LR: 9.1763e-06 | Elapse: 137.48s\n"
     ]
    },
    {
     "data": {
      "application/vnd.jupyter.widget-view+json": {
       "model_id": "9f8144aa638f4467b2f4556ad71103e7",
       "version_major": 2,
       "version_minor": 0
      },
      "text/plain": [
       "Valid:   0%|          | 0/140 [00:00<?, ?batch/s]"
      ]
     },
     "metadata": {},
     "output_type": "display_data"
    },
    {
     "name": "stdout",
     "output_type": "stream",
     "text": [
      "Epoch 4 [0/140] | Valid Loss: 0.3393 | Elapse: 0.22s\n",
      "Epoch 4 [139/140] | Valid Loss: 0.1904 | Elapse: 31.20s\n",
      "Epoch 4 - Train Loss: 0.1565 - Valid Loss: 0.4987 - Elapsed Time: 187.77s\n"
     ]
    },
    {
     "data": {
      "application/vnd.jupyter.widget-view+json": {
       "model_id": "36ceae52344a46a98a0700e6d7fd2c37",
       "version_major": 2,
       "version_minor": 0
      },
      "text/plain": [
       "Train:   0%|          | 0/559 [00:00<?, ?batch/s]"
      ]
     },
     "metadata": {},
     "output_type": "display_data"
    },
    {
     "name": "stdout",
     "output_type": "stream",
     "text": [
      "Epoch 5 [0/559] | Train Loss: 0.3758 Grad: 430008.5938 LR: 9.1752e-06 | Elapse: 0.23s\n",
      "Epoch 5 [500/559] | Train Loss: 0.1522 Grad: 2647.0400 LR: 8.5166e-06 | Elapse: 123.94s\n",
      "Epoch 5 [558/559] | Train Loss: 0.1440 Grad: 75735.7969 LR: 8.4298e-06 | Elapse: 137.15s\n"
     ]
    },
    {
     "data": {
      "application/vnd.jupyter.widget-view+json": {
       "model_id": "7ef6d827da774958ac5d7775797233f5",
       "version_major": 2,
       "version_minor": 0
      },
      "text/plain": [
       "Valid:   0%|          | 0/140 [00:00<?, ?batch/s]"
      ]
     },
     "metadata": {},
     "output_type": "display_data"
    },
    {
     "name": "stdout",
     "output_type": "stream",
     "text": [
      "Epoch 5 [0/140] | Valid Loss: 0.4025 | Elapse: 0.23s\n",
      "Epoch 5 [139/140] | Valid Loss: 0.2033 | Elapse: 31.39s\n",
      "Epoch 5 - Train Loss: 0.1440 - Valid Loss: 0.4973 - Elapsed Time: 187.50s\n"
     ]
    },
    {
     "data": {
      "application/vnd.jupyter.widget-view+json": {
       "model_id": "58c3e16435dd46cfa7925aa3038e05c9",
       "version_major": 2,
       "version_minor": 0
      },
      "text/plain": [
       "Train:   0%|          | 0/559 [00:00<?, ?batch/s]"
      ]
     },
     "metadata": {},
     "output_type": "display_data"
    },
    {
     "name": "stdout",
     "output_type": "stream",
     "text": [
      "Epoch 6 [0/559] | Train Loss: 0.3639 Grad: 432495.6250 LR: 8.4282e-06 | Elapse: 0.25s\n",
      "Epoch 6 [500/559] | Train Loss: 0.1376 Grad: 1562.3470 LR: 7.6021e-06 | Elapse: 122.96s\n",
      "Epoch 6 [558/559] | Train Loss: 0.1307 Grad: 40544.2148 LR: 7.4983e-06 | Elapse: 135.75s\n"
     ]
    },
    {
     "data": {
      "application/vnd.jupyter.widget-view+json": {
       "model_id": "8ed36f2eb6a14b9d982d0db92a1aabfe",
       "version_major": 2,
       "version_minor": 0
      },
      "text/plain": [
       "Valid:   0%|          | 0/140 [00:00<?, ?batch/s]"
      ]
     },
     "metadata": {},
     "output_type": "display_data"
    },
    {
     "name": "stdout",
     "output_type": "stream",
     "text": [
      "Epoch 6 [0/140] | Valid Loss: 0.4429 | Elapse: 0.23s\n",
      "Epoch 6 [139/140] | Valid Loss: 0.2164 | Elapse: 31.57s\n",
      "Epoch 6 - Train Loss: 0.1307 - Valid Loss: 0.4910 - Elapsed Time: 186.33s\n"
     ]
    },
    {
     "data": {
      "application/vnd.jupyter.widget-view+json": {
       "model_id": "c7a9ccf32e7547ea87a24771b053ee83",
       "version_major": 2,
       "version_minor": 0
      },
      "text/plain": [
       "Train:   0%|          | 0/559 [00:00<?, ?batch/s]"
      ]
     },
     "metadata": {},
     "output_type": "display_data"
    },
    {
     "name": "stdout",
     "output_type": "stream",
     "text": [
      "Epoch 7 [0/559] | Train Loss: 0.3708 Grad: 482218.4688 LR: 7.4965e-06 | Elapse: 0.25s\n",
      "Epoch 7 [500/559] | Train Loss: 0.1239 Grad: 3936.5237 LR: 6.5474e-06 | Elapse: 125.14s\n",
      "Epoch 7 [558/559] | Train Loss: 0.1181 Grad: 104155.0625 LR: 6.4322e-06 | Elapse: 137.60s\n"
     ]
    },
    {
     "data": {
      "application/vnd.jupyter.widget-view+json": {
       "model_id": "90132175c7944c599a2eae4477f4fa59",
       "version_major": 2,
       "version_minor": 0
      },
      "text/plain": [
       "Valid:   0%|          | 0/140 [00:00<?, ?batch/s]"
      ]
     },
     "metadata": {},
     "output_type": "display_data"
    },
    {
     "name": "stdout",
     "output_type": "stream",
     "text": [
      "Epoch 7 [0/140] | Valid Loss: 0.4605 | Elapse: 0.23s\n",
      "Epoch 7 [139/140] | Valid Loss: 0.2282 | Elapse: 31.84s\n",
      "Epoch 7 - Train Loss: 0.1181 - Valid Loss: 0.4833 - Elapsed Time: 188.22s\n"
     ]
    },
    {
     "data": {
      "application/vnd.jupyter.widget-view+json": {
       "model_id": "bf1dce5a3bad40ad8e1b0c83499ead3f",
       "version_major": 2,
       "version_minor": 0
      },
      "text/plain": [
       "Train:   0%|          | 0/559 [00:00<?, ?batch/s]"
      ]
     },
     "metadata": {},
     "output_type": "display_data"
    },
    {
     "name": "stdout",
     "output_type": "stream",
     "text": [
      "Epoch 8 [0/559] | Train Loss: 0.3038 Grad: 538822.8125 LR: 6.4302e-06 | Elapse: 0.25s\n",
      "Epoch 8 [500/559] | Train Loss: 0.1084 Grad: 4310.3882 LR: 5.4093e-06 | Elapse: 124.90s\n",
      "Epoch 8 [558/559] | Train Loss: 0.1039 Grad: 120396.3281 LR: 5.2888e-06 | Elapse: 138.02s\n"
     ]
    },
    {
     "data": {
      "application/vnd.jupyter.widget-view+json": {
       "model_id": "94024a2b6a3347e5b870a6393f1744f7",
       "version_major": 2,
       "version_minor": 0
      },
      "text/plain": [
       "Valid:   0%|          | 0/140 [00:00<?, ?batch/s]"
      ]
     },
     "metadata": {},
     "output_type": "display_data"
    },
    {
     "name": "stdout",
     "output_type": "stream",
     "text": [
      "Epoch 8 [0/140] | Valid Loss: 0.4886 | Elapse: 0.24s\n",
      "Epoch 8 [139/140] | Valid Loss: 0.2442 | Elapse: 31.74s\n",
      "Epoch 8 - Train Loss: 0.1039 - Valid Loss: 0.4854 - Elapsed Time: 188.47s\n"
     ]
    },
    {
     "data": {
      "application/vnd.jupyter.widget-view+json": {
       "model_id": "83d41178940e479380ffab5765ea2f69",
       "version_major": 2,
       "version_minor": 0
      },
      "text/plain": [
       "Train:   0%|          | 0/559 [00:00<?, ?batch/s]"
      ]
     },
     "metadata": {},
     "output_type": "display_data"
    },
    {
     "name": "stdout",
     "output_type": "stream",
     "text": [
      "Epoch 9 [0/559] | Train Loss: 0.2144 Grad: inf LR: 5.2868e-06 | Elapse: 0.24s\n",
      "Epoch 9 [500/559] | Train Loss: 0.0998 Grad: 2325.0261 LR: 4.2491e-06 | Elapse: 121.92s\n",
      "Epoch 9 [558/559] | Train Loss: 0.0958 Grad: 58439.0938 LR: 4.1299e-06 | Elapse: 133.82s\n"
     ]
    },
    {
     "data": {
      "application/vnd.jupyter.widget-view+json": {
       "model_id": "5d72b776c4b24bf981f1a6b4bb0ae8f8",
       "version_major": 2,
       "version_minor": 0
      },
      "text/plain": [
       "Valid:   0%|          | 0/140 [00:00<?, ?batch/s]"
      ]
     },
     "metadata": {},
     "output_type": "display_data"
    },
    {
     "name": "stdout",
     "output_type": "stream",
     "text": [
      "Epoch 9 [0/140] | Valid Loss: 0.5211 | Elapse: 0.24s\n",
      "Epoch 9 [139/140] | Valid Loss: 0.2530 | Elapse: 31.91s\n",
      "Epoch 9 - Train Loss: 0.0958 - Valid Loss: 0.4942 - Elapsed Time: 184.89s\n"
     ]
    },
    {
     "data": {
      "application/vnd.jupyter.widget-view+json": {
       "model_id": "094d5bab00674bb6aa1755e01a26a960",
       "version_major": 2,
       "version_minor": 0
      },
      "text/plain": [
       "Train:   0%|          | 0/559 [00:00<?, ?batch/s]"
      ]
     },
     "metadata": {},
     "output_type": "display_data"
    },
    {
     "name": "stdout",
     "output_type": "stream",
     "text": [
      "Epoch 10 [0/559] | Train Loss: 0.2866 Grad: inf LR: 4.1279e-06 | Elapse: 0.25s\n",
      "Epoch 10 [500/559] | Train Loss: 0.0953 Grad: 2177.4460 LR: 3.1294e-06 | Elapse: 125.85s\n",
      "Epoch 10 [558/559] | Train Loss: 0.0916 Grad: 61513.5859 LR: 3.0180e-06 | Elapse: 138.11s\n"
     ]
    },
    {
     "data": {
      "application/vnd.jupyter.widget-view+json": {
       "model_id": "03dbc22a2e3342f2a72b4df461e8ca0c",
       "version_major": 2,
       "version_minor": 0
      },
      "text/plain": [
       "Valid:   0%|          | 0/140 [00:00<?, ?batch/s]"
      ]
     },
     "metadata": {},
     "output_type": "display_data"
    },
    {
     "name": "stdout",
     "output_type": "stream",
     "text": [
      "Epoch 10 [0/140] | Valid Loss: 0.5301 | Elapse: 0.25s\n",
      "Epoch 10 [139/140] | Valid Loss: 0.2625 | Elapse: 31.51s\n",
      "Epoch 10 - Train Loss: 0.0916 - Valid Loss: 0.4986 - Elapsed Time: 188.52s\n"
     ]
    },
    {
     "data": {
      "application/vnd.jupyter.widget-view+json": {
       "model_id": "32487b19ff6641a5bc3baa8cba89ad3f",
       "version_major": 2,
       "version_minor": 0
      },
      "text/plain": [
       "Train:   0%|          | 0/559 [00:00<?, ?batch/s]"
      ]
     },
     "metadata": {},
     "output_type": "display_data"
    },
    {
     "name": "stdout",
     "output_type": "stream",
     "text": [
      "Epoch 11 [0/559] | Train Loss: 0.3171 Grad: inf LR: 3.0161e-06 | Elapse: 0.24s\n",
      "Epoch 11 [500/559] | Train Loss: 0.0958 Grad: 2539.1904 LR: 2.1105e-06 | Elapse: 125.62s\n",
      "Epoch 11 [558/559] | Train Loss: 0.0914 Grad: 78285.5234 LR: 2.0129e-06 | Elapse: 139.10s\n"
     ]
    },
    {
     "data": {
      "application/vnd.jupyter.widget-view+json": {
       "model_id": "5276164db689468eadf5a3f7d81da540",
       "version_major": 2,
       "version_minor": 0
      },
      "text/plain": [
       "Valid:   0%|          | 0/140 [00:00<?, ?batch/s]"
      ]
     },
     "metadata": {},
     "output_type": "display_data"
    },
    {
     "name": "stdout",
     "output_type": "stream",
     "text": [
      "Epoch 11 [0/140] | Valid Loss: 0.5805 | Elapse: 0.25s\n",
      "Epoch 11 [139/140] | Valid Loss: 0.2732 | Elapse: 31.78s\n",
      "Epoch 11 - Train Loss: 0.0914 - Valid Loss: 0.4957 - Elapsed Time: 190.22s\n"
     ]
    },
    {
     "data": {
      "application/vnd.jupyter.widget-view+json": {
       "model_id": "9e4f9dcb63944218925d85a56436ab46",
       "version_major": 2,
       "version_minor": 0
      },
      "text/plain": [
       "Train:   0%|          | 0/559 [00:00<?, ?batch/s]"
      ]
     },
     "metadata": {},
     "output_type": "display_data"
    },
    {
     "name": "stdout",
     "output_type": "stream",
     "text": [
      "Epoch 12 [0/559] | Train Loss: 0.3725 Grad: inf LR: 2.0112e-06 | Elapse: 0.24s\n",
      "Epoch 12 [500/559] | Train Loss: 0.0940 Grad: 4037.3088 LR: 1.2475e-06 | Elapse: 125.29s\n",
      "Epoch 12 [558/559] | Train Loss: 0.0897 Grad: 131263.3594 LR: 1.1688e-06 | Elapse: 137.32s\n"
     ]
    },
    {
     "data": {
      "application/vnd.jupyter.widget-view+json": {
       "model_id": "1dbf129112b34edeaf5d92a7917ebe02",
       "version_major": 2,
       "version_minor": 0
      },
      "text/plain": [
       "Valid:   0%|          | 0/140 [00:00<?, ?batch/s]"
      ]
     },
     "metadata": {},
     "output_type": "display_data"
    },
    {
     "name": "stdout",
     "output_type": "stream",
     "text": [
      "Epoch 12 [0/140] | Valid Loss: 0.5157 | Elapse: 0.25s\n",
      "Epoch 12 [139/140] | Valid Loss: 0.2648 | Elapse: 31.31s\n",
      "Epoch 12 - Train Loss: 0.0897 - Valid Loss: 0.5063 - Elapsed Time: 187.69s\n"
     ]
    },
    {
     "data": {
      "application/vnd.jupyter.widget-view+json": {
       "model_id": "36a5c9510d5f495198c70bfee6c6a413",
       "version_major": 2,
       "version_minor": 0
      },
      "text/plain": [
       "Train:   0%|          | 0/559 [00:00<?, ?batch/s]"
      ]
     },
     "metadata": {},
     "output_type": "display_data"
    },
    {
     "name": "stdout",
     "output_type": "stream",
     "text": [
      "Epoch 13 [0/559] | Train Loss: 0.4122 Grad: inf LR: 1.1675e-06 | Elapse: 0.24s\n",
      "Epoch 13 [500/559] | Train Loss: 0.1052 Grad: 2216.5237 LR: 5.8671e-07 | Elapse: 125.02s\n",
      "Epoch 13 [558/559] | Train Loss: 0.0996 Grad: 55474.5898 LR: 5.3128e-07 | Elapse: 136.92s\n"
     ]
    },
    {
     "data": {
      "application/vnd.jupyter.widget-view+json": {
       "model_id": "d769188e4ac04d9094e779af697cd87c",
       "version_major": 2,
       "version_minor": 0
      },
      "text/plain": [
       "Valid:   0%|          | 0/140 [00:00<?, ?batch/s]"
      ]
     },
     "metadata": {},
     "output_type": "display_data"
    },
    {
     "name": "stdout",
     "output_type": "stream",
     "text": [
      "Epoch 13 [0/140] | Valid Loss: 0.5751 | Elapse: 0.24s\n",
      "Epoch 13 [139/140] | Valid Loss: 0.2592 | Elapse: 31.56s\n",
      "Epoch 13 - Train Loss: 0.0996 - Valid Loss: 0.4952 - Elapsed Time: 187.35s\n"
     ]
    },
    {
     "data": {
      "application/vnd.jupyter.widget-view+json": {
       "model_id": "cbfcf8945cfb489b9140292c67b18e97",
       "version_major": 2,
       "version_minor": 0
      },
      "text/plain": [
       "Train:   0%|          | 0/559 [00:00<?, ?batch/s]"
      ]
     },
     "metadata": {},
     "output_type": "display_data"
    },
    {
     "name": "stdout",
     "output_type": "stream",
     "text": [
      "Epoch 14 [0/559] | Train Loss: 0.3925 Grad: inf LR: 5.3035e-07 | Elapse: 0.23s\n",
      "Epoch 14 [500/559] | Train Loss: 0.1272 Grad: 3378.6755 LR: 1.6390e-07 | Elapse: 123.98s\n",
      "Epoch 14 [558/559] | Train Loss: 0.1192 Grad: 74718.4844 LR: 1.3469e-07 | Elapse: 137.10s\n"
     ]
    },
    {
     "data": {
      "application/vnd.jupyter.widget-view+json": {
       "model_id": "085373c70a554af091c15c5266d350a4",
       "version_major": 2,
       "version_minor": 0
      },
      "text/plain": [
       "Valid:   0%|          | 0/140 [00:00<?, ?batch/s]"
      ]
     },
     "metadata": {},
     "output_type": "display_data"
    },
    {
     "name": "stdout",
     "output_type": "stream",
     "text": [
      "Epoch 14 [0/140] | Valid Loss: 0.4727 | Elapse: 0.24s\n",
      "Epoch 14 [139/140] | Valid Loss: 0.2637 | Elapse: 31.03s\n",
      "Epoch 14 - Train Loss: 0.1192 - Valid Loss: 0.4952 - Elapsed Time: 187.15s\n"
     ]
    },
    {
     "data": {
      "application/vnd.jupyter.widget-view+json": {
       "model_id": "d7deddfaf8bc49ef86bfbd2196f45c60",
       "version_major": 2,
       "version_minor": 0
      },
      "text/plain": [
       "Train:   0%|          | 0/559 [00:00<?, ?batch/s]"
      ]
     },
     "metadata": {},
     "output_type": "display_data"
    },
    {
     "name": "stdout",
     "output_type": "stream",
     "text": [
      "Epoch 15 [0/559] | Train Loss: 0.4494 Grad: 855750.8750 LR: 1.3421e-07 | Elapse: 0.47s\n",
      "Epoch 15 [500/559] | Train Loss: 0.1288 Grad: 2511.7527 LR: 1.8075e-09 | Elapse: 124.39s\n",
      "Epoch 15 [558/559] | Train Loss: 0.1208 Grad: 141405.2969 LR: 4.0043e-10 | Elapse: 138.09s\n"
     ]
    },
    {
     "data": {
      "application/vnd.jupyter.widget-view+json": {
       "model_id": "3659b9b4af9941b88b66a13f918ff746",
       "version_major": 2,
       "version_minor": 0
      },
      "text/plain": [
       "Valid:   0%|          | 0/140 [00:00<?, ?batch/s]"
      ]
     },
     "metadata": {},
     "output_type": "display_data"
    },
    {
     "name": "stdout",
     "output_type": "stream",
     "text": [
      "Epoch 15 [0/140] | Valid Loss: 0.4551 | Elapse: 0.22s\n",
      "Epoch 15 [139/140] | Valid Loss: 0.2613 | Elapse: 30.78s\n",
      "Epoch 15 - Train Loss: 0.1208 - Valid Loss: 0.4969 - Elapsed Time: 187.89s\n",
      "Fold 1 | Time: 47.85min | Overall Evaluation Loss: 0.5299\n"
     ]
    },
    {
     "data": {
      "application/vnd.jupyter.widget-view+json": {
       "model_id": "82aed422781c4ddd9b796729873c7354",
       "version_major": 2,
       "version_minor": 0
      },
      "text/plain": [
       "VBox(children=(Label(value='0.004 MB of 0.004 MB uploaded\\r'), FloatProgress(value=1.0, max=1.0)))"
      ]
     },
     "metadata": {},
     "output_type": "display_data"
    },
    {
     "data": {
      "text/html": [
       "<style>\n",
       "    table.wandb td:nth-child(1) { padding: 0 10px; text-align: left ; width: auto;} td:nth-child(2) {text-align: left ; width: 100%}\n",
       "    .wandb-row { display: flex; flex-direction: row; flex-wrap: wrap; justify-content: flex-start; width: 100% }\n",
       "    .wandb-col { display: flex; flex-direction: column; flex-basis: 100%; flex: 1; padding: 10px; }\n",
       "    </style>\n",
       "<div class=\"wandb-row\"><div class=\"wandb-col\"><h3>Run history:</h3><br/><table class=\"wandb\"><tr><td>Epoch</td><td>▁▁▁▁▂▂▃▃▃▃▃▃▄▄▅▅▅▅▅▅▆▆▇▇▇▇▇▇██</td></tr><tr><td>Eval Score</td><td>█▆▃▃▃▂▁▁▃▃▃▅▃▃▃</td></tr><tr><td>Gradient Norm</td><td>▃▁▃▅▅▃▆▇▄▄▅▇▄▅█</td></tr><tr><td>Learning Rate</td><td>▆██▇▇▆▆▅▄▃▂▂▁▁▁</td></tr><tr><td>Train Loss</td><td>█▁▁▁▁▁▁▁▁▁▁▁▁▁▁</td></tr><tr><td>Valid Loss</td><td>█▁▁▁▁▁▁▁▁▁▁▁▁▁▁</td></tr></table><br/></div><div class=\"wandb-col\"><h3>Run summary:</h3><br/><table class=\"wandb\"><tr><td>Epoch</td><td>15</td></tr><tr><td>Eval Score</td><td>0.49691</td></tr><tr><td>Gradient Norm</td><td>141405.29688</td></tr><tr><td>Learning Rate</td><td>0.0</td></tr><tr><td>Train Loss</td><td>0.12076</td></tr><tr><td>Valid Loss</td><td>0.2613</td></tr></table><br/></div></div>"
      ],
      "text/plain": [
       "<IPython.core.display.HTML object>"
      ]
     },
     "metadata": {},
     "output_type": "display_data"
    },
    {
     "data": {
      "text/html": [
       " View run <strong style=\"color:#cdcd00\">fold_1</strong> at: <a href='https://wandb.ai/sli2024/Manaus_AudioMAE_SeqPool_GKFold/runs/40r86z14' target=\"_blank\">https://wandb.ai/sli2024/Manaus_AudioMAE_SeqPool_GKFold/runs/40r86z14</a><br/> View project at: <a href='https://wandb.ai/sli2024/Manaus_AudioMAE_SeqPool_GKFold' target=\"_blank\">https://wandb.ai/sli2024/Manaus_AudioMAE_SeqPool_GKFold</a><br/>Synced 5 W&B file(s), 0 media file(s), 0 artifact file(s) and 0 other file(s)"
      ],
      "text/plain": [
       "<IPython.core.display.HTML object>"
      ]
     },
     "metadata": {},
     "output_type": "display_data"
    },
    {
     "data": {
      "text/html": [
       "Find logs at: <code>./wandb/run-20240601_232731-40r86z14/logs</code>"
      ],
      "text/plain": [
       "<IPython.core.display.HTML object>"
      ]
     },
     "metadata": {},
     "output_type": "display_data"
    },
    {
     "data": {
      "application/vnd.jupyter.widget-view+json": {
       "model_id": "df53e1117aaf42d4a73bdb00ed58024e",
       "version_major": 2,
       "version_minor": 0
      },
      "text/plain": [
       "VBox(children=(Label(value='Waiting for wandb.init()...\\r'), FloatProgress(value=0.011112303791257242, max=1.0…"
      ]
     },
     "metadata": {},
     "output_type": "display_data"
    },
    {
     "data": {
      "text/html": [
       "Tracking run with wandb version 0.17.0"
      ],
      "text/plain": [
       "<IPython.core.display.HTML object>"
      ]
     },
     "metadata": {},
     "output_type": "display_data"
    },
    {
     "data": {
      "text/html": [
       "Run data is saved locally in <code>/workspace/voice_of_jungle/wandb/run-20240602_001529-4qpvk0xm</code>"
      ],
      "text/plain": [
       "<IPython.core.display.HTML object>"
      ]
     },
     "metadata": {},
     "output_type": "display_data"
    },
    {
     "data": {
      "text/html": [
       "Syncing run <strong><a href='https://wandb.ai/sli2024/Manaus_AudioMAE_SeqPool_GKFold/runs/4qpvk0xm' target=\"_blank\">fold_2</a></strong> to <a href='https://wandb.ai/sli2024/Manaus_AudioMAE_SeqPool_GKFold' target=\"_blank\">Weights & Biases</a> (<a href='https://wandb.me/run' target=\"_blank\">docs</a>)<br/>"
      ],
      "text/plain": [
       "<IPython.core.display.HTML object>"
      ]
     },
     "metadata": {},
     "output_type": "display_data"
    },
    {
     "data": {
      "text/html": [
       " View project at <a href='https://wandb.ai/sli2024/Manaus_AudioMAE_SeqPool_GKFold' target=\"_blank\">https://wandb.ai/sli2024/Manaus_AudioMAE_SeqPool_GKFold</a>"
      ],
      "text/plain": [
       "<IPython.core.display.HTML object>"
      ]
     },
     "metadata": {},
     "output_type": "display_data"
    },
    {
     "data": {
      "text/html": [
       " View run at <a href='https://wandb.ai/sli2024/Manaus_AudioMAE_SeqPool_GKFold/runs/4qpvk0xm' target=\"_blank\">https://wandb.ai/sli2024/Manaus_AudioMAE_SeqPool_GKFold/runs/4qpvk0xm</a>"
      ],
      "text/plain": [
       "<IPython.core.display.HTML object>"
      ]
     },
     "metadata": {},
     "output_type": "display_data"
    },
    {
     "name": "stdout",
     "output_type": "stream",
     "text": [
      "Loading pretrained weights from Hugging Face hub (gaunernst/vit_base_patch16_1024_128.audiomae_as2m)\n",
      "Converted input conv patch_embed.proj pretrained weights from 3 to 1 channel(s)\n"
     ]
    },
    {
     "data": {
      "application/vnd.jupyter.widget-view+json": {
       "model_id": "02a8c22b0c7f4011b958d0c97358908c",
       "version_major": 2,
       "version_minor": 0
      },
      "text/plain": [
       "Training Progress:   0%|          | 0/15 [00:00<?, ?epoch/s]"
      ]
     },
     "metadata": {},
     "output_type": "display_data"
    },
    {
     "data": {
      "application/vnd.jupyter.widget-view+json": {
       "model_id": "de40aec69187433996a722d71869b09f",
       "version_major": 2,
       "version_minor": 0
      },
      "text/plain": [
       "Train:   0%|          | 0/559 [00:00<?, ?batch/s]"
      ]
     },
     "metadata": {},
     "output_type": "display_data"
    },
    {
     "name": "stdout",
     "output_type": "stream",
     "text": [
      "Epoch 1 [0/559] | Train Loss: 1.0337 Grad: inf LR: 4.0003e-07 | Elapse: 0.25s\n"
     ]
    },
    {
     "name": "stderr",
     "output_type": "stream",
     "text": [
      "/workspace/voice_of_jungle/myenv/lib/python3.10/site-packages/torch/optim/lr_scheduler.py:143: UserWarning: Detected call of `lr_scheduler.step()` before `optimizer.step()`. In PyTorch 1.1.0 and later, you should call them in the opposite order: `optimizer.step()` before `lr_scheduler.step()`.  Failure to do this will result in PyTorch skipping the first value of the learning rate schedule. See more details at https://pytorch.org/docs/stable/optim.html#how-to-adjust-learning-rate\n",
      "  warnings.warn(\"Detected call of `lr_scheduler.step()` before `optimizer.step()`. \"\n"
     ]
    },
    {
     "name": "stdout",
     "output_type": "stream",
     "text": [
      "Epoch 1 [500/559] | Train Loss: 0.3507 Grad: 368.8481 LR: 6.6576e-06 | Elapse: 124.08s\n",
      "Epoch 1 [558/559] | Train Loss: 0.3256 Grad: 324.8876 LR: 7.6104e-06 | Elapse: 137.55s\n"
     ]
    },
    {
     "data": {
      "application/vnd.jupyter.widget-view+json": {
       "model_id": "dcb64c7b68944e9b85bd56afece870c9",
       "version_major": 2,
       "version_minor": 0
      },
      "text/plain": [
       "Valid:   0%|          | 0/140 [00:00<?, ?batch/s]"
      ]
     },
     "metadata": {},
     "output_type": "display_data"
    },
    {
     "name": "stdout",
     "output_type": "stream",
     "text": [
      "Epoch 1 [0/140] | Valid Loss: 0.0040 | Elapse: 0.22s\n",
      "Epoch 1 [139/140] | Valid Loss: 0.2181 | Elapse: 31.25s\n",
      "Epoch 1 - Train Loss: 0.3256 - Valid Loss: 0.5228 - Elapsed Time: 187.15s\n",
      "- Epoch 1: Best model found with loss = 0.5228.\n"
     ]
    },
    {
     "data": {
      "application/vnd.jupyter.widget-view+json": {
       "model_id": "4ae94a1c638340edb4884d5554db66cd",
       "version_major": 2,
       "version_minor": 0
      },
      "text/plain": [
       "Train:   0%|          | 0/559 [00:00<?, ?batch/s]"
      ]
     },
     "metadata": {},
     "output_type": "display_data"
    },
    {
     "name": "stdout",
     "output_type": "stream",
     "text": [
      "Epoch 2 [0/559] | Train Loss: 0.5865 Grad: 592587.4375 LR: 7.6259e-06 | Elapse: 0.24s\n",
      "Epoch 2 [500/559] | Train Loss: 0.2030 Grad: 382.3719 LR: 9.9786e-06 | Elapse: 124.21s\n",
      "Epoch 2 [558/559] | Train Loss: 0.1899 Grad: 414.9703 LR: 9.9660e-06 | Elapse: 137.86s\n"
     ]
    },
    {
     "data": {
      "application/vnd.jupyter.widget-view+json": {
       "model_id": "9b8ce33077544712b057c3c0bd50f580",
       "version_major": 2,
       "version_minor": 0
      },
      "text/plain": [
       "Valid:   0%|          | 0/140 [00:00<?, ?batch/s]"
      ]
     },
     "metadata": {},
     "output_type": "display_data"
    },
    {
     "name": "stdout",
     "output_type": "stream",
     "text": [
      "Epoch 2 [0/140] | Valid Loss: 0.0042 | Elapse: 0.26s\n",
      "Epoch 2 [139/140] | Valid Loss: 0.2129 | Elapse: 31.89s\n",
      "Epoch 2 - Train Loss: 0.1899 - Valid Loss: 0.5381 - Elapsed Time: 188.43s\n",
      "- Epoch 2: Best model found with loss = 0.5381.\n"
     ]
    },
    {
     "data": {
      "application/vnd.jupyter.widget-view+json": {
       "model_id": "5fc19f432acd417bb57f20746b6d67aa",
       "version_major": 2,
       "version_minor": 0
      },
      "text/plain": [
       "Train:   0%|          | 0/559 [00:00<?, ?batch/s]"
      ]
     },
     "metadata": {},
     "output_type": "display_data"
    },
    {
     "name": "stdout",
     "output_type": "stream",
     "text": [
      "Epoch 3 [0/559] | Train Loss: 0.4618 Grad: 445284.6875 LR: 9.9657e-06 | Elapse: 0.24s\n",
      "Epoch 3 [500/559] | Train Loss: 0.1724 Grad: 734.6816 LR: 9.7377e-06 | Elapse: 125.28s\n",
      "Epoch 3 [558/559] | Train Loss: 0.1612 Grad: 920.8907 LR: 9.6978e-06 | Elapse: 138.60s\n"
     ]
    },
    {
     "data": {
      "application/vnd.jupyter.widget-view+json": {
       "model_id": "423bc753a2e242aeb3ee8572ed07afa1",
       "version_major": 2,
       "version_minor": 0
      },
      "text/plain": [
       "Valid:   0%|          | 0/140 [00:00<?, ?batch/s]"
      ]
     },
     "metadata": {},
     "output_type": "display_data"
    },
    {
     "name": "stdout",
     "output_type": "stream",
     "text": [
      "Epoch 3 [0/140] | Valid Loss: 0.0045 | Elapse: 0.25s\n",
      "Epoch 3 [139/140] | Valid Loss: 0.2288 | Elapse: 31.52s\n",
      "Epoch 3 - Train Loss: 0.1612 - Valid Loss: 0.5271 - Elapsed Time: 188.41s\n"
     ]
    },
    {
     "data": {
      "application/vnd.jupyter.widget-view+json": {
       "model_id": "ca3c8e106ca14e7cbbd32259e6f35397",
       "version_major": 2,
       "version_minor": 0
      },
      "text/plain": [
       "Train:   0%|          | 0/559 [00:00<?, ?batch/s]"
      ]
     },
     "metadata": {},
     "output_type": "display_data"
    },
    {
     "name": "stdout",
     "output_type": "stream",
     "text": [
      "Epoch 4 [0/559] | Train Loss: 0.3816 Grad: 556071.0000 LR: 9.6970e-06 | Elapse: 0.24s\n",
      "Epoch 4 [500/559] | Train Loss: 0.1469 Grad: 865.0313 LR: 9.2415e-06 | Elapse: 125.38s\n",
      "Epoch 4 [558/559] | Train Loss: 0.1383 Grad: 1239.4542 LR: 9.1763e-06 | Elapse: 138.99s\n"
     ]
    },
    {
     "data": {
      "application/vnd.jupyter.widget-view+json": {
       "model_id": "2a0ea655705e4077a5a43b393cbb93ff",
       "version_major": 2,
       "version_minor": 0
      },
      "text/plain": [
       "Valid:   0%|          | 0/140 [00:00<?, ?batch/s]"
      ]
     },
     "metadata": {},
     "output_type": "display_data"
    },
    {
     "name": "stdout",
     "output_type": "stream",
     "text": [
      "Epoch 4 [0/140] | Valid Loss: 0.0044 | Elapse: 0.25s\n",
      "Epoch 4 [139/140] | Valid Loss: 0.2454 | Elapse: 31.25s\n",
      "Epoch 4 - Train Loss: 0.1383 - Valid Loss: 0.5411 - Elapsed Time: 188.82s\n",
      "- Epoch 4: Best model found with loss = 0.5411.\n"
     ]
    },
    {
     "data": {
      "application/vnd.jupyter.widget-view+json": {
       "model_id": "8cab01e47d4f4758ab9c882ae08ba682",
       "version_major": 2,
       "version_minor": 0
      },
      "text/plain": [
       "Train:   0%|          | 0/559 [00:00<?, ?batch/s]"
      ]
     },
     "metadata": {},
     "output_type": "display_data"
    },
    {
     "name": "stdout",
     "output_type": "stream",
     "text": [
      "Epoch 5 [0/559] | Train Loss: 0.2784 Grad: 619376.5000 LR: 9.1752e-06 | Elapse: 0.26s\n",
      "Epoch 5 [500/559] | Train Loss: 0.1218 Grad: 953.3371 LR: 8.5166e-06 | Elapse: 124.02s\n",
      "Epoch 5 [558/559] | Train Loss: 0.1146 Grad: 628.1855 LR: 8.4298e-06 | Elapse: 135.06s\n"
     ]
    },
    {
     "data": {
      "application/vnd.jupyter.widget-view+json": {
       "model_id": "df865525078e40468dd268480d4a113e",
       "version_major": 2,
       "version_minor": 0
      },
      "text/plain": [
       "Valid:   0%|          | 0/140 [00:00<?, ?batch/s]"
      ]
     },
     "metadata": {},
     "output_type": "display_data"
    },
    {
     "name": "stdout",
     "output_type": "stream",
     "text": [
      "Epoch 5 [0/140] | Valid Loss: 0.0048 | Elapse: 0.24s\n",
      "Epoch 5 [139/140] | Valid Loss: 0.2617 | Elapse: 31.78s\n",
      "Epoch 5 - Train Loss: 0.1146 - Valid Loss: 0.5482 - Elapsed Time: 185.38s\n",
      "- Epoch 5: Best model found with loss = 0.5482.\n"
     ]
    },
    {
     "data": {
      "application/vnd.jupyter.widget-view+json": {
       "model_id": "f383769a39324c47b85bd109754c5501",
       "version_major": 2,
       "version_minor": 0
      },
      "text/plain": [
       "Train:   0%|          | 0/559 [00:00<?, ?batch/s]"
      ]
     },
     "metadata": {},
     "output_type": "display_data"
    },
    {
     "name": "stdout",
     "output_type": "stream",
     "text": [
      "Epoch 6 [0/559] | Train Loss: 0.1726 Grad: inf LR: 8.4282e-06 | Elapse: 0.23s\n",
      "Epoch 6 [500/559] | Train Loss: 0.1093 Grad: 530.6154 LR: 7.6021e-06 | Elapse: 124.65s\n",
      "Epoch 6 [558/559] | Train Loss: 0.1020 Grad: 695.5844 LR: 7.4983e-06 | Elapse: 137.32s\n"
     ]
    },
    {
     "data": {
      "application/vnd.jupyter.widget-view+json": {
       "model_id": "6582045f5dc546999b1a26f7fe9f397a",
       "version_major": 2,
       "version_minor": 0
      },
      "text/plain": [
       "Valid:   0%|          | 0/140 [00:00<?, ?batch/s]"
      ]
     },
     "metadata": {},
     "output_type": "display_data"
    },
    {
     "name": "stdout",
     "output_type": "stream",
     "text": [
      "Epoch 6 [0/140] | Valid Loss: 0.0057 | Elapse: 0.28s\n",
      "Epoch 6 [139/140] | Valid Loss: 0.2801 | Elapse: 31.74s\n",
      "Epoch 6 - Train Loss: 0.1020 - Valid Loss: 0.5603 - Elapsed Time: 187.70s\n",
      "- Epoch 6: Best model found with loss = 0.5603.\n"
     ]
    },
    {
     "data": {
      "application/vnd.jupyter.widget-view+json": {
       "model_id": "7c44fc1ba78a44ed8f930abac2b287ba",
       "version_major": 2,
       "version_minor": 0
      },
      "text/plain": [
       "Train:   0%|          | 0/559 [00:00<?, ?batch/s]"
      ]
     },
     "metadata": {},
     "output_type": "display_data"
    },
    {
     "name": "stdout",
     "output_type": "stream",
     "text": [
      "Epoch 7 [0/559] | Train Loss: 0.2339 Grad: inf LR: 7.4965e-06 | Elapse: 0.24s\n",
      "Epoch 7 [500/559] | Train Loss: 0.0811 Grad: 637.3089 LR: 6.5474e-06 | Elapse: 123.43s\n",
      "Epoch 7 [558/559] | Train Loss: 0.0761 Grad: 710.1782 LR: 6.4322e-06 | Elapse: 136.38s\n"
     ]
    },
    {
     "data": {
      "application/vnd.jupyter.widget-view+json": {
       "model_id": "20a3a3abc8ca45c8840cb78fe4b8688b",
       "version_major": 2,
       "version_minor": 0
      },
      "text/plain": [
       "Valid:   0%|          | 0/140 [00:00<?, ?batch/s]"
      ]
     },
     "metadata": {},
     "output_type": "display_data"
    },
    {
     "name": "stdout",
     "output_type": "stream",
     "text": [
      "Epoch 7 [0/140] | Valid Loss: 0.0058 | Elapse: 0.22s\n",
      "Epoch 7 [139/140] | Valid Loss: 0.2961 | Elapse: 31.45s\n",
      "Epoch 7 - Train Loss: 0.0761 - Valid Loss: 0.5614 - Elapsed Time: 186.56s\n",
      "- Epoch 7: Best model found with loss = 0.5614.\n"
     ]
    },
    {
     "data": {
      "application/vnd.jupyter.widget-view+json": {
       "model_id": "1ae9d593e89549bf932635dfaa21bff4",
       "version_major": 2,
       "version_minor": 0
      },
      "text/plain": [
       "Train:   0%|          | 0/559 [00:00<?, ?batch/s]"
      ]
     },
     "metadata": {},
     "output_type": "display_data"
    },
    {
     "name": "stdout",
     "output_type": "stream",
     "text": [
      "Epoch 8 [0/559] | Train Loss: 0.2203 Grad: inf LR: 6.4302e-06 | Elapse: 0.25s\n",
      "Epoch 8 [500/559] | Train Loss: 0.0643 Grad: 1372.0950 LR: 5.4093e-06 | Elapse: 124.51s\n",
      "Epoch 8 [558/559] | Train Loss: 0.0607 Grad: 1716.7776 LR: 5.2888e-06 | Elapse: 137.85s\n"
     ]
    },
    {
     "data": {
      "application/vnd.jupyter.widget-view+json": {
       "model_id": "c6653c27ac3941f18649ed1043497d23",
       "version_major": 2,
       "version_minor": 0
      },
      "text/plain": [
       "Valid:   0%|          | 0/140 [00:00<?, ?batch/s]"
      ]
     },
     "metadata": {},
     "output_type": "display_data"
    },
    {
     "name": "stdout",
     "output_type": "stream",
     "text": [
      "Epoch 8 [0/140] | Valid Loss: 0.0059 | Elapse: 0.23s\n",
      "Epoch 8 [139/140] | Valid Loss: 0.3117 | Elapse: 31.51s\n",
      "Epoch 8 - Train Loss: 0.0607 - Valid Loss: 0.5665 - Elapsed Time: 187.80s\n",
      "- Epoch 8: Best model found with loss = 0.5665.\n"
     ]
    },
    {
     "data": {
      "application/vnd.jupyter.widget-view+json": {
       "model_id": "175f74513e094890aa2dbbdbe9449b29",
       "version_major": 2,
       "version_minor": 0
      },
      "text/plain": [
       "Train:   0%|          | 0/559 [00:00<?, ?batch/s]"
      ]
     },
     "metadata": {},
     "output_type": "display_data"
    },
    {
     "name": "stdout",
     "output_type": "stream",
     "text": [
      "Epoch 9 [0/559] | Train Loss: 0.2021 Grad: inf LR: 5.2868e-06 | Elapse: 0.23s\n",
      "Epoch 9 [500/559] | Train Loss: 0.0527 Grad: 2791.3760 LR: 4.2491e-06 | Elapse: 124.85s\n",
      "Epoch 9 [558/559] | Train Loss: 0.0496 Grad: 3671.0293 LR: 4.1299e-06 | Elapse: 136.03s\n"
     ]
    },
    {
     "data": {
      "application/vnd.jupyter.widget-view+json": {
       "model_id": "d470f9098c1947179dc1512b3f255e90",
       "version_major": 2,
       "version_minor": 0
      },
      "text/plain": [
       "Valid:   0%|          | 0/140 [00:00<?, ?batch/s]"
      ]
     },
     "metadata": {},
     "output_type": "display_data"
    },
    {
     "name": "stdout",
     "output_type": "stream",
     "text": [
      "Epoch 9 [0/140] | Valid Loss: 0.0065 | Elapse: 0.24s\n",
      "Epoch 9 [139/140] | Valid Loss: 0.3192 | Elapse: 31.58s\n",
      "Epoch 9 - Train Loss: 0.0496 - Valid Loss: 0.5742 - Elapsed Time: 186.10s\n",
      "- Epoch 9: Best model found with loss = 0.5742.\n"
     ]
    },
    {
     "data": {
      "application/vnd.jupyter.widget-view+json": {
       "model_id": "31607321416c4da5888043e87162afce",
       "version_major": 2,
       "version_minor": 0
      },
      "text/plain": [
       "Train:   0%|          | 0/559 [00:00<?, ?batch/s]"
      ]
     },
     "metadata": {},
     "output_type": "display_data"
    },
    {
     "name": "stdout",
     "output_type": "stream",
     "text": [
      "Epoch 10 [0/559] | Train Loss: 0.1934 Grad: inf LR: 4.1279e-06 | Elapse: 0.24s\n",
      "Epoch 10 [500/559] | Train Loss: 0.0478 Grad: 1280.0795 LR: 3.1294e-06 | Elapse: 125.02s\n",
      "Epoch 10 [558/559] | Train Loss: 0.0451 Grad: 1666.3363 LR: 3.0180e-06 | Elapse: 136.84s\n"
     ]
    },
    {
     "data": {
      "application/vnd.jupyter.widget-view+json": {
       "model_id": "ef61b7d4161c41a09856be052cc20bce",
       "version_major": 2,
       "version_minor": 0
      },
      "text/plain": [
       "Valid:   0%|          | 0/140 [00:00<?, ?batch/s]"
      ]
     },
     "metadata": {},
     "output_type": "display_data"
    },
    {
     "name": "stdout",
     "output_type": "stream",
     "text": [
      "Epoch 10 [0/140] | Valid Loss: 0.0070 | Elapse: 0.26s\n",
      "Epoch 10 [139/140] | Valid Loss: 0.3229 | Elapse: 31.45s\n",
      "Epoch 10 - Train Loss: 0.0451 - Valid Loss: 0.5825 - Elapsed Time: 186.89s\n",
      "- Epoch 10: Best model found with loss = 0.5825.\n"
     ]
    },
    {
     "data": {
      "application/vnd.jupyter.widget-view+json": {
       "model_id": "8016f410e47841538a4ea66c8164964a",
       "version_major": 2,
       "version_minor": 0
      },
      "text/plain": [
       "Train:   0%|          | 0/559 [00:00<?, ?batch/s]"
      ]
     },
     "metadata": {},
     "output_type": "display_data"
    },
    {
     "name": "stdout",
     "output_type": "stream",
     "text": [
      "Epoch 11 [0/559] | Train Loss: 0.2590 Grad: inf LR: 3.0161e-06 | Elapse: 0.25s\n",
      "Epoch 11 [500/559] | Train Loss: 0.0435 Grad: 1242.2150 LR: 2.1105e-06 | Elapse: 124.14s\n",
      "Epoch 11 [558/559] | Train Loss: 0.0415 Grad: 2028.0754 LR: 2.0129e-06 | Elapse: 135.42s\n"
     ]
    },
    {
     "data": {
      "application/vnd.jupyter.widget-view+json": {
       "model_id": "6e1b18ccd81d42e4a5594a5e26ac680d",
       "version_major": 2,
       "version_minor": 0
      },
      "text/plain": [
       "Valid:   0%|          | 0/140 [00:00<?, ?batch/s]"
      ]
     },
     "metadata": {},
     "output_type": "display_data"
    },
    {
     "name": "stdout",
     "output_type": "stream",
     "text": [
      "Epoch 11 [0/140] | Valid Loss: 0.0074 | Elapse: 0.24s\n",
      "Epoch 11 [139/140] | Valid Loss: 0.3272 | Elapse: 31.73s\n",
      "Epoch 11 - Train Loss: 0.0415 - Valid Loss: 0.5887 - Elapsed Time: 185.93s\n",
      "- Epoch 11: Best model found with loss = 0.5887.\n"
     ]
    },
    {
     "data": {
      "application/vnd.jupyter.widget-view+json": {
       "model_id": "2a4c774aa8754cb38f5b95f9cd13eae5",
       "version_major": 2,
       "version_minor": 0
      },
      "text/plain": [
       "Train:   0%|          | 0/559 [00:00<?, ?batch/s]"
      ]
     },
     "metadata": {},
     "output_type": "display_data"
    },
    {
     "name": "stdout",
     "output_type": "stream",
     "text": [
      "Epoch 12 [0/559] | Train Loss: 0.2747 Grad: inf LR: 2.0112e-06 | Elapse: 0.22s\n",
      "Epoch 12 [500/559] | Train Loss: 0.0417 Grad: 596.5638 LR: 1.2475e-06 | Elapse: 123.27s\n",
      "Epoch 12 [558/559] | Train Loss: 0.0400 Grad: 1074.0629 LR: 1.1688e-06 | Elapse: 136.13s\n"
     ]
    },
    {
     "data": {
      "application/vnd.jupyter.widget-view+json": {
       "model_id": "66076fd308e142a08490fcdc9087bed6",
       "version_major": 2,
       "version_minor": 0
      },
      "text/plain": [
       "Valid:   0%|          | 0/140 [00:00<?, ?batch/s]"
      ]
     },
     "metadata": {},
     "output_type": "display_data"
    },
    {
     "name": "stdout",
     "output_type": "stream",
     "text": [
      "Epoch 12 [0/140] | Valid Loss: 0.0083 | Elapse: 0.23s\n",
      "Epoch 12 [139/140] | Valid Loss: 0.3345 | Elapse: 31.34s\n",
      "Epoch 12 - Train Loss: 0.0400 - Valid Loss: 0.5921 - Elapsed Time: 186.31s\n",
      "- Epoch 12: Best model found with loss = 0.5921.\n"
     ]
    },
    {
     "data": {
      "application/vnd.jupyter.widget-view+json": {
       "model_id": "aba168e5f904451185c2c3461e03eacb",
       "version_major": 2,
       "version_minor": 0
      },
      "text/plain": [
       "Train:   0%|          | 0/559 [00:00<?, ?batch/s]"
      ]
     },
     "metadata": {},
     "output_type": "display_data"
    },
    {
     "name": "stdout",
     "output_type": "stream",
     "text": [
      "Epoch 13 [0/559] | Train Loss: 0.3180 Grad: inf LR: 1.1675e-06 | Elapse: 0.24s\n",
      "Epoch 13 [500/559] | Train Loss: 0.0530 Grad: 662.0274 LR: 5.8671e-07 | Elapse: 124.13s\n",
      "Epoch 13 [558/559] | Train Loss: 0.0493 Grad: 760.6327 LR: 5.3128e-07 | Elapse: 136.71s\n"
     ]
    },
    {
     "data": {
      "application/vnd.jupyter.widget-view+json": {
       "model_id": "6b18fe7e5850471fb0ca090543e8c8bc",
       "version_major": 2,
       "version_minor": 0
      },
      "text/plain": [
       "Valid:   0%|          | 0/140 [00:00<?, ?batch/s]"
      ]
     },
     "metadata": {},
     "output_type": "display_data"
    },
    {
     "name": "stdout",
     "output_type": "stream",
     "text": [
      "Epoch 13 [0/140] | Valid Loss: 0.0085 | Elapse: 0.23s\n",
      "Epoch 13 [139/140] | Valid Loss: 0.3323 | Elapse: 31.34s\n",
      "Epoch 13 - Train Loss: 0.0493 - Valid Loss: 0.5897 - Elapsed Time: 186.72s\n"
     ]
    },
    {
     "data": {
      "application/vnd.jupyter.widget-view+json": {
       "model_id": "f02d3a0d3d9b40bb9311f93ecd0a6e4f",
       "version_major": 2,
       "version_minor": 0
      },
      "text/plain": [
       "Train:   0%|          | 0/559 [00:00<?, ?batch/s]"
      ]
     },
     "metadata": {},
     "output_type": "display_data"
    },
    {
     "name": "stdout",
     "output_type": "stream",
     "text": [
      "Epoch 14 [0/559] | Train Loss: 0.2805 Grad: inf LR: 5.3035e-07 | Elapse: 0.25s\n",
      "Epoch 14 [500/559] | Train Loss: 0.0581 Grad: 1661.8037 LR: 1.6390e-07 | Elapse: 123.59s\n",
      "Epoch 14 [558/559] | Train Loss: 0.0544 Grad: 1499.0441 LR: 1.3469e-07 | Elapse: 132.62s\n"
     ]
    },
    {
     "data": {
      "application/vnd.jupyter.widget-view+json": {
       "model_id": "7d5b2bccda0e4cebab73efd5f2db3447",
       "version_major": 2,
       "version_minor": 0
      },
      "text/plain": [
       "Valid:   0%|          | 0/140 [00:00<?, ?batch/s]"
      ]
     },
     "metadata": {},
     "output_type": "display_data"
    },
    {
     "name": "stdout",
     "output_type": "stream",
     "text": [
      "Epoch 14 [0/140] | Valid Loss: 0.0091 | Elapse: 0.23s\n",
      "Epoch 14 [139/140] | Valid Loss: 0.3221 | Elapse: 31.49s\n",
      "Epoch 14 - Train Loss: 0.0544 - Valid Loss: 0.5986 - Elapsed Time: 182.54s\n",
      "- Epoch 14: Best model found with loss = 0.5986.\n"
     ]
    },
    {
     "data": {
      "application/vnd.jupyter.widget-view+json": {
       "model_id": "4140e786723841eaa2d2aa10ea7aba3f",
       "version_major": 2,
       "version_minor": 0
      },
      "text/plain": [
       "Train:   0%|          | 0/559 [00:00<?, ?batch/s]"
      ]
     },
     "metadata": {},
     "output_type": "display_data"
    },
    {
     "name": "stdout",
     "output_type": "stream",
     "text": [
      "Epoch 15 [0/559] | Train Loss: 0.2984 Grad: inf LR: 1.3421e-07 | Elapse: 0.24s\n",
      "Epoch 15 [500/559] | Train Loss: 0.0508 Grad: 1655.7025 LR: 1.8075e-09 | Elapse: 120.68s\n",
      "Epoch 15 [558/559] | Train Loss: 0.0477 Grad: 1480.7372 LR: 4.0043e-10 | Elapse: 130.18s\n"
     ]
    },
    {
     "data": {
      "application/vnd.jupyter.widget-view+json": {
       "model_id": "48b1d20b5d2a40b2831766eeb19d69d7",
       "version_major": 2,
       "version_minor": 0
      },
      "text/plain": [
       "Valid:   0%|          | 0/140 [00:00<?, ?batch/s]"
      ]
     },
     "metadata": {},
     "output_type": "display_data"
    },
    {
     "name": "stdout",
     "output_type": "stream",
     "text": [
      "Epoch 15 [0/140] | Valid Loss: 0.0091 | Elapse: 0.23s\n",
      "Epoch 15 [139/140] | Valid Loss: 0.3218 | Elapse: 31.89s\n",
      "Epoch 15 - Train Loss: 0.0477 - Valid Loss: 0.5987 - Elapsed Time: 180.66s\n",
      "- Epoch 15: Best model found with loss = 0.5987.\n",
      "Fold 2 | Time: 47.74min | Overall Evaluation Loss: 0.4982\n"
     ]
    },
    {
     "data": {
      "application/vnd.jupyter.widget-view+json": {
       "model_id": "d99393731dec43c69550b7acb0d0cc97",
       "version_major": 2,
       "version_minor": 0
      },
      "text/plain": [
       "VBox(children=(Label(value='0.004 MB of 0.004 MB uploaded\\r'), FloatProgress(value=1.0, max=1.0)))"
      ]
     },
     "metadata": {},
     "output_type": "display_data"
    },
    {
     "data": {
      "text/html": [
       "<style>\n",
       "    table.wandb td:nth-child(1) { padding: 0 10px; text-align: left ; width: auto;} td:nth-child(2) {text-align: left ; width: 100%}\n",
       "    .wandb-row { display: flex; flex-direction: row; flex-wrap: wrap; justify-content: flex-start; width: 100% }\n",
       "    .wandb-col { display: flex; flex-direction: column; flex-basis: 100%; flex: 1; padding: 10px; }\n",
       "    </style>\n",
       "<div class=\"wandb-row\"><div class=\"wandb-col\"><h3>Run history:</h3><br/><table class=\"wandb\"><tr><td>Epoch</td><td>▁▁▁▁▂▂▃▃▃▃▃▃▄▄▅▅▅▅▅▅▆▆▇▇▇▇▇▇██</td></tr><tr><td>Eval Score</td><td>▁▂▁▃▃▄▅▅▆▇▇▇▇██</td></tr><tr><td>Gradient Norm</td><td>▁▁▂▃▂▂▂▄█▄▅▃▂▃▃</td></tr><tr><td>Learning Rate</td><td>▆██▇▇▆▆▅▄▃▂▂▁▁▁</td></tr><tr><td>Train Loss</td><td>█▅▄▃▃▃▂▂▁▁▁▁▁▁▁</td></tr><tr><td>Valid Loss</td><td>▁▁▂▃▄▅▆▇▇▇███▇▇</td></tr></table><br/></div><div class=\"wandb-col\"><h3>Run summary:</h3><br/><table class=\"wandb\"><tr><td>Epoch</td><td>15</td></tr><tr><td>Eval Score</td><td>0.59865</td></tr><tr><td>Gradient Norm</td><td>1480.73718</td></tr><tr><td>Learning Rate</td><td>0.0</td></tr><tr><td>Train Loss</td><td>0.04774</td></tr><tr><td>Valid Loss</td><td>0.32183</td></tr></table><br/></div></div>"
      ],
      "text/plain": [
       "<IPython.core.display.HTML object>"
      ]
     },
     "metadata": {},
     "output_type": "display_data"
    },
    {
     "data": {
      "text/html": [
       " View run <strong style=\"color:#cdcd00\">fold_2</strong> at: <a href='https://wandb.ai/sli2024/Manaus_AudioMAE_SeqPool_GKFold/runs/4qpvk0xm' target=\"_blank\">https://wandb.ai/sli2024/Manaus_AudioMAE_SeqPool_GKFold/runs/4qpvk0xm</a><br/> View project at: <a href='https://wandb.ai/sli2024/Manaus_AudioMAE_SeqPool_GKFold' target=\"_blank\">https://wandb.ai/sli2024/Manaus_AudioMAE_SeqPool_GKFold</a><br/>Synced 5 W&B file(s), 0 media file(s), 0 artifact file(s) and 0 other file(s)"
      ],
      "text/plain": [
       "<IPython.core.display.HTML object>"
      ]
     },
     "metadata": {},
     "output_type": "display_data"
    },
    {
     "data": {
      "text/html": [
       "Find logs at: <code>./wandb/run-20240602_001529-4qpvk0xm/logs</code>"
      ],
      "text/plain": [
       "<IPython.core.display.HTML object>"
      ]
     },
     "metadata": {},
     "output_type": "display_data"
    },
    {
     "data": {
      "application/vnd.jupyter.widget-view+json": {
       "model_id": "3c9344695eb04645b2f4e638230586ff",
       "version_major": 2,
       "version_minor": 0
      },
      "text/plain": [
       "VBox(children=(Label(value='Waiting for wandb.init()...\\r'), FloatProgress(value=0.011112491121619113, max=1.0…"
      ]
     },
     "metadata": {},
     "output_type": "display_data"
    },
    {
     "data": {
      "text/html": [
       "Tracking run with wandb version 0.17.0"
      ],
      "text/plain": [
       "<IPython.core.display.HTML object>"
      ]
     },
     "metadata": {},
     "output_type": "display_data"
    },
    {
     "data": {
      "text/html": [
       "Run data is saved locally in <code>/workspace/voice_of_jungle/wandb/run-20240602_010322-vqkd394e</code>"
      ],
      "text/plain": [
       "<IPython.core.display.HTML object>"
      ]
     },
     "metadata": {},
     "output_type": "display_data"
    },
    {
     "data": {
      "text/html": [
       "Syncing run <strong><a href='https://wandb.ai/sli2024/Manaus_AudioMAE_SeqPool_GKFold/runs/vqkd394e' target=\"_blank\">fold_3</a></strong> to <a href='https://wandb.ai/sli2024/Manaus_AudioMAE_SeqPool_GKFold' target=\"_blank\">Weights & Biases</a> (<a href='https://wandb.me/run' target=\"_blank\">docs</a>)<br/>"
      ],
      "text/plain": [
       "<IPython.core.display.HTML object>"
      ]
     },
     "metadata": {},
     "output_type": "display_data"
    },
    {
     "data": {
      "text/html": [
       " View project at <a href='https://wandb.ai/sli2024/Manaus_AudioMAE_SeqPool_GKFold' target=\"_blank\">https://wandb.ai/sli2024/Manaus_AudioMAE_SeqPool_GKFold</a>"
      ],
      "text/plain": [
       "<IPython.core.display.HTML object>"
      ]
     },
     "metadata": {},
     "output_type": "display_data"
    },
    {
     "data": {
      "text/html": [
       " View run at <a href='https://wandb.ai/sli2024/Manaus_AudioMAE_SeqPool_GKFold/runs/vqkd394e' target=\"_blank\">https://wandb.ai/sli2024/Manaus_AudioMAE_SeqPool_GKFold/runs/vqkd394e</a>"
      ],
      "text/plain": [
       "<IPython.core.display.HTML object>"
      ]
     },
     "metadata": {},
     "output_type": "display_data"
    },
    {
     "name": "stdout",
     "output_type": "stream",
     "text": [
      "Loading pretrained weights from Hugging Face hub (gaunernst/vit_base_patch16_1024_128.audiomae_as2m)\n",
      "Converted input conv patch_embed.proj pretrained weights from 3 to 1 channel(s)\n"
     ]
    },
    {
     "data": {
      "application/vnd.jupyter.widget-view+json": {
       "model_id": "2db17e8357744d8bb4bda0526692dfb0",
       "version_major": 2,
       "version_minor": 0
      },
      "text/plain": [
       "Training Progress:   0%|          | 0/15 [00:00<?, ?epoch/s]"
      ]
     },
     "metadata": {},
     "output_type": "display_data"
    },
    {
     "data": {
      "application/vnd.jupyter.widget-view+json": {
       "model_id": "2f4a8213799041c29c41ab14e72bf88a",
       "version_major": 2,
       "version_minor": 0
      },
      "text/plain": [
       "Train:   0%|          | 0/559 [00:00<?, ?batch/s]"
      ]
     },
     "metadata": {},
     "output_type": "display_data"
    },
    {
     "name": "stdout",
     "output_type": "stream",
     "text": [
      "Epoch 1 [0/559] | Train Loss: 29.3160 Grad: nan LR: 4.0003e-07 | Elapse: 0.27s\n"
     ]
    },
    {
     "name": "stderr",
     "output_type": "stream",
     "text": [
      "/workspace/voice_of_jungle/myenv/lib/python3.10/site-packages/torch/optim/lr_scheduler.py:143: UserWarning: Detected call of `lr_scheduler.step()` before `optimizer.step()`. In PyTorch 1.1.0 and later, you should call them in the opposite order: `optimizer.step()` before `lr_scheduler.step()`.  Failure to do this will result in PyTorch skipping the first value of the learning rate schedule. See more details at https://pytorch.org/docs/stable/optim.html#how-to-adjust-learning-rate\n",
      "  warnings.warn(\"Detected call of `lr_scheduler.step()` before `optimizer.step()`. \"\n"
     ]
    },
    {
     "name": "stdout",
     "output_type": "stream",
     "text": [
      "Epoch 1 [500/559] | Train Loss: 15.0850 Grad: 23421.9902 LR: 6.6576e-06 | Elapse: 124.49s\n",
      "Epoch 1 [558/559] | Train Loss: 13.6840 Grad: 31350.7500 LR: 7.6104e-06 | Elapse: 136.10s\n"
     ]
    },
    {
     "data": {
      "application/vnd.jupyter.widget-view+json": {
       "model_id": "dc1568ae8afc4aec81e5ed25e7270857",
       "version_major": 2,
       "version_minor": 0
      },
      "text/plain": [
       "Valid:   0%|          | 0/140 [00:00<?, ?batch/s]"
      ]
     },
     "metadata": {},
     "output_type": "display_data"
    },
    {
     "name": "stdout",
     "output_type": "stream",
     "text": [
      "Epoch 1 [0/140] | Valid Loss: 0.2797 | Elapse: 0.24s\n",
      "Epoch 1 [139/140] | Valid Loss: 2.1466 | Elapse: 31.80s\n",
      "Epoch 1 - Train Loss: 13.6840 - Valid Loss: 0.4988 - Elapsed Time: 188.99s\n",
      "- Epoch 1: Best model found with loss = 0.4988.\n"
     ]
    },
    {
     "data": {
      "application/vnd.jupyter.widget-view+json": {
       "model_id": "a68c8f87b957461fa62bde3f9e5e63c9",
       "version_major": 2,
       "version_minor": 0
      },
      "text/plain": [
       "Train:   0%|          | 0/559 [00:00<?, ?batch/s]"
      ]
     },
     "metadata": {},
     "output_type": "display_data"
    },
    {
     "name": "stdout",
     "output_type": "stream",
     "text": [
      "Epoch 2 [0/559] | Train Loss: 1.9267 Grad: inf LR: 7.6259e-06 | Elapse: 0.23s\n",
      "Epoch 2 [500/559] | Train Loss: 0.5457 Grad: 6452.4404 LR: 9.9786e-06 | Elapse: 123.93s\n",
      "Epoch 2 [558/559] | Train Loss: 0.4987 Grad: 11565.4551 LR: 9.9660e-06 | Elapse: 134.05s\n"
     ]
    },
    {
     "data": {
      "application/vnd.jupyter.widget-view+json": {
       "model_id": "801f55b8377243f88361fdf8ff6a4e5b",
       "version_major": 2,
       "version_minor": 0
      },
      "text/plain": [
       "Valid:   0%|          | 0/140 [00:00<?, ?batch/s]"
      ]
     },
     "metadata": {},
     "output_type": "display_data"
    },
    {
     "name": "stdout",
     "output_type": "stream",
     "text": [
      "Epoch 2 [0/140] | Valid Loss: 0.0015 | Elapse: 0.23s\n",
      "Epoch 2 [139/140] | Valid Loss: 0.2905 | Elapse: 31.91s\n",
      "Epoch 2 - Train Loss: 0.4987 - Valid Loss: 0.5045 - Elapsed Time: 187.02s\n",
      "- Epoch 2: Best model found with loss = 0.5045.\n"
     ]
    },
    {
     "data": {
      "application/vnd.jupyter.widget-view+json": {
       "model_id": "4ac781738f11429dbcbf4ce4b8085210",
       "version_major": 2,
       "version_minor": 0
      },
      "text/plain": [
       "Train:   0%|          | 0/559 [00:00<?, ?batch/s]"
      ]
     },
     "metadata": {},
     "output_type": "display_data"
    },
    {
     "name": "stdout",
     "output_type": "stream",
     "text": [
      "Epoch 3 [0/559] | Train Loss: 0.5637 Grad: inf LR: 9.9657e-06 | Elapse: 0.25s\n",
      "Epoch 3 [500/559] | Train Loss: 0.1988 Grad: 9777.4014 LR: 9.7377e-06 | Elapse: 123.22s\n",
      "Epoch 3 [558/559] | Train Loss: 0.1855 Grad: 17593.3242 LR: 9.6978e-06 | Elapse: 133.07s\n"
     ]
    },
    {
     "data": {
      "application/vnd.jupyter.widget-view+json": {
       "model_id": "d98553fd33534c01ba2d62e2d2ea47a3",
       "version_major": 2,
       "version_minor": 0
      },
      "text/plain": [
       "Valid:   0%|          | 0/140 [00:00<?, ?batch/s]"
      ]
     },
     "metadata": {},
     "output_type": "display_data"
    },
    {
     "name": "stdout",
     "output_type": "stream",
     "text": [
      "Epoch 3 [0/140] | Valid Loss: 0.0036 | Elapse: 0.23s\n",
      "Epoch 3 [139/140] | Valid Loss: 0.2257 | Elapse: 31.76s\n",
      "Epoch 3 - Train Loss: 0.1855 - Valid Loss: 0.5112 - Elapsed Time: 186.50s\n",
      "- Epoch 3: Best model found with loss = 0.5112.\n"
     ]
    },
    {
     "data": {
      "application/vnd.jupyter.widget-view+json": {
       "model_id": "735ee7f547e64b79af1f7da092fd6041",
       "version_major": 2,
       "version_minor": 0
      },
      "text/plain": [
       "Train:   0%|          | 0/559 [00:00<?, ?batch/s]"
      ]
     },
     "metadata": {},
     "output_type": "display_data"
    },
    {
     "name": "stdout",
     "output_type": "stream",
     "text": [
      "Epoch 4 [0/559] | Train Loss: 0.4427 Grad: 663805.5625 LR: 9.6970e-06 | Elapse: 0.26s\n",
      "Epoch 4 [500/559] | Train Loss: 0.1747 Grad: 13934.7607 LR: 9.2415e-06 | Elapse: 122.55s\n",
      "Epoch 4 [558/559] | Train Loss: 0.1637 Grad: 23670.3711 LR: 9.1763e-06 | Elapse: 135.27s\n"
     ]
    },
    {
     "data": {
      "application/vnd.jupyter.widget-view+json": {
       "model_id": "75ecb6b330dc4db792e5dca65435b5af",
       "version_major": 2,
       "version_minor": 0
      },
      "text/plain": [
       "Valid:   0%|          | 0/140 [00:00<?, ?batch/s]"
      ]
     },
     "metadata": {},
     "output_type": "display_data"
    },
    {
     "name": "stdout",
     "output_type": "stream",
     "text": [
      "Epoch 4 [0/140] | Valid Loss: 0.0021 | Elapse: 0.26s\n",
      "Epoch 4 [139/140] | Valid Loss: 0.2219 | Elapse: 31.75s\n",
      "Epoch 4 - Train Loss: 0.1637 - Valid Loss: 0.5205 - Elapsed Time: 187.73s\n",
      "- Epoch 4: Best model found with loss = 0.5205.\n"
     ]
    },
    {
     "data": {
      "application/vnd.jupyter.widget-view+json": {
       "model_id": "659a40e10b514922aef59ce0c3f48a3c",
       "version_major": 2,
       "version_minor": 0
      },
      "text/plain": [
       "Train:   0%|          | 0/559 [00:00<?, ?batch/s]"
      ]
     },
     "metadata": {},
     "output_type": "display_data"
    },
    {
     "name": "stdout",
     "output_type": "stream",
     "text": [
      "Epoch 5 [0/559] | Train Loss: 0.3687 Grad: 573950.1250 LR: 9.1752e-06 | Elapse: 0.23s\n",
      "Epoch 5 [500/559] | Train Loss: 0.1645 Grad: 68192.9766 LR: 8.5166e-06 | Elapse: 120.45s\n",
      "Epoch 5 [558/559] | Train Loss: 0.1537 Grad: 90373.5391 LR: 8.4298e-06 | Elapse: 134.20s\n"
     ]
    },
    {
     "data": {
      "application/vnd.jupyter.widget-view+json": {
       "model_id": "ec93da3d14114dce9f52b59333b646fc",
       "version_major": 2,
       "version_minor": 0
      },
      "text/plain": [
       "Valid:   0%|          | 0/140 [00:00<?, ?batch/s]"
      ]
     },
     "metadata": {},
     "output_type": "display_data"
    },
    {
     "name": "stdout",
     "output_type": "stream",
     "text": [
      "Epoch 5 [0/140] | Valid Loss: 0.0007 | Elapse: 0.25s\n",
      "Epoch 5 [139/140] | Valid Loss: 0.2526 | Elapse: 31.99s\n",
      "Epoch 5 - Train Loss: 0.1537 - Valid Loss: 0.5229 - Elapsed Time: 186.90s\n",
      "- Epoch 5: Best model found with loss = 0.5229.\n"
     ]
    },
    {
     "data": {
      "application/vnd.jupyter.widget-view+json": {
       "model_id": "ad916fdeeabe4ec09743bc4818f13eb9",
       "version_major": 2,
       "version_minor": 0
      },
      "text/plain": [
       "Train:   0%|          | 0/559 [00:00<?, ?batch/s]"
      ]
     },
     "metadata": {},
     "output_type": "display_data"
    },
    {
     "name": "stdout",
     "output_type": "stream",
     "text": [
      "Epoch 6 [0/559] | Train Loss: 0.4883 Grad: 1102607.6250 LR: 8.4282e-06 | Elapse: 0.24s\n",
      "Epoch 6 [500/559] | Train Loss: 0.1574 Grad: 1813.6819 LR: 7.6021e-06 | Elapse: 124.14s\n",
      "Epoch 6 [558/559] | Train Loss: 0.1472 Grad: 3522.9060 LR: 7.4983e-06 | Elapse: 137.93s\n"
     ]
    },
    {
     "data": {
      "application/vnd.jupyter.widget-view+json": {
       "model_id": "d0a44ced2aa842a1b33907f1aa1876ec",
       "version_major": 2,
       "version_minor": 0
      },
      "text/plain": [
       "Valid:   0%|          | 0/140 [00:00<?, ?batch/s]"
      ]
     },
     "metadata": {},
     "output_type": "display_data"
    },
    {
     "name": "stdout",
     "output_type": "stream",
     "text": [
      "Epoch 6 [0/140] | Valid Loss: 0.0016 | Elapse: 0.22s\n",
      "Epoch 6 [139/140] | Valid Loss: 0.2523 | Elapse: 32.30s\n",
      "Epoch 6 - Train Loss: 0.1472 - Valid Loss: 0.5203 - Elapsed Time: 190.80s\n"
     ]
    },
    {
     "data": {
      "application/vnd.jupyter.widget-view+json": {
       "model_id": "c82f7d7b8d9548a4840f336dd1647022",
       "version_major": 2,
       "version_minor": 0
      },
      "text/plain": [
       "Train:   0%|          | 0/559 [00:00<?, ?batch/s]"
      ]
     },
     "metadata": {},
     "output_type": "display_data"
    },
    {
     "name": "stdout",
     "output_type": "stream",
     "text": [
      "Epoch 7 [0/559] | Train Loss: 0.3944 Grad: inf LR: 7.4965e-06 | Elapse: 0.25s\n",
      "Epoch 7 [500/559] | Train Loss: 0.1457 Grad: 7912.3149 LR: 6.5474e-06 | Elapse: 126.20s\n",
      "Epoch 7 [558/559] | Train Loss: 0.1358 Grad: 19265.0020 LR: 6.4322e-06 | Elapse: 140.65s\n"
     ]
    },
    {
     "data": {
      "application/vnd.jupyter.widget-view+json": {
       "model_id": "9674e7beab4a4e72adb2e22a410b84b2",
       "version_major": 2,
       "version_minor": 0
      },
      "text/plain": [
       "Valid:   0%|          | 0/140 [00:00<?, ?batch/s]"
      ]
     },
     "metadata": {},
     "output_type": "display_data"
    },
    {
     "name": "stdout",
     "output_type": "stream",
     "text": [
      "Epoch 7 [0/140] | Valid Loss: 0.0027 | Elapse: 0.24s\n",
      "Epoch 7 [139/140] | Valid Loss: 0.2609 | Elapse: 32.10s\n",
      "Epoch 7 - Train Loss: 0.1358 - Valid Loss: 0.5211 - Elapsed Time: 193.66s\n"
     ]
    },
    {
     "data": {
      "application/vnd.jupyter.widget-view+json": {
       "model_id": "069bc049c0ff43eda87de755a2aa5166",
       "version_major": 2,
       "version_minor": 0
      },
      "text/plain": [
       "Train:   0%|          | 0/559 [00:00<?, ?batch/s]"
      ]
     },
     "metadata": {},
     "output_type": "display_data"
    },
    {
     "name": "stdout",
     "output_type": "stream",
     "text": [
      "Epoch 8 [0/559] | Train Loss: 0.3879 Grad: inf LR: 6.4302e-06 | Elapse: 0.24s\n",
      "Epoch 8 [500/559] | Train Loss: 0.1303 Grad: 16378.7100 LR: 5.4093e-06 | Elapse: 125.17s\n",
      "Epoch 8 [558/559] | Train Loss: 0.1218 Grad: 47861.6641 LR: 5.2888e-06 | Elapse: 139.06s\n"
     ]
    },
    {
     "data": {
      "application/vnd.jupyter.widget-view+json": {
       "model_id": "694a352b9c1d4b3bad344c8d68dd0a91",
       "version_major": 2,
       "version_minor": 0
      },
      "text/plain": [
       "Valid:   0%|          | 0/140 [00:00<?, ?batch/s]"
      ]
     },
     "metadata": {},
     "output_type": "display_data"
    },
    {
     "name": "stdout",
     "output_type": "stream",
     "text": [
      "Epoch 8 [0/140] | Valid Loss: 0.0028 | Elapse: 0.23s\n",
      "Epoch 8 [139/140] | Valid Loss: 0.2677 | Elapse: 31.20s\n",
      "Epoch 8 - Train Loss: 0.1218 - Valid Loss: 0.5302 - Elapsed Time: 191.01s\n",
      "- Epoch 8: Best model found with loss = 0.5302.\n"
     ]
    },
    {
     "data": {
      "application/vnd.jupyter.widget-view+json": {
       "model_id": "24740fa99d3444ab95960ab49d7f2790",
       "version_major": 2,
       "version_minor": 0
      },
      "text/plain": [
       "Train:   0%|          | 0/559 [00:00<?, ?batch/s]"
      ]
     },
     "metadata": {},
     "output_type": "display_data"
    },
    {
     "name": "stdout",
     "output_type": "stream",
     "text": [
      "Epoch 9 [0/559] | Train Loss: 0.4499 Grad: inf LR: 5.2868e-06 | Elapse: 0.25s\n",
      "Epoch 9 [500/559] | Train Loss: 0.1719 Grad: 8629.8174 LR: 4.2491e-06 | Elapse: 124.78s\n",
      "Epoch 9 [558/559] | Train Loss: 0.1616 Grad: 11536.0898 LR: 4.1299e-06 | Elapse: 137.94s\n"
     ]
    },
    {
     "data": {
      "application/vnd.jupyter.widget-view+json": {
       "model_id": "82594dab9631457cb623264634ac78bb",
       "version_major": 2,
       "version_minor": 0
      },
      "text/plain": [
       "Valid:   0%|          | 0/140 [00:00<?, ?batch/s]"
      ]
     },
     "metadata": {},
     "output_type": "display_data"
    },
    {
     "name": "stdout",
     "output_type": "stream",
     "text": [
      "Epoch 9 [0/140] | Valid Loss: 0.0014 | Elapse: 0.23s\n",
      "Epoch 9 [139/140] | Valid Loss: 0.2606 | Elapse: 31.60s\n",
      "Epoch 9 - Train Loss: 0.1616 - Valid Loss: 0.5135 - Elapsed Time: 190.52s\n"
     ]
    },
    {
     "data": {
      "application/vnd.jupyter.widget-view+json": {
       "model_id": "9779066ad58146a3b02e4c49e08d6fa2",
       "version_major": 2,
       "version_minor": 0
      },
      "text/plain": [
       "Train:   0%|          | 0/559 [00:00<?, ?batch/s]"
      ]
     },
     "metadata": {},
     "output_type": "display_data"
    },
    {
     "name": "stdout",
     "output_type": "stream",
     "text": [
      "Epoch 10 [0/559] | Train Loss: 0.3764 Grad: 651076.3750 LR: 4.1279e-06 | Elapse: 0.25s\n",
      "Epoch 10 [500/559] | Train Loss: 0.1723 Grad: 17031.0234 LR: 3.1294e-06 | Elapse: 125.23s\n",
      "Epoch 10 [558/559] | Train Loss: 0.1606 Grad: 24881.8086 LR: 3.0180e-06 | Elapse: 135.32s\n"
     ]
    },
    {
     "data": {
      "application/vnd.jupyter.widget-view+json": {
       "model_id": "a65eb84fb99e42839eb5fa5e62fd65f9",
       "version_major": 2,
       "version_minor": 0
      },
      "text/plain": [
       "Valid:   0%|          | 0/140 [00:00<?, ?batch/s]"
      ]
     },
     "metadata": {},
     "output_type": "display_data"
    },
    {
     "name": "stdout",
     "output_type": "stream",
     "text": [
      "Epoch 10 [0/140] | Valid Loss: 0.0014 | Elapse: 0.24s\n",
      "Epoch 10 [139/140] | Valid Loss: 0.2433 | Elapse: 31.95s\n",
      "Epoch 10 - Train Loss: 0.1606 - Valid Loss: 0.5315 - Elapsed Time: 189.58s\n",
      "- Epoch 10: Best model found with loss = 0.5315.\n"
     ]
    },
    {
     "data": {
      "application/vnd.jupyter.widget-view+json": {
       "model_id": "f065c75c1f73448092fdba9e4422ee4b",
       "version_major": 2,
       "version_minor": 0
      },
      "text/plain": [
       "Train:   0%|          | 0/559 [00:00<?, ?batch/s]"
      ]
     },
     "metadata": {},
     "output_type": "display_data"
    },
    {
     "name": "stdout",
     "output_type": "stream",
     "text": [
      "Epoch 11 [0/559] | Train Loss: 0.3619 Grad: 550252.1250 LR: 3.0161e-06 | Elapse: 0.23s\n",
      "Epoch 11 [500/559] | Train Loss: 0.1469 Grad: 15791.0176 LR: 2.1105e-06 | Elapse: 125.20s\n",
      "Epoch 11 [558/559] | Train Loss: 0.1373 Grad: 26688.9902 LR: 2.0129e-06 | Elapse: 138.30s\n"
     ]
    },
    {
     "data": {
      "application/vnd.jupyter.widget-view+json": {
       "model_id": "ae21909da5374911a87091b76e4388c0",
       "version_major": 2,
       "version_minor": 0
      },
      "text/plain": [
       "Valid:   0%|          | 0/140 [00:00<?, ?batch/s]"
      ]
     },
     "metadata": {},
     "output_type": "display_data"
    },
    {
     "name": "stdout",
     "output_type": "stream",
     "text": [
      "Epoch 11 [0/140] | Valid Loss: 0.0016 | Elapse: 0.23s\n",
      "Epoch 11 [139/140] | Valid Loss: 0.2507 | Elapse: 31.64s\n",
      "Epoch 11 - Train Loss: 0.1373 - Valid Loss: 0.5281 - Elapsed Time: 190.86s\n"
     ]
    },
    {
     "data": {
      "application/vnd.jupyter.widget-view+json": {
       "model_id": "e81e01aa5f184049b868ef00e434fdd0",
       "version_major": 2,
       "version_minor": 0
      },
      "text/plain": [
       "Train:   0%|          | 0/559 [00:00<?, ?batch/s]"
      ]
     },
     "metadata": {},
     "output_type": "display_data"
    },
    {
     "name": "stdout",
     "output_type": "stream",
     "text": [
      "Epoch 12 [0/559] | Train Loss: 0.3486 Grad: 565490.1875 LR: 2.0112e-06 | Elapse: 0.23s\n",
      "Epoch 12 [500/559] | Train Loss: 0.1340 Grad: 29380.7520 LR: 1.2475e-06 | Elapse: 121.54s\n",
      "Epoch 12 [558/559] | Train Loss: 0.1253 Grad: 50671.2305 LR: 1.1688e-06 | Elapse: 134.41s\n"
     ]
    },
    {
     "data": {
      "application/vnd.jupyter.widget-view+json": {
       "model_id": "8a08bef6b12546579090ecc5fe6f5a4e",
       "version_major": 2,
       "version_minor": 0
      },
      "text/plain": [
       "Valid:   0%|          | 0/140 [00:00<?, ?batch/s]"
      ]
     },
     "metadata": {},
     "output_type": "display_data"
    },
    {
     "name": "stdout",
     "output_type": "stream",
     "text": [
      "Epoch 12 [0/140] | Valid Loss: 0.0017 | Elapse: 0.25s\n",
      "Epoch 12 [139/140] | Valid Loss: 0.2567 | Elapse: 32.12s\n",
      "Epoch 12 - Train Loss: 0.1253 - Valid Loss: 0.5276 - Elapsed Time: 187.33s\n"
     ]
    },
    {
     "data": {
      "application/vnd.jupyter.widget-view+json": {
       "model_id": "9605510312f54aa0ac758a6e5278b713",
       "version_major": 2,
       "version_minor": 0
      },
      "text/plain": [
       "Train:   0%|          | 0/559 [00:00<?, ?batch/s]"
      ]
     },
     "metadata": {},
     "output_type": "display_data"
    },
    {
     "name": "stdout",
     "output_type": "stream",
     "text": [
      "Epoch 13 [0/559] | Train Loss: 0.3277 Grad: 598005.8750 LR: 1.1675e-06 | Elapse: 0.24s\n",
      "Epoch 13 [500/559] | Train Loss: 0.1252 Grad: 53065.8672 LR: 5.8671e-07 | Elapse: 125.16s\n",
      "Epoch 13 [558/559] | Train Loss: 0.1171 Grad: 83387.9531 LR: 5.3128e-07 | Elapse: 138.47s\n"
     ]
    },
    {
     "data": {
      "application/vnd.jupyter.widget-view+json": {
       "model_id": "d8d9a9bc06fe472eaa6db41c443aa454",
       "version_major": 2,
       "version_minor": 0
      },
      "text/plain": [
       "Valid:   0%|          | 0/140 [00:00<?, ?batch/s]"
      ]
     },
     "metadata": {},
     "output_type": "display_data"
    },
    {
     "name": "stdout",
     "output_type": "stream",
     "text": [
      "Epoch 13 [0/140] | Valid Loss: 0.0017 | Elapse: 0.23s\n",
      "Epoch 13 [139/140] | Valid Loss: 0.2586 | Elapse: 31.44s\n",
      "Epoch 13 - Train Loss: 0.1171 - Valid Loss: 0.5325 - Elapsed Time: 190.76s\n",
      "- Epoch 13: Best model found with loss = 0.5325.\n"
     ]
    },
    {
     "data": {
      "application/vnd.jupyter.widget-view+json": {
       "model_id": "07bb1878a3c7478aafc308db0478f6df",
       "version_major": 2,
       "version_minor": 0
      },
      "text/plain": [
       "Train:   0%|          | 0/559 [00:00<?, ?batch/s]"
      ]
     },
     "metadata": {},
     "output_type": "display_data"
    },
    {
     "name": "stdout",
     "output_type": "stream",
     "text": [
      "Epoch 14 [0/559] | Train Loss: 0.3094 Grad: 640423.1875 LR: 5.3035e-07 | Elapse: 0.25s\n",
      "Epoch 14 [500/559] | Train Loss: 0.1189 Grad: 26017.5039 LR: 1.6390e-07 | Elapse: 124.71s\n",
      "Epoch 14 [558/559] | Train Loss: 0.1113 Grad: 39422.6016 LR: 1.3469e-07 | Elapse: 136.87s\n"
     ]
    },
    {
     "data": {
      "application/vnd.jupyter.widget-view+json": {
       "model_id": "5ed1b00ce9ee4eedab74c259e3c86a89",
       "version_major": 2,
       "version_minor": 0
      },
      "text/plain": [
       "Valid:   0%|          | 0/140 [00:00<?, ?batch/s]"
      ]
     },
     "metadata": {},
     "output_type": "display_data"
    },
    {
     "name": "stdout",
     "output_type": "stream",
     "text": [
      "Epoch 14 [0/140] | Valid Loss: 0.0017 | Elapse: 0.22s\n",
      "Epoch 14 [139/140] | Valid Loss: 0.2616 | Elapse: 32.29s\n",
      "Epoch 14 - Train Loss: 0.1113 - Valid Loss: 0.5340 - Elapsed Time: 190.06s\n",
      "- Epoch 14: Best model found with loss = 0.5340.\n"
     ]
    },
    {
     "data": {
      "application/vnd.jupyter.widget-view+json": {
       "model_id": "04343703126147fb94d8ab604c081b33",
       "version_major": 2,
       "version_minor": 0
      },
      "text/plain": [
       "Train:   0%|          | 0/559 [00:00<?, ?batch/s]"
      ]
     },
     "metadata": {},
     "output_type": "display_data"
    },
    {
     "name": "stdout",
     "output_type": "stream",
     "text": [
      "Epoch 15 [0/559] | Train Loss: 0.2950 Grad: 659670.6250 LR: 1.3421e-07 | Elapse: 0.26s\n",
      "Epoch 15 [500/559] | Train Loss: 0.1148 Grad: 25758.8164 LR: 1.8075e-09 | Elapse: 120.85s\n",
      "Epoch 15 [558/559] | Train Loss: 0.1076 Grad: 39203.9492 LR: 4.0043e-10 | Elapse: 130.02s\n"
     ]
    },
    {
     "data": {
      "application/vnd.jupyter.widget-view+json": {
       "model_id": "3da214e168534233a4aa148dc928719a",
       "version_major": 2,
       "version_minor": 0
      },
      "text/plain": [
       "Valid:   0%|          | 0/140 [00:00<?, ?batch/s]"
      ]
     },
     "metadata": {},
     "output_type": "display_data"
    },
    {
     "name": "stdout",
     "output_type": "stream",
     "text": [
      "Epoch 15 [0/140] | Valid Loss: 0.0017 | Elapse: 0.26s\n",
      "Epoch 15 [139/140] | Valid Loss: 0.2632 | Elapse: 32.40s\n",
      "Epoch 15 - Train Loss: 0.1076 - Valid Loss: 0.5340 - Elapsed Time: 183.18s\n",
      "Fold 3 | Time: 48.64min | Overall Evaluation Loss: 0.4658\n"
     ]
    },
    {
     "data": {
      "application/vnd.jupyter.widget-view+json": {
       "model_id": "f6a7fbbeca574ae4a19920d10a2631bc",
       "version_major": 2,
       "version_minor": 0
      },
      "text/plain": [
       "VBox(children=(Label(value='0.004 MB of 0.004 MB uploaded\\r'), FloatProgress(value=1.0, max=1.0)))"
      ]
     },
     "metadata": {},
     "output_type": "display_data"
    },
    {
     "data": {
      "text/html": [
       "<style>\n",
       "    table.wandb td:nth-child(1) { padding: 0 10px; text-align: left ; width: auto;} td:nth-child(2) {text-align: left ; width: 100%}\n",
       "    .wandb-row { display: flex; flex-direction: row; flex-wrap: wrap; justify-content: flex-start; width: 100% }\n",
       "    .wandb-col { display: flex; flex-direction: column; flex-basis: 100%; flex: 1; padding: 10px; }\n",
       "    </style>\n",
       "<div class=\"wandb-row\"><div class=\"wandb-col\"><h3>Run history:</h3><br/><table class=\"wandb\"><tr><td>Epoch</td><td>▁▁▁▁▂▂▃▃▃▃▃▃▄▄▅▅▅▅▅▅▆▆▇▇▇▇▇▇██</td></tr><tr><td>Eval Score</td><td>▁▂▃▅▆▅▅▇▄█▇▇███</td></tr><tr><td>Gradient Norm</td><td>▃▂▂▃█▁▂▅▂▃▃▅▇▄▄</td></tr><tr><td>Learning Rate</td><td>▆██▇▇▆▆▅▄▃▂▂▁▁▁</td></tr><tr><td>Train Loss</td><td>█▁▁▁▁▁▁▁▁▁▁▁▁▁▁</td></tr><tr><td>Valid Loss</td><td>█▁▁▁▁▁▁▁▁▁▁▁▁▁▁</td></tr></table><br/></div><div class=\"wandb-col\"><h3>Run summary:</h3><br/><table class=\"wandb\"><tr><td>Epoch</td><td>15</td></tr><tr><td>Eval Score</td><td>0.53401</td></tr><tr><td>Gradient Norm</td><td>39203.94922</td></tr><tr><td>Learning Rate</td><td>0.0</td></tr><tr><td>Train Loss</td><td>0.10764</td></tr><tr><td>Valid Loss</td><td>0.26321</td></tr></table><br/></div></div>"
      ],
      "text/plain": [
       "<IPython.core.display.HTML object>"
      ]
     },
     "metadata": {},
     "output_type": "display_data"
    },
    {
     "data": {
      "text/html": [
       " View run <strong style=\"color:#cdcd00\">fold_3</strong> at: <a href='https://wandb.ai/sli2024/Manaus_AudioMAE_SeqPool_GKFold/runs/vqkd394e' target=\"_blank\">https://wandb.ai/sli2024/Manaus_AudioMAE_SeqPool_GKFold/runs/vqkd394e</a><br/> View project at: <a href='https://wandb.ai/sli2024/Manaus_AudioMAE_SeqPool_GKFold' target=\"_blank\">https://wandb.ai/sli2024/Manaus_AudioMAE_SeqPool_GKFold</a><br/>Synced 5 W&B file(s), 0 media file(s), 0 artifact file(s) and 0 other file(s)"
      ],
      "text/plain": [
       "<IPython.core.display.HTML object>"
      ]
     },
     "metadata": {},
     "output_type": "display_data"
    },
    {
     "data": {
      "text/html": [
       "Find logs at: <code>./wandb/run-20240602_010322-vqkd394e/logs</code>"
      ],
      "text/plain": [
       "<IPython.core.display.HTML object>"
      ]
     },
     "metadata": {},
     "output_type": "display_data"
    },
    {
     "data": {
      "application/vnd.jupyter.widget-view+json": {
       "model_id": "558434dd9a5e44b8a2cddff92259f209",
       "version_major": 2,
       "version_minor": 0
      },
      "text/plain": [
       "VBox(children=(Label(value='Waiting for wandb.init()...\\r'), FloatProgress(value=0.011112405489095383, max=1.0…"
      ]
     },
     "metadata": {},
     "output_type": "display_data"
    },
    {
     "data": {
      "text/html": [
       "Tracking run with wandb version 0.17.0"
      ],
      "text/plain": [
       "<IPython.core.display.HTML object>"
      ]
     },
     "metadata": {},
     "output_type": "display_data"
    },
    {
     "data": {
      "text/html": [
       "Run data is saved locally in <code>/workspace/voice_of_jungle/wandb/run-20240602_015208-96u9j8qw</code>"
      ],
      "text/plain": [
       "<IPython.core.display.HTML object>"
      ]
     },
     "metadata": {},
     "output_type": "display_data"
    },
    {
     "data": {
      "text/html": [
       "Syncing run <strong><a href='https://wandb.ai/sli2024/Manaus_AudioMAE_SeqPool_GKFold/runs/96u9j8qw' target=\"_blank\">fold_4</a></strong> to <a href='https://wandb.ai/sli2024/Manaus_AudioMAE_SeqPool_GKFold' target=\"_blank\">Weights & Biases</a> (<a href='https://wandb.me/run' target=\"_blank\">docs</a>)<br/>"
      ],
      "text/plain": [
       "<IPython.core.display.HTML object>"
      ]
     },
     "metadata": {},
     "output_type": "display_data"
    },
    {
     "data": {
      "text/html": [
       " View project at <a href='https://wandb.ai/sli2024/Manaus_AudioMAE_SeqPool_GKFold' target=\"_blank\">https://wandb.ai/sli2024/Manaus_AudioMAE_SeqPool_GKFold</a>"
      ],
      "text/plain": [
       "<IPython.core.display.HTML object>"
      ]
     },
     "metadata": {},
     "output_type": "display_data"
    },
    {
     "data": {
      "text/html": [
       " View run at <a href='https://wandb.ai/sli2024/Manaus_AudioMAE_SeqPool_GKFold/runs/96u9j8qw' target=\"_blank\">https://wandb.ai/sli2024/Manaus_AudioMAE_SeqPool_GKFold/runs/96u9j8qw</a>"
      ],
      "text/plain": [
       "<IPython.core.display.HTML object>"
      ]
     },
     "metadata": {},
     "output_type": "display_data"
    },
    {
     "name": "stdout",
     "output_type": "stream",
     "text": [
      "Loading pretrained weights from Hugging Face hub (gaunernst/vit_base_patch16_1024_128.audiomae_as2m)\n",
      "Converted input conv patch_embed.proj pretrained weights from 3 to 1 channel(s)\n"
     ]
    },
    {
     "data": {
      "application/vnd.jupyter.widget-view+json": {
       "model_id": "3c9b20d935834004ab0aee0f6f9a52eb",
       "version_major": 2,
       "version_minor": 0
      },
      "text/plain": [
       "Training Progress:   0%|          | 0/15 [00:00<?, ?epoch/s]"
      ]
     },
     "metadata": {},
     "output_type": "display_data"
    },
    {
     "data": {
      "application/vnd.jupyter.widget-view+json": {
       "model_id": "67810209db7a47ac8e45b7d39c1fb30e",
       "version_major": 2,
       "version_minor": 0
      },
      "text/plain": [
       "Train:   0%|          | 0/559 [00:00<?, ?batch/s]"
      ]
     },
     "metadata": {},
     "output_type": "display_data"
    },
    {
     "name": "stdout",
     "output_type": "stream",
     "text": [
      "Epoch 1 [0/559] | Train Loss: 7.6001 Grad: inf LR: 4.0003e-07 | Elapse: 0.25s\n"
     ]
    },
    {
     "name": "stderr",
     "output_type": "stream",
     "text": [
      "/workspace/voice_of_jungle/myenv/lib/python3.10/site-packages/torch/optim/lr_scheduler.py:143: UserWarning: Detected call of `lr_scheduler.step()` before `optimizer.step()`. In PyTorch 1.1.0 and later, you should call them in the opposite order: `optimizer.step()` before `lr_scheduler.step()`.  Failure to do this will result in PyTorch skipping the first value of the learning rate schedule. See more details at https://pytorch.org/docs/stable/optim.html#how-to-adjust-learning-rate\n",
      "  warnings.warn(\"Detected call of `lr_scheduler.step()` before `optimizer.step()`. \"\n"
     ]
    },
    {
     "name": "stdout",
     "output_type": "stream",
     "text": [
      "Epoch 1 [500/559] | Train Loss: 13.0438 Grad: 9108.9863 LR: 6.6576e-06 | Elapse: 124.22s\n",
      "Epoch 1 [558/559] | Train Loss: 11.8251 Grad: 37150.5703 LR: 7.6104e-06 | Elapse: 133.34s\n"
     ]
    },
    {
     "data": {
      "application/vnd.jupyter.widget-view+json": {
       "model_id": "f4a53af63a6142f9b0bd849f5e6de351",
       "version_major": 2,
       "version_minor": 0
      },
      "text/plain": [
       "Valid:   0%|          | 0/140 [00:00<?, ?batch/s]"
      ]
     },
     "metadata": {},
     "output_type": "display_data"
    },
    {
     "name": "stdout",
     "output_type": "stream",
     "text": [
      "Epoch 1 [0/140] | Valid Loss: 3.7973 | Elapse: 0.22s\n",
      "Epoch 1 [139/140] | Valid Loss: 1.9588 | Elapse: 30.94s\n",
      "Epoch 1 - Train Loss: 11.8251 - Valid Loss: 0.4943 - Elapsed Time: 184.37s\n",
      "- Epoch 1: Best model found with loss = 0.4943.\n"
     ]
    },
    {
     "data": {
      "application/vnd.jupyter.widget-view+json": {
       "model_id": "f65c7016aef24da89c3749cbc76be5f4",
       "version_major": 2,
       "version_minor": 0
      },
      "text/plain": [
       "Train:   0%|          | 0/559 [00:00<?, ?batch/s]"
      ]
     },
     "metadata": {},
     "output_type": "display_data"
    },
    {
     "name": "stdout",
     "output_type": "stream",
     "text": [
      "Epoch 2 [0/559] | Train Loss: 0.3235 Grad: inf LR: 7.6259e-06 | Elapse: 0.24s\n",
      "Epoch 2 [500/559] | Train Loss: 0.4706 Grad: 16.7162 LR: 9.9786e-06 | Elapse: 121.79s\n",
      "Epoch 2 [558/559] | Train Loss: 0.4308 Grad: 1029.7327 LR: 9.9660e-06 | Elapse: 133.69s\n"
     ]
    },
    {
     "data": {
      "application/vnd.jupyter.widget-view+json": {
       "model_id": "7c7be44b0d424ca7821750e59f57d7f4",
       "version_major": 2,
       "version_minor": 0
      },
      "text/plain": [
       "Valid:   0%|          | 0/140 [00:00<?, ?batch/s]"
      ]
     },
     "metadata": {},
     "output_type": "display_data"
    },
    {
     "name": "stdout",
     "output_type": "stream",
     "text": [
      "Epoch 2 [0/140] | Valid Loss: 0.4182 | Elapse: 0.23s\n",
      "Epoch 2 [139/140] | Valid Loss: 0.2254 | Elapse: 31.24s\n",
      "Epoch 2 - Train Loss: 0.4308 - Valid Loss: 0.5150 - Elapsed Time: 185.53s\n",
      "- Epoch 2: Best model found with loss = 0.5150.\n"
     ]
    },
    {
     "data": {
      "application/vnd.jupyter.widget-view+json": {
       "model_id": "bc4011aa2bd34ba9b039a344154ccf50",
       "version_major": 2,
       "version_minor": 0
      },
      "text/plain": [
       "Train:   0%|          | 0/559 [00:00<?, ?batch/s]"
      ]
     },
     "metadata": {},
     "output_type": "display_data"
    },
    {
     "name": "stdout",
     "output_type": "stream",
     "text": [
      "Epoch 3 [0/559] | Train Loss: 0.0053 Grad: 17060.9180 LR: 9.9657e-06 | Elapse: 0.23s\n",
      "Epoch 3 [500/559] | Train Loss: 0.1827 Grad: 355.5809 LR: 9.7377e-06 | Elapse: 124.45s\n",
      "Epoch 3 [558/559] | Train Loss: 0.1717 Grad: 58985.8359 LR: 9.6978e-06 | Elapse: 135.04s\n"
     ]
    },
    {
     "data": {
      "application/vnd.jupyter.widget-view+json": {
       "model_id": "4bbe82f61fb44feb8e3925d045fc4750",
       "version_major": 2,
       "version_minor": 0
      },
      "text/plain": [
       "Valid:   0%|          | 0/140 [00:00<?, ?batch/s]"
      ]
     },
     "metadata": {},
     "output_type": "display_data"
    },
    {
     "name": "stdout",
     "output_type": "stream",
     "text": [
      "Epoch 3 [0/140] | Valid Loss: 0.4562 | Elapse: 0.24s\n",
      "Epoch 3 [139/140] | Valid Loss: 0.2187 | Elapse: 31.54s\n",
      "Epoch 3 - Train Loss: 0.1717 - Valid Loss: 0.5215 - Elapsed Time: 186.78s\n",
      "- Epoch 3: Best model found with loss = 0.5215.\n"
     ]
    },
    {
     "data": {
      "application/vnd.jupyter.widget-view+json": {
       "model_id": "c99252e3b08140e4a4e1a13e0529288a",
       "version_major": 2,
       "version_minor": 0
      },
      "text/plain": [
       "Train:   0%|          | 0/559 [00:00<?, ?batch/s]"
      ]
     },
     "metadata": {},
     "output_type": "display_data"
    },
    {
     "name": "stdout",
     "output_type": "stream",
     "text": [
      "Epoch 4 [0/559] | Train Loss: 0.0059 Grad: 15943.6650 LR: 9.6970e-06 | Elapse: 0.26s\n",
      "Epoch 4 [500/559] | Train Loss: 0.1551 Grad: 395.4068 LR: 9.2415e-06 | Elapse: 124.00s\n",
      "Epoch 4 [558/559] | Train Loss: 0.1463 Grad: 51720.6055 LR: 9.1763e-06 | Elapse: 136.14s\n"
     ]
    },
    {
     "data": {
      "application/vnd.jupyter.widget-view+json": {
       "model_id": "630387ba7c684a52a0638c4d8f44e620",
       "version_major": 2,
       "version_minor": 0
      },
      "text/plain": [
       "Valid:   0%|          | 0/140 [00:00<?, ?batch/s]"
      ]
     },
     "metadata": {},
     "output_type": "display_data"
    },
    {
     "name": "stdout",
     "output_type": "stream",
     "text": [
      "Epoch 4 [0/140] | Valid Loss: 0.4845 | Elapse: 0.24s\n",
      "Epoch 4 [139/140] | Valid Loss: 0.2305 | Elapse: 31.71s\n",
      "Epoch 4 - Train Loss: 0.1463 - Valid Loss: 0.5200 - Elapsed Time: 188.06s\n"
     ]
    },
    {
     "data": {
      "application/vnd.jupyter.widget-view+json": {
       "model_id": "fa3430c034304c2abf30cdf004272e09",
       "version_major": 2,
       "version_minor": 0
      },
      "text/plain": [
       "Train:   0%|          | 0/559 [00:00<?, ?batch/s]"
      ]
     },
     "metadata": {},
     "output_type": "display_data"
    },
    {
     "name": "stdout",
     "output_type": "stream",
     "text": [
      "Epoch 5 [0/559] | Train Loss: 0.0058 Grad: 16290.1406 LR: 9.1752e-06 | Elapse: 0.25s\n",
      "Epoch 5 [500/559] | Train Loss: 0.1351 Grad: 136.6669 LR: 8.5166e-06 | Elapse: 121.16s\n",
      "Epoch 5 [558/559] | Train Loss: 0.1278 Grad: 10495.4443 LR: 8.4298e-06 | Elapse: 131.31s\n"
     ]
    },
    {
     "data": {
      "application/vnd.jupyter.widget-view+json": {
       "model_id": "b133ef5f31d342dfbaa3a3648e5aa944",
       "version_major": 2,
       "version_minor": 0
      },
      "text/plain": [
       "Valid:   0%|          | 0/140 [00:00<?, ?batch/s]"
      ]
     },
     "metadata": {},
     "output_type": "display_data"
    },
    {
     "name": "stdout",
     "output_type": "stream",
     "text": [
      "Epoch 5 [0/140] | Valid Loss: 0.5101 | Elapse: 0.23s\n",
      "Epoch 5 [139/140] | Valid Loss: 0.2403 | Elapse: 31.34s\n",
      "Epoch 5 - Train Loss: 0.1278 - Valid Loss: 0.5344 - Elapsed Time: 182.77s\n",
      "- Epoch 5: Best model found with loss = 0.5344.\n"
     ]
    },
    {
     "data": {
      "application/vnd.jupyter.widget-view+json": {
       "model_id": "62f34410b5434b76980d5ed3f966a2aa",
       "version_major": 2,
       "version_minor": 0
      },
      "text/plain": [
       "Train:   0%|          | 0/559 [00:00<?, ?batch/s]"
      ]
     },
     "metadata": {},
     "output_type": "display_data"
    },
    {
     "name": "stdout",
     "output_type": "stream",
     "text": [
      "Epoch 6 [0/559] | Train Loss: 0.0059 Grad: 13333.2334 LR: 8.4282e-06 | Elapse: 0.24s\n",
      "Epoch 6 [500/559] | Train Loss: 0.1192 Grad: 375.0208 LR: 7.6021e-06 | Elapse: 121.66s\n",
      "Epoch 6 [558/559] | Train Loss: 0.1130 Grad: 17964.2305 LR: 7.4983e-06 | Elapse: 133.08s\n"
     ]
    },
    {
     "data": {
      "application/vnd.jupyter.widget-view+json": {
       "model_id": "ecb045e23f714206abbc838434becab2",
       "version_major": 2,
       "version_minor": 0
      },
      "text/plain": [
       "Valid:   0%|          | 0/140 [00:00<?, ?batch/s]"
      ]
     },
     "metadata": {},
     "output_type": "display_data"
    },
    {
     "name": "stdout",
     "output_type": "stream",
     "text": [
      "Epoch 6 [0/140] | Valid Loss: 0.5720 | Elapse: 0.23s\n",
      "Epoch 6 [139/140] | Valid Loss: 0.2535 | Elapse: 31.73s\n",
      "Epoch 6 - Train Loss: 0.1130 - Valid Loss: 0.5405 - Elapsed Time: 185.52s\n",
      "- Epoch 6: Best model found with loss = 0.5405.\n"
     ]
    },
    {
     "data": {
      "application/vnd.jupyter.widget-view+json": {
       "model_id": "5bd436dee3844ae990a7a0934f3602fd",
       "version_major": 2,
       "version_minor": 0
      },
      "text/plain": [
       "Train:   0%|          | 0/559 [00:00<?, ?batch/s]"
      ]
     },
     "metadata": {},
     "output_type": "display_data"
    },
    {
     "name": "stdout",
     "output_type": "stream",
     "text": [
      "Epoch 7 [0/559] | Train Loss: 0.0059 Grad: 14903.7988 LR: 7.4965e-06 | Elapse: 0.26s\n",
      "Epoch 7 [500/559] | Train Loss: 0.1082 Grad: 523.2143 LR: 6.5474e-06 | Elapse: 124.29s\n",
      "Epoch 7 [558/559] | Train Loss: 0.1027 Grad: 45309.5781 LR: 6.4322e-06 | Elapse: 133.76s\n"
     ]
    },
    {
     "data": {
      "application/vnd.jupyter.widget-view+json": {
       "model_id": "1adf30ac74564f5c9284c2712cee55b9",
       "version_major": 2,
       "version_minor": 0
      },
      "text/plain": [
       "Valid:   0%|          | 0/140 [00:00<?, ?batch/s]"
      ]
     },
     "metadata": {},
     "output_type": "display_data"
    },
    {
     "name": "stdout",
     "output_type": "stream",
     "text": [
      "Epoch 7 [0/140] | Valid Loss: 0.5434 | Elapse: 0.22s\n",
      "Epoch 7 [139/140] | Valid Loss: 0.2636 | Elapse: 31.70s\n",
      "Epoch 7 - Train Loss: 0.1027 - Valid Loss: 0.5512 - Elapsed Time: 185.35s\n",
      "- Epoch 7: Best model found with loss = 0.5512.\n"
     ]
    },
    {
     "data": {
      "application/vnd.jupyter.widget-view+json": {
       "model_id": "2243d5e196e94867aea43b4ac719579a",
       "version_major": 2,
       "version_minor": 0
      },
      "text/plain": [
       "Train:   0%|          | 0/559 [00:00<?, ?batch/s]"
      ]
     },
     "metadata": {},
     "output_type": "display_data"
    },
    {
     "name": "stdout",
     "output_type": "stream",
     "text": [
      "Epoch 8 [0/559] | Train Loss: 0.0065 Grad: 17187.0215 LR: 6.4302e-06 | Elapse: 0.25s\n",
      "Epoch 8 [500/559] | Train Loss: 0.0905 Grad: 245.3029 LR: 5.4093e-06 | Elapse: 118.83s\n",
      "Epoch 8 [558/559] | Train Loss: 0.0861 Grad: 28870.7578 LR: 5.2888e-06 | Elapse: 129.13s\n"
     ]
    },
    {
     "data": {
      "application/vnd.jupyter.widget-view+json": {
       "model_id": "ffa852889b834d03b3cb46823ff50ec8",
       "version_major": 2,
       "version_minor": 0
      },
      "text/plain": [
       "Valid:   0%|          | 0/140 [00:00<?, ?batch/s]"
      ]
     },
     "metadata": {},
     "output_type": "display_data"
    },
    {
     "name": "stdout",
     "output_type": "stream",
     "text": [
      "Epoch 8 [0/140] | Valid Loss: 0.5871 | Elapse: 0.23s\n",
      "Epoch 8 [139/140] | Valid Loss: 0.2841 | Elapse: 31.60s\n",
      "Epoch 8 - Train Loss: 0.0861 - Valid Loss: 0.5556 - Elapsed Time: 181.25s\n",
      "- Epoch 8: Best model found with loss = 0.5556.\n"
     ]
    },
    {
     "data": {
      "application/vnd.jupyter.widget-view+json": {
       "model_id": "171a90eaaa0b4739b1c2f192e522eba6",
       "version_major": 2,
       "version_minor": 0
      },
      "text/plain": [
       "Train:   0%|          | 0/559 [00:00<?, ?batch/s]"
      ]
     },
     "metadata": {},
     "output_type": "display_data"
    },
    {
     "name": "stdout",
     "output_type": "stream",
     "text": [
      "Epoch 9 [0/559] | Train Loss: 0.0077 Grad: 19601.9551 LR: 5.2868e-06 | Elapse: 0.25s\n",
      "Epoch 9 [500/559] | Train Loss: 0.0779 Grad: 1242.4282 LR: 4.2491e-06 | Elapse: 120.02s\n",
      "Epoch 9 [558/559] | Train Loss: 0.0739 Grad: 75131.1641 LR: 4.1299e-06 | Elapse: 131.00s\n"
     ]
    },
    {
     "data": {
      "application/vnd.jupyter.widget-view+json": {
       "model_id": "1511303e4b8d4d2d9664708c2db7de90",
       "version_major": 2,
       "version_minor": 0
      },
      "text/plain": [
       "Valid:   0%|          | 0/140 [00:00<?, ?batch/s]"
      ]
     },
     "metadata": {},
     "output_type": "display_data"
    },
    {
     "name": "stdout",
     "output_type": "stream",
     "text": [
      "Epoch 9 [0/140] | Valid Loss: 0.6287 | Elapse: 0.23s\n",
      "Epoch 9 [139/140] | Valid Loss: 0.3006 | Elapse: 31.48s\n",
      "Epoch 9 - Train Loss: 0.0739 - Valid Loss: 0.5546 - Elapsed Time: 182.62s\n"
     ]
    },
    {
     "data": {
      "application/vnd.jupyter.widget-view+json": {
       "model_id": "b6d90e003d284cc984ff0fffb06f20c2",
       "version_major": 2,
       "version_minor": 0
      },
      "text/plain": [
       "Train:   0%|          | 0/559 [00:00<?, ?batch/s]"
      ]
     },
     "metadata": {},
     "output_type": "display_data"
    },
    {
     "name": "stdout",
     "output_type": "stream",
     "text": [
      "Epoch 10 [0/559] | Train Loss: 0.0082 Grad: 21301.4883 LR: 4.1279e-06 | Elapse: 0.25s\n",
      "Epoch 10 [500/559] | Train Loss: 0.0749 Grad: 820.3743 LR: 3.1294e-06 | Elapse: 119.19s\n",
      "Epoch 10 [558/559] | Train Loss: 0.0708 Grad: 56573.2617 LR: 3.0180e-06 | Elapse: 125.64s\n"
     ]
    },
    {
     "data": {
      "application/vnd.jupyter.widget-view+json": {
       "model_id": "a61ce851ba944a76bb9b69a66d2ec9b6",
       "version_major": 2,
       "version_minor": 0
      },
      "text/plain": [
       "Valid:   0%|          | 0/140 [00:00<?, ?batch/s]"
      ]
     },
     "metadata": {},
     "output_type": "display_data"
    },
    {
     "name": "stdout",
     "output_type": "stream",
     "text": [
      "Epoch 10 [0/140] | Valid Loss: 0.6528 | Elapse: 0.11s\n",
      "Epoch 10 [139/140] | Valid Loss: 0.3033 | Elapse: 14.84s\n",
      "Epoch 10 - Train Loss: 0.0708 - Valid Loss: 0.5629 - Elapsed Time: 160.82s\n",
      "- Epoch 10: Best model found with loss = 0.5629.\n"
     ]
    },
    {
     "data": {
      "application/vnd.jupyter.widget-view+json": {
       "model_id": "b5345178ac2443dabe8a0b3e8f0e6959",
       "version_major": 2,
       "version_minor": 0
      },
      "text/plain": [
       "Train:   0%|          | 0/559 [00:00<?, ?batch/s]"
      ]
     },
     "metadata": {},
     "output_type": "display_data"
    },
    {
     "name": "stdout",
     "output_type": "stream",
     "text": [
      "Epoch 11 [0/559] | Train Loss: 0.0097 Grad: 25544.6680 LR: 3.0161e-06 | Elapse: 0.12s\n",
      "Epoch 11 [500/559] | Train Loss: 0.0718 Grad: 434.4058 LR: 2.1105e-06 | Elapse: 56.49s\n",
      "Epoch 11 [558/559] | Train Loss: 0.0677 Grad: 26915.6387 LR: 2.0129e-06 | Elapse: 63.03s\n"
     ]
    },
    {
     "data": {
      "application/vnd.jupyter.widget-view+json": {
       "model_id": "d8b0a8511a124503a58ad0707fa025f5",
       "version_major": 2,
       "version_minor": 0
      },
      "text/plain": [
       "Valid:   0%|          | 0/140 [00:00<?, ?batch/s]"
      ]
     },
     "metadata": {},
     "output_type": "display_data"
    },
    {
     "name": "stdout",
     "output_type": "stream",
     "text": [
      "Epoch 11 [0/140] | Valid Loss: 0.6735 | Elapse: 0.11s\n",
      "Epoch 11 [139/140] | Valid Loss: 0.3035 | Elapse: 14.39s\n",
      "Epoch 11 - Train Loss: 0.0677 - Valid Loss: 0.5653 - Elapsed Time: 97.77s\n",
      "- Epoch 11: Best model found with loss = 0.5653.\n"
     ]
    },
    {
     "data": {
      "application/vnd.jupyter.widget-view+json": {
       "model_id": "3e3d553e78e4451eb047c10f7356e000",
       "version_major": 2,
       "version_minor": 0
      },
      "text/plain": [
       "Train:   0%|          | 0/559 [00:00<?, ?batch/s]"
      ]
     },
     "metadata": {},
     "output_type": "display_data"
    },
    {
     "name": "stdout",
     "output_type": "stream",
     "text": [
      "Epoch 12 [0/559] | Train Loss: 0.0097 Grad: 23648.2246 LR: 2.0112e-06 | Elapse: 0.11s\n",
      "Epoch 12 [500/559] | Train Loss: 0.0711 Grad: 271.8990 LR: 1.2475e-06 | Elapse: 56.61s\n",
      "Epoch 12 [558/559] | Train Loss: 0.0674 Grad: 15019.3564 LR: 1.1688e-06 | Elapse: 63.68s\n"
     ]
    },
    {
     "data": {
      "application/vnd.jupyter.widget-view+json": {
       "model_id": "433c56c03f9049118ae8beb22f4f5d0b",
       "version_major": 2,
       "version_minor": 0
      },
      "text/plain": [
       "Valid:   0%|          | 0/140 [00:00<?, ?batch/s]"
      ]
     },
     "metadata": {},
     "output_type": "display_data"
    },
    {
     "name": "stdout",
     "output_type": "stream",
     "text": [
      "Epoch 12 [0/140] | Valid Loss: 0.7084 | Elapse: 0.22s\n",
      "Epoch 12 [139/140] | Valid Loss: 0.3087 | Elapse: 31.53s\n",
      "Epoch 12 - Train Loss: 0.0674 - Valid Loss: 0.5574 - Elapsed Time: 115.29s\n"
     ]
    },
    {
     "data": {
      "application/vnd.jupyter.widget-view+json": {
       "model_id": "4f6c42b448624f3eb63c682f7f1b19a0",
       "version_major": 2,
       "version_minor": 0
      },
      "text/plain": [
       "Train:   0%|          | 0/559 [00:00<?, ?batch/s]"
      ]
     },
     "metadata": {},
     "output_type": "display_data"
    },
    {
     "name": "stdout",
     "output_type": "stream",
     "text": [
      "Epoch 13 [0/559] | Train Loss: 0.0098 Grad: 22161.9531 LR: 1.1675e-06 | Elapse: 0.26s\n",
      "Epoch 13 [500/559] | Train Loss: 0.0700 Grad: 546.8378 LR: 5.8671e-07 | Elapse: 123.97s\n",
      "Epoch 13 [558/559] | Train Loss: 0.0661 Grad: 23437.4355 LR: 5.3128e-07 | Elapse: 135.41s\n"
     ]
    },
    {
     "data": {
      "application/vnd.jupyter.widget-view+json": {
       "model_id": "3eb75dc6e84047ad9847ac539f72e609",
       "version_major": 2,
       "version_minor": 0
      },
      "text/plain": [
       "Valid:   0%|          | 0/140 [00:00<?, ?batch/s]"
      ]
     },
     "metadata": {},
     "output_type": "display_data"
    },
    {
     "name": "stdout",
     "output_type": "stream",
     "text": [
      "Epoch 13 [0/140] | Valid Loss: 0.7015 | Elapse: 0.23s\n",
      "Epoch 13 [139/140] | Valid Loss: 0.3123 | Elapse: 31.02s\n",
      "Epoch 13 - Train Loss: 0.0661 - Valid Loss: 0.5549 - Elapsed Time: 186.95s\n"
     ]
    },
    {
     "data": {
      "application/vnd.jupyter.widget-view+json": {
       "model_id": "33bbf7ec92344dba9d2dea59cb47a49f",
       "version_major": 2,
       "version_minor": 0
      },
      "text/plain": [
       "Train:   0%|          | 0/559 [00:00<?, ?batch/s]"
      ]
     },
     "metadata": {},
     "output_type": "display_data"
    },
    {
     "name": "stdout",
     "output_type": "stream",
     "text": [
      "Epoch 14 [0/559] | Train Loss: 0.0105 Grad: 23223.2773 LR: 5.3035e-07 | Elapse: 0.25s\n",
      "Epoch 14 [500/559] | Train Loss: 0.0884 Grad: 391.6537 LR: 1.6390e-07 | Elapse: 119.85s\n",
      "Epoch 14 [558/559] | Train Loss: 0.0822 Grad: 21159.3828 LR: 1.3469e-07 | Elapse: 130.95s\n"
     ]
    },
    {
     "data": {
      "application/vnd.jupyter.widget-view+json": {
       "model_id": "1c38ad65cc8d41deacfdbae95763237b",
       "version_major": 2,
       "version_minor": 0
      },
      "text/plain": [
       "Valid:   0%|          | 0/140 [00:00<?, ?batch/s]"
      ]
     },
     "metadata": {},
     "output_type": "display_data"
    },
    {
     "name": "stdout",
     "output_type": "stream",
     "text": [
      "Epoch 14 [0/140] | Valid Loss: 0.6917 | Elapse: 0.23s\n",
      "Epoch 14 [139/140] | Valid Loss: 0.3052 | Elapse: 30.85s\n",
      "Epoch 14 - Train Loss: 0.0822 - Valid Loss: 0.5667 - Elapsed Time: 181.95s\n",
      "- Epoch 14: Best model found with loss = 0.5667.\n"
     ]
    },
    {
     "data": {
      "application/vnd.jupyter.widget-view+json": {
       "model_id": "4e89c52053844c3a978fb4cccb2a1290",
       "version_major": 2,
       "version_minor": 0
      },
      "text/plain": [
       "Train:   0%|          | 0/559 [00:00<?, ?batch/s]"
      ]
     },
     "metadata": {},
     "output_type": "display_data"
    },
    {
     "name": "stdout",
     "output_type": "stream",
     "text": [
      "Epoch 15 [0/559] | Train Loss: 0.0103 Grad: 22265.0977 LR: 1.3421e-07 | Elapse: 0.24s\n",
      "Epoch 15 [500/559] | Train Loss: 0.0887 Grad: 404.9716 LR: 1.8075e-09 | Elapse: 122.98s\n",
      "Epoch 15 [558/559] | Train Loss: 0.0827 Grad: 22757.5137 LR: 4.0043e-10 | Elapse: 134.52s\n"
     ]
    },
    {
     "data": {
      "application/vnd.jupyter.widget-view+json": {
       "model_id": "62ffcb6e3ef64ad3a1f15974ae453798",
       "version_major": 2,
       "version_minor": 0
      },
      "text/plain": [
       "Valid:   0%|          | 0/140 [00:00<?, ?batch/s]"
      ]
     },
     "metadata": {},
     "output_type": "display_data"
    },
    {
     "name": "stdout",
     "output_type": "stream",
     "text": [
      "Epoch 15 [0/140] | Valid Loss: 0.7291 | Elapse: 0.23s\n",
      "Epoch 15 [139/140] | Valid Loss: 0.3015 | Elapse: 30.95s\n",
      "Epoch 15 - Train Loss: 0.0827 - Valid Loss: 0.5731 - Elapsed Time: 185.96s\n",
      "- Epoch 15: Best model found with loss = 0.5731.\n",
      "Fold 4 | Time: 44.79min | Overall Evaluation Loss: 0.4352\n"
     ]
    },
    {
     "data": {
      "application/vnd.jupyter.widget-view+json": {
       "model_id": "76a17b89dc11447d9fd1f709db12fb54",
       "version_major": 2,
       "version_minor": 0
      },
      "text/plain": [
       "VBox(children=(Label(value='0.004 MB of 0.004 MB uploaded\\r'), FloatProgress(value=1.0, max=1.0)))"
      ]
     },
     "metadata": {},
     "output_type": "display_data"
    },
    {
     "data": {
      "text/html": [
       "<style>\n",
       "    table.wandb td:nth-child(1) { padding: 0 10px; text-align: left ; width: auto;} td:nth-child(2) {text-align: left ; width: 100%}\n",
       "    .wandb-row { display: flex; flex-direction: row; flex-wrap: wrap; justify-content: flex-start; width: 100% }\n",
       "    .wandb-col { display: flex; flex-direction: column; flex-basis: 100%; flex: 1; padding: 10px; }\n",
       "    </style>\n",
       "<div class=\"wandb-row\"><div class=\"wandb-col\"><h3>Run history:</h3><br/><table class=\"wandb\"><tr><td>Epoch</td><td>▁▁▁▁▂▂▃▃▃▃▃▃▄▄▅▅▅▅▅▅▆▆▇▇▇▇▇▇██</td></tr><tr><td>Eval Score</td><td>▁▃▃▃▅▅▆▆▆▇▇▇▆▇█</td></tr><tr><td>Gradient Norm</td><td>▄▁▆▆▂▃▅▄█▆▃▂▃▃▃</td></tr><tr><td>Learning Rate</td><td>▆██▇▇▆▆▅▄▃▂▂▁▁▁</td></tr><tr><td>Train Loss</td><td>█▁▁▁▁▁▁▁▁▁▁▁▁▁▁</td></tr><tr><td>Valid Loss</td><td>█▁▁▁▁▁▁▁▁▁▁▁▁▁▁</td></tr></table><br/></div><div class=\"wandb-col\"><h3>Run summary:</h3><br/><table class=\"wandb\"><tr><td>Epoch</td><td>15</td></tr><tr><td>Eval Score</td><td>0.57314</td></tr><tr><td>Gradient Norm</td><td>22757.51367</td></tr><tr><td>Learning Rate</td><td>0.0</td></tr><tr><td>Train Loss</td><td>0.08266</td></tr><tr><td>Valid Loss</td><td>0.30155</td></tr></table><br/></div></div>"
      ],
      "text/plain": [
       "<IPython.core.display.HTML object>"
      ]
     },
     "metadata": {},
     "output_type": "display_data"
    },
    {
     "data": {
      "text/html": [
       " View run <strong style=\"color:#cdcd00\">fold_4</strong> at: <a href='https://wandb.ai/sli2024/Manaus_AudioMAE_SeqPool_GKFold/runs/96u9j8qw' target=\"_blank\">https://wandb.ai/sli2024/Manaus_AudioMAE_SeqPool_GKFold/runs/96u9j8qw</a><br/> View project at: <a href='https://wandb.ai/sli2024/Manaus_AudioMAE_SeqPool_GKFold' target=\"_blank\">https://wandb.ai/sli2024/Manaus_AudioMAE_SeqPool_GKFold</a><br/>Synced 5 W&B file(s), 0 media file(s), 0 artifact file(s) and 0 other file(s)"
      ],
      "text/plain": [
       "<IPython.core.display.HTML object>"
      ]
     },
     "metadata": {},
     "output_type": "display_data"
    },
    {
     "data": {
      "text/html": [
       "Find logs at: <code>./wandb/run-20240602_015208-96u9j8qw/logs</code>"
      ],
      "text/plain": [
       "<IPython.core.display.HTML object>"
      ]
     },
     "metadata": {},
     "output_type": "display_data"
    },
    {
     "data": {
      "image/png": "[encoded data removed]",
      "text/plain": [
       "<Figure size 800x400 with 2 Axes>"
      ]
     },
     "metadata": {},
     "output_type": "display_data"
    }
   ],
   "source": [
    "# --------------------------------------------------------------\n",
    "# Training Loop Starts Here\n",
    "# --------------------------------------------------------------\n",
    "loader_kwargs = {\n",
    "    \"batch_size\": config.batch_size,\n",
    "    \"num_workers\": config.num_workers,\n",
    "    \"pin_memory\": True,\n",
    "    \"shuffle\": False,\n",
    "    'collate_fn': collate_fn\n",
    "}\n",
    "\n",
    "prediction_columns = [f\"pred_{i}\" for i in range(config.n_classes)]\n",
    "    \n",
    "for fold_id in range(0, config.n_splits):\n",
    "    tik = time()\n",
    "    \n",
    "    wandb_init(project_name=config.model_name, run_name=f\"fold_{fold_id}\", config=config)\n",
    "    \n",
    "    train_df = df_audio_meta[df_audio_meta['fold'] != fold_id].copy().reset_index(drop=True)\n",
    "    valid_df = df_audio_meta[df_audio_meta['fold'] == fold_id].copy().reset_index(drop=True)\n",
    "    \n",
    "    train_folds = BirdSongDataset(train_df, config)\n",
    "    valid_folds = BirdSongDataset(valid_df, config)\n",
    "    \n",
    "    train_loader = DataLoader(train_folds, **loader_kwargs)\n",
    "    valid_loader = DataLoader(valid_folds, **loader_kwargs)\n",
    "        \n",
    "    model = BirdAudioMAE(config.backbone_name, config.n_classes, device=DEVICE, n_mlp_layers=1, activation='silu')\n",
    "    \n",
    "    trainer = Trainer(model, loss_fn, eval_fn, logger, config, is_higher_better=True)\n",
    "    \n",
    "    best_weights, best_preds, loss_records = trainer.train( \n",
    "        train_loader, \n",
    "        valid_loader, \n",
    "        print_epoch_freq=config.print_epoch_freq,\n",
    "        from_checkpoint=None,\n",
    "        use_tqdm=True\n",
    "        )\n",
    "    \n",
    "    loss_history.append(loss_records)\n",
    "    \n",
    "    df_valid = pd.DataFrame({'species_id': valid_df['species_id'], 'fold': fold})\n",
    "    _df = pd.DataFrame(best_preds, columns=prediction_columns)\n",
    "    df_valid = pd.concat([df_valid, _df], axis=1)\n",
    "    \n",
    "    oof = pd.concat([oof, df_valid], axis=0).reset_index(drop=True)\n",
    "    \n",
    "    save_model_name = f\"{config.model_name}_fold_{fold_id}\"\n",
    "    torch.save(best_weights, f\"{config.log_dir}/{save_model_name}.pth\")\n",
    "\n",
    "    del train_folds, valid_folds, train_loader, valid_loader\n",
    "    torch.cuda.empty_cache()\n",
    "    gc.collect()\n",
    "    \n",
    "    valid_loss_fold = eval_fn(\n",
    "        torch.tensor(oof[prediction_columns].values),\n",
    "        torch.tensor(oof['species_id'].values)\n",
    "    )\n",
    "    logger.info(f\"Fold {fold_id} | Time: {(time() - tik)/60:.2f}min | Overall Evaluation Loss: {valid_loss_fold:.4f}\")\n",
    "    \n",
    "    # Save the oof predictions\n",
    "    oof.to_csv(f\"{config.log_dir}/{config.model_name}_oof.csv\", index=False)\n",
    "    \n",
    "    wandb.finish()\n",
    "        \n",
    "# Summarize the final results\n",
    "valid_loss = eval_fn(\n",
    "    torch.tensor(oof[prediction_columns].values),\n",
    "    torch.tensor(oof['species_id'].values)\n",
    ")\n",
    "\n",
    "plot_loss_record(loss_history, valid_loss, start_at=0, save_to=os.path.join(config.log_dir, f\"{config.model_name}_loss.jpg\"))"
   ]
  },
  {
   "cell_type": "code",
   "execution_count": 19,
   "metadata": {},
   "outputs": [
    {
     "data": {
      "text/html": [
       "<div>\n",
       "<style scoped>\n",
       "    .dataframe tbody tr th:only-of-type {\n",
       "        vertical-align: middle;\n",
       "    }\n",
       "\n",
       "    .dataframe tbody tr th {\n",
       "        vertical-align: top;\n",
       "    }\n",
       "\n",
       "    .dataframe thead th {\n",
       "        text-align: right;\n",
       "    }\n",
       "</style>\n",
       "<table border=\"1\" class=\"dataframe\">\n",
       "  <thead>\n",
       "    <tr style=\"text-align: right;\">\n",
       "      <th></th>\n",
       "      <th>species_id</th>\n",
       "      <th>fold</th>\n",
       "      <th>pred_0</th>\n",
       "      <th>pred_1</th>\n",
       "      <th>pred_2</th>\n",
       "      <th>pred_3</th>\n",
       "      <th>pred_4</th>\n",
       "      <th>pred_5</th>\n",
       "      <th>pred_6</th>\n",
       "      <th>pred_7</th>\n",
       "      <th>...</th>\n",
       "      <th>pred_718</th>\n",
       "      <th>pred_719</th>\n",
       "      <th>pred_720</th>\n",
       "      <th>pred_721</th>\n",
       "      <th>pred_722</th>\n",
       "      <th>pred_723</th>\n",
       "      <th>pred_724</th>\n",
       "      <th>pred_725</th>\n",
       "      <th>pred_726</th>\n",
       "      <th>pred_727</th>\n",
       "    </tr>\n",
       "  </thead>\n",
       "  <tbody>\n",
       "    <tr>\n",
       "      <th>0</th>\n",
       "      <td>329</td>\n",
       "      <td>4</td>\n",
       "      <td>-1.206560</td>\n",
       "      <td>1.384848</td>\n",
       "      <td>-2.634542</td>\n",
       "      <td>-3.487893</td>\n",
       "      <td>-3.701632</td>\n",
       "      <td>-2.969731</td>\n",
       "      <td>-2.801717</td>\n",
       "      <td>-1.239782</td>\n",
       "      <td>...</td>\n",
       "      <td>-1.714339</td>\n",
       "      <td>-2.108958</td>\n",
       "      <td>-3.331261</td>\n",
       "      <td>-2.054324</td>\n",
       "      <td>-0.395864</td>\n",
       "      <td>-0.989750</td>\n",
       "      <td>-0.956848</td>\n",
       "      <td>-2.539559</td>\n",
       "      <td>-1.494200</td>\n",
       "      <td>-3.561635</td>\n",
       "    </tr>\n",
       "    <tr>\n",
       "      <th>1</th>\n",
       "      <td>329</td>\n",
       "      <td>4</td>\n",
       "      <td>-3.104391</td>\n",
       "      <td>1.992842</td>\n",
       "      <td>-3.478614</td>\n",
       "      <td>-5.228971</td>\n",
       "      <td>-2.921334</td>\n",
       "      <td>-1.500246</td>\n",
       "      <td>-5.123263</td>\n",
       "      <td>-1.685007</td>\n",
       "      <td>...</td>\n",
       "      <td>-1.918088</td>\n",
       "      <td>-3.052327</td>\n",
       "      <td>-3.896048</td>\n",
       "      <td>1.398749</td>\n",
       "      <td>-0.089792</td>\n",
       "      <td>-1.978370</td>\n",
       "      <td>-1.522866</td>\n",
       "      <td>-2.507293</td>\n",
       "      <td>-3.240541</td>\n",
       "      <td>-3.514860</td>\n",
       "    </tr>\n",
       "    <tr>\n",
       "      <th>2</th>\n",
       "      <td>94</td>\n",
       "      <td>4</td>\n",
       "      <td>-0.316838</td>\n",
       "      <td>-1.759019</td>\n",
       "      <td>-1.522814</td>\n",
       "      <td>-0.135115</td>\n",
       "      <td>-3.298048</td>\n",
       "      <td>-1.855434</td>\n",
       "      <td>-1.220261</td>\n",
       "      <td>-2.059662</td>\n",
       "      <td>...</td>\n",
       "      <td>-4.256361</td>\n",
       "      <td>-1.609519</td>\n",
       "      <td>-3.678644</td>\n",
       "      <td>-4.052227</td>\n",
       "      <td>-3.601637</td>\n",
       "      <td>-1.733025</td>\n",
       "      <td>-1.126034</td>\n",
       "      <td>-1.136884</td>\n",
       "      <td>-3.204915</td>\n",
       "      <td>0.574395</td>\n",
       "    </tr>\n",
       "    <tr>\n",
       "      <th>3</th>\n",
       "      <td>262</td>\n",
       "      <td>4</td>\n",
       "      <td>-2.858818</td>\n",
       "      <td>-2.237144</td>\n",
       "      <td>-1.291077</td>\n",
       "      <td>-2.903850</td>\n",
       "      <td>-4.240028</td>\n",
       "      <td>-1.507519</td>\n",
       "      <td>-2.208751</td>\n",
       "      <td>-4.723540</td>\n",
       "      <td>...</td>\n",
       "      <td>-5.563849</td>\n",
       "      <td>3.294152</td>\n",
       "      <td>-3.199532</td>\n",
       "      <td>-1.144527</td>\n",
       "      <td>-4.261771</td>\n",
       "      <td>-3.040057</td>\n",
       "      <td>-1.582602</td>\n",
       "      <td>-1.945570</td>\n",
       "      <td>-5.157303</td>\n",
       "      <td>-4.486679</td>\n",
       "    </tr>\n",
       "    <tr>\n",
       "      <th>4</th>\n",
       "      <td>262</td>\n",
       "      <td>4</td>\n",
       "      <td>-1.622524</td>\n",
       "      <td>-0.894221</td>\n",
       "      <td>-0.531596</td>\n",
       "      <td>-2.791069</td>\n",
       "      <td>-3.014908</td>\n",
       "      <td>-2.718237</td>\n",
       "      <td>-1.042463</td>\n",
       "      <td>-3.374171</td>\n",
       "      <td>...</td>\n",
       "      <td>-3.857933</td>\n",
       "      <td>0.892866</td>\n",
       "      <td>-3.310192</td>\n",
       "      <td>-1.818043</td>\n",
       "      <td>-3.327792</td>\n",
       "      <td>-3.680323</td>\n",
       "      <td>-1.183315</td>\n",
       "      <td>-2.137847</td>\n",
       "      <td>-4.231442</td>\n",
       "      <td>-1.191892</td>\n",
       "    </tr>\n",
       "  </tbody>\n",
       "</table>\n",
       "<p>5 rows × 730 columns</p>\n",
       "</div>"
      ],
      "text/plain": [
       "   species_id  fold    pred_0    pred_1    pred_2    pred_3    pred_4  \\\n",
       "0         329     4 -1.206560  1.384848 -2.634542 -3.487893 -3.701632   \n",
       "1         329     4 -3.104391  1.992842 -3.478614 -5.228971 -2.921334   \n",
       "2          94     4 -0.316838 -1.759019 -1.522814 -0.135115 -3.298048   \n",
       "3         262     4 -2.858818 -2.237144 -1.291077 -2.903850 -4.240028   \n",
       "4         262     4 -1.622524 -0.894221 -0.531596 -2.791069 -3.014908   \n",
       "\n",
       "     pred_5    pred_6    pred_7  ...  pred_718  pred_719  pred_720  pred_721  \\\n",
       "0 -2.969731 -2.801717 -1.239782  ... -1.714339 -2.108958 -3.331261 -2.054324   \n",
       "1 -1.500246 -5.123263 -1.685007  ... -1.918088 -3.052327 -3.896048  1.398749   \n",
       "2 -1.855434 -1.220261 -2.059662  ... -4.256361 -1.609519 -3.678644 -4.052227   \n",
       "3 -1.507519 -2.208751 -4.723540  ... -5.563849  3.294152 -3.199532 -1.144527   \n",
       "4 -2.718237 -1.042463 -3.374171  ... -3.857933  0.892866 -3.310192 -1.818043   \n",
       "\n",
       "   pred_722  pred_723  pred_724  pred_725  pred_726  pred_727  \n",
       "0 -0.395864 -0.989750 -0.956848 -2.539559 -1.494200 -3.561635  \n",
       "1 -0.089792 -1.978370 -1.522866 -2.507293 -3.240541 -3.514860  \n",
       "2 -3.601637 -1.733025 -1.126034 -1.136884 -3.204915  0.574395  \n",
       "3 -4.261771 -3.040057 -1.582602 -1.945570 -5.157303 -4.486679  \n",
       "4 -3.327792 -3.680323 -1.183315 -2.137847 -4.231442 -1.191892  \n",
       "\n",
       "[5 rows x 730 columns]"
      ]
     },
     "execution_count": 19,
     "metadata": {},
     "output_type": "execute_result"
    }
   ],
   "source": [
    "oof.head()"
   ]
  },
  {
   "cell_type": "code",
   "execution_count": 20,
   "metadata": {},
   "outputs": [
    {
     "data": {
      "text/html": [
       "<div>\n",
       "<style scoped>\n",
       "    .dataframe tbody tr th:only-of-type {\n",
       "        vertical-align: middle;\n",
       "    }\n",
       "\n",
       "    .dataframe tbody tr th {\n",
       "        vertical-align: top;\n",
       "    }\n",
       "\n",
       "    .dataframe thead th {\n",
       "        text-align: right;\n",
       "    }\n",
       "</style>\n",
       "<table border=\"1\" class=\"dataframe\">\n",
       "  <thead>\n",
       "    <tr style=\"text-align: right;\">\n",
       "      <th></th>\n",
       "      <th>epoch</th>\n",
       "      <th>train_loss</th>\n",
       "      <th>valid_loss</th>\n",
       "      <th>elapsed</th>\n",
       "      <th>fold_id</th>\n",
       "    </tr>\n",
       "  </thead>\n",
       "  <tbody>\n",
       "    <tr>\n",
       "      <th>0</th>\n",
       "      <td>1</td>\n",
       "      <td>0.3279</td>\n",
       "      <td>0.5271</td>\n",
       "      <td>208.04</td>\n",
       "      <td>0</td>\n",
       "    </tr>\n",
       "    <tr>\n",
       "      <th>1</th>\n",
       "      <td>2</td>\n",
       "      <td>0.1913</td>\n",
       "      <td>0.5161</td>\n",
       "      <td>194.26</td>\n",
       "      <td>0</td>\n",
       "    </tr>\n",
       "    <tr>\n",
       "      <th>2</th>\n",
       "      <td>3</td>\n",
       "      <td>0.1555</td>\n",
       "      <td>0.5228</td>\n",
       "      <td>193.34</td>\n",
       "      <td>0</td>\n",
       "    </tr>\n",
       "    <tr>\n",
       "      <th>3</th>\n",
       "      <td>4</td>\n",
       "      <td>0.1288</td>\n",
       "      <td>0.5381</td>\n",
       "      <td>192.61</td>\n",
       "      <td>0</td>\n",
       "    </tr>\n",
       "    <tr>\n",
       "      <th>4</th>\n",
       "      <td>5</td>\n",
       "      <td>0.0989</td>\n",
       "      <td>0.5543</td>\n",
       "      <td>192.94</td>\n",
       "      <td>0</td>\n",
       "    </tr>\n",
       "    <tr>\n",
       "      <th>...</th>\n",
       "      <td>...</td>\n",
       "      <td>...</td>\n",
       "      <td>...</td>\n",
       "      <td>...</td>\n",
       "      <td>...</td>\n",
       "    </tr>\n",
       "    <tr>\n",
       "      <th>145</th>\n",
       "      <td>11</td>\n",
       "      <td>0.0677</td>\n",
       "      <td>0.5653</td>\n",
       "      <td>97.77</td>\n",
       "      <td>29</td>\n",
       "    </tr>\n",
       "    <tr>\n",
       "      <th>146</th>\n",
       "      <td>12</td>\n",
       "      <td>0.0674</td>\n",
       "      <td>0.5574</td>\n",
       "      <td>115.29</td>\n",
       "      <td>29</td>\n",
       "    </tr>\n",
       "    <tr>\n",
       "      <th>147</th>\n",
       "      <td>13</td>\n",
       "      <td>0.0661</td>\n",
       "      <td>0.5549</td>\n",
       "      <td>186.95</td>\n",
       "      <td>29</td>\n",
       "    </tr>\n",
       "    <tr>\n",
       "      <th>148</th>\n",
       "      <td>14</td>\n",
       "      <td>0.0822</td>\n",
       "      <td>0.5667</td>\n",
       "      <td>181.95</td>\n",
       "      <td>29</td>\n",
       "    </tr>\n",
       "    <tr>\n",
       "      <th>149</th>\n",
       "      <td>15</td>\n",
       "      <td>0.0827</td>\n",
       "      <td>0.5731</td>\n",
       "      <td>185.96</td>\n",
       "      <td>29</td>\n",
       "    </tr>\n",
       "  </tbody>\n",
       "</table>\n",
       "<p>150 rows × 5 columns</p>\n",
       "</div>"
      ],
      "text/plain": [
       "     epoch  train_loss  valid_loss  elapsed  fold_id\n",
       "0        1      0.3279      0.5271   208.04        0\n",
       "1        2      0.1913      0.5161   194.26        0\n",
       "2        3      0.1555      0.5228   193.34        0\n",
       "3        4      0.1288      0.5381   192.61        0\n",
       "4        5      0.0989      0.5543   192.94        0\n",
       "..     ...         ...         ...      ...      ...\n",
       "145     11      0.0677      0.5653    97.77       29\n",
       "146     12      0.0674      0.5574   115.29       29\n",
       "147     13      0.0661      0.5549   186.95       29\n",
       "148     14      0.0822      0.5667   181.95       29\n",
       "149     15      0.0827      0.5731   185.96       29\n",
       "\n",
       "[150 rows x 5 columns]"
      ]
     },
     "execution_count": 20,
     "metadata": {},
     "output_type": "execute_result"
    }
   ],
   "source": [
    "# parse training log\n",
    "import re \n",
    "\n",
    "log_file = f\"{config.log_dir}/{config.model_name}_training.log\"\n",
    "\n",
    "with open(log_file, 'r') as f:\n",
    "    lines = f.readlines()\n",
    "    \n",
    "epoch_records = []\n",
    "epoch_pattern = re.compile(r\"Epoch (\\d+) - Train Loss: (\\d+\\.\\d+) - Valid Loss: (\\d+\\.\\d+) - Elapsed Time: (\\d+\\.\\d+)s\")\n",
    "\n",
    "for line in lines:\n",
    "    \n",
    "    try:\n",
    "        epoch, train_loss, valid_loss, elapsed = epoch_pattern.findall(line)[0]\n",
    "        epoch_records.append({\n",
    "            \"epoch\": int(epoch),\n",
    "            \"train_loss\": float(train_loss),\n",
    "            \"valid_loss\": float(valid_loss),\n",
    "            \"elapsed\": float(elapsed)\n",
    "        })\n",
    "        \n",
    "    except:\n",
    "        pass\n",
    "    \n",
    "df_epoch_records = pd.DataFrame(epoch_records)\n",
    "\n",
    "df_epoch_records['fold_id'] = df_epoch_records.index // 5\n",
    "\n",
    "df_epoch_records"
   ]
  },
  {
   "cell_type": "code",
   "execution_count": 21,
   "metadata": {},
   "outputs": [
    {
     "data": {
      "text/html": [
       "<div>\n",
       "<style scoped>\n",
       "    .dataframe tbody tr th:only-of-type {\n",
       "        vertical-align: middle;\n",
       "    }\n",
       "\n",
       "    .dataframe tbody tr th {\n",
       "        vertical-align: top;\n",
       "    }\n",
       "\n",
       "    .dataframe thead th {\n",
       "        text-align: right;\n",
       "    }\n",
       "</style>\n",
       "<table border=\"1\" class=\"dataframe\">\n",
       "  <thead>\n",
       "    <tr style=\"text-align: right;\">\n",
       "      <th></th>\n",
       "      <th>species_id</th>\n",
       "      <th>fold</th>\n",
       "      <th>pred_0</th>\n",
       "      <th>pred_1</th>\n",
       "      <th>pred_2</th>\n",
       "      <th>pred_3</th>\n",
       "      <th>pred_4</th>\n",
       "      <th>pred_5</th>\n",
       "      <th>pred_6</th>\n",
       "      <th>pred_7</th>\n",
       "      <th>...</th>\n",
       "      <th>pred_719</th>\n",
       "      <th>pred_720</th>\n",
       "      <th>pred_721</th>\n",
       "      <th>pred_722</th>\n",
       "      <th>pred_723</th>\n",
       "      <th>pred_724</th>\n",
       "      <th>pred_725</th>\n",
       "      <th>pred_726</th>\n",
       "      <th>pred_727</th>\n",
       "      <th>species_category</th>\n",
       "    </tr>\n",
       "  </thead>\n",
       "  <tbody>\n",
       "    <tr>\n",
       "      <th>0</th>\n",
       "      <td>329</td>\n",
       "      <td>4</td>\n",
       "      <td>-1.206560</td>\n",
       "      <td>1.384848</td>\n",
       "      <td>-2.634542</td>\n",
       "      <td>-3.487893</td>\n",
       "      <td>-3.701632</td>\n",
       "      <td>-2.969731</td>\n",
       "      <td>-2.801717</td>\n",
       "      <td>-1.239783</td>\n",
       "      <td>...</td>\n",
       "      <td>-2.108957</td>\n",
       "      <td>-3.331261</td>\n",
       "      <td>-2.054324</td>\n",
       "      <td>-0.395864</td>\n",
       "      <td>-0.989750</td>\n",
       "      <td>-0.956848</td>\n",
       "      <td>-2.539559</td>\n",
       "      <td>-1.494200</td>\n",
       "      <td>-3.561635</td>\n",
       "      <td>0-50</td>\n",
       "    </tr>\n",
       "    <tr>\n",
       "      <th>1</th>\n",
       "      <td>329</td>\n",
       "      <td>4</td>\n",
       "      <td>-3.104391</td>\n",
       "      <td>1.992842</td>\n",
       "      <td>-3.478614</td>\n",
       "      <td>-5.228970</td>\n",
       "      <td>-2.921334</td>\n",
       "      <td>-1.500246</td>\n",
       "      <td>-5.123263</td>\n",
       "      <td>-1.685007</td>\n",
       "      <td>...</td>\n",
       "      <td>-3.052327</td>\n",
       "      <td>-3.896048</td>\n",
       "      <td>1.398749</td>\n",
       "      <td>-0.089792</td>\n",
       "      <td>-1.978370</td>\n",
       "      <td>-1.522865</td>\n",
       "      <td>-2.507293</td>\n",
       "      <td>-3.240541</td>\n",
       "      <td>-3.514860</td>\n",
       "      <td>0-50</td>\n",
       "    </tr>\n",
       "    <tr>\n",
       "      <th>2</th>\n",
       "      <td>94</td>\n",
       "      <td>4</td>\n",
       "      <td>-0.316838</td>\n",
       "      <td>-1.759019</td>\n",
       "      <td>-1.522814</td>\n",
       "      <td>-0.135115</td>\n",
       "      <td>-3.298048</td>\n",
       "      <td>-1.855434</td>\n",
       "      <td>-1.220261</td>\n",
       "      <td>-2.059662</td>\n",
       "      <td>...</td>\n",
       "      <td>-1.609519</td>\n",
       "      <td>-3.678644</td>\n",
       "      <td>-4.052227</td>\n",
       "      <td>-3.601637</td>\n",
       "      <td>-1.733025</td>\n",
       "      <td>-1.126033</td>\n",
       "      <td>-1.136884</td>\n",
       "      <td>-3.204915</td>\n",
       "      <td>0.574395</td>\n",
       "      <td>0-50</td>\n",
       "    </tr>\n",
       "    <tr>\n",
       "      <th>3</th>\n",
       "      <td>262</td>\n",
       "      <td>4</td>\n",
       "      <td>-2.858818</td>\n",
       "      <td>-2.237144</td>\n",
       "      <td>-1.291077</td>\n",
       "      <td>-2.903850</td>\n",
       "      <td>-4.240028</td>\n",
       "      <td>-1.507519</td>\n",
       "      <td>-2.208751</td>\n",
       "      <td>-4.723540</td>\n",
       "      <td>...</td>\n",
       "      <td>3.294151</td>\n",
       "      <td>-3.199532</td>\n",
       "      <td>-1.144527</td>\n",
       "      <td>-4.261771</td>\n",
       "      <td>-3.040057</td>\n",
       "      <td>-1.582601</td>\n",
       "      <td>-1.945570</td>\n",
       "      <td>-5.157303</td>\n",
       "      <td>-4.486679</td>\n",
       "      <td>0-50</td>\n",
       "    </tr>\n",
       "    <tr>\n",
       "      <th>4</th>\n",
       "      <td>262</td>\n",
       "      <td>4</td>\n",
       "      <td>-1.622524</td>\n",
       "      <td>-0.894221</td>\n",
       "      <td>-0.531596</td>\n",
       "      <td>-2.791069</td>\n",
       "      <td>-3.014908</td>\n",
       "      <td>-2.718237</td>\n",
       "      <td>-1.042463</td>\n",
       "      <td>-3.374170</td>\n",
       "      <td>...</td>\n",
       "      <td>0.892866</td>\n",
       "      <td>-3.310192</td>\n",
       "      <td>-1.818043</td>\n",
       "      <td>-3.327792</td>\n",
       "      <td>-3.680323</td>\n",
       "      <td>-1.183315</td>\n",
       "      <td>-2.137847</td>\n",
       "      <td>-4.231442</td>\n",
       "      <td>-1.191892</td>\n",
       "      <td>0-50</td>\n",
       "    </tr>\n",
       "  </tbody>\n",
       "</table>\n",
       "<p>5 rows × 731 columns</p>\n",
       "</div>"
      ],
      "text/plain": [
       "   species_id  fold    pred_0    pred_1    pred_2    pred_3    pred_4  \\\n",
       "0         329     4 -1.206560  1.384848 -2.634542 -3.487893 -3.701632   \n",
       "1         329     4 -3.104391  1.992842 -3.478614 -5.228970 -2.921334   \n",
       "2          94     4 -0.316838 -1.759019 -1.522814 -0.135115 -3.298048   \n",
       "3         262     4 -2.858818 -2.237144 -1.291077 -2.903850 -4.240028   \n",
       "4         262     4 -1.622524 -0.894221 -0.531596 -2.791069 -3.014908   \n",
       "\n",
       "     pred_5    pred_6    pred_7  ...  pred_719  pred_720  pred_721  pred_722  \\\n",
       "0 -2.969731 -2.801717 -1.239783  ... -2.108957 -3.331261 -2.054324 -0.395864   \n",
       "1 -1.500246 -5.123263 -1.685007  ... -3.052327 -3.896048  1.398749 -0.089792   \n",
       "2 -1.855434 -1.220261 -2.059662  ... -1.609519 -3.678644 -4.052227 -3.601637   \n",
       "3 -1.507519 -2.208751 -4.723540  ...  3.294151 -3.199532 -1.144527 -4.261771   \n",
       "4 -2.718237 -1.042463 -3.374170  ...  0.892866 -3.310192 -1.818043 -3.327792   \n",
       "\n",
       "   pred_723  pred_724  pred_725  pred_726  pred_727  species_category  \n",
       "0 -0.989750 -0.956848 -2.539559 -1.494200 -3.561635              0-50  \n",
       "1 -1.978370 -1.522865 -2.507293 -3.240541 -3.514860              0-50  \n",
       "2 -1.733025 -1.126033 -1.136884 -3.204915  0.574395              0-50  \n",
       "3 -3.040057 -1.582601 -1.945570 -5.157303 -4.486679              0-50  \n",
       "4 -3.680323 -1.183315 -2.137847 -4.231442 -1.191892              0-50  \n",
       "\n",
       "[5 rows x 731 columns]"
      ]
     },
     "metadata": {},
     "output_type": "display_data"
    }
   ],
   "source": [
    "# analyze oof predictions\n",
    "df_oof = pd.read_csv(f\"{config.log_dir}/{config.model_name}_oof.csv\")\n",
    "df_oof['species_id'] = df_oof['species_id'].astype(int)\n",
    "\n",
    "species_category = pd.cut(\n",
    "    df_oof['species_id'].value_counts(), \n",
    "    bins=[0, 50, 120], \n",
    "    labels=['0-50', '50-120']\n",
    "    ).to_frame()\n",
    "\n",
    "species_category['count']\n",
    "\n",
    "df_oof['species_category'] = df_oof['species_id'].map({i: c for i, c in enumerate(species_category['count'])})\n",
    "\n",
    "prediction_columns = [f\"pred_{i}\" for i in range(config.n_classes)]\n",
    "\n",
    "display(df_oof.head())\n",
    "\n",
    "# eval_fn = ROC_AUC_Score(config, average='macro', multi_class='ovo')\n",
    "\n",
    "# # caculate the overall evaluation loss\n",
    "# eval_loss = eval_fn(\n",
    "#     torch.tensor(df_oof[prediction_columns].values),\n",
    "#     torch.tensor(df_oof['species_id'].values)\n",
    "# )\n",
    "\n",
    "# print(f\"Overall Evaluation Loss: {eval_loss:.4f}\")"
   ]
  },
  {
   "cell_type": "code",
   "execution_count": 22,
   "metadata": {},
   "outputs": [
    {
     "data": {
      "text/plain": [
       "728"
      ]
     },
     "execution_count": 22,
     "metadata": {},
     "output_type": "execute_result"
    }
   ],
   "source": [
    "len(df_oof['species_id'].unique())"
   ]
  },
  {
   "cell_type": "code",
   "execution_count": 23,
   "metadata": {},
   "outputs": [],
   "source": [
    "# make cm plots\n",
    "from sklearn.metrics import confusion_matrix\n",
    "import seaborn as sns\n",
    "\n",
    "def plot_confusion_matrix(y_true, y_pred, labels, save_to=None):\n",
    "    \n",
    "    cm = confusion_matrix(y_true, y_pred, labels=labels)\n",
    "    cm = cm / cm.sum(axis=1)[:, np.newaxis]\n",
    "    \n",
    "    plt.figure(figsize=(10, 10))\n",
    "    sns.heatmap(cm, annot=False, cmap=\"Blues\", xticklabels=labels, yticklabels=labels)\n",
    "    plt.xlabel(\"Predicted Label\")\n",
    "    plt.ylabel(\"True Label\")\n",
    "    # plt.xticks([])\n",
    "    # plt.yticks([])\n",
    "    plt.title(\"Normalized Confusion Matrix\")\n",
    "    \n",
    "    if save_to:\n",
    "        plt.savefig(save_to)\n",
    "    \n",
    "    plt.show()\n",
    "\n"
   ]
  },
  {
   "cell_type": "code",
   "execution_count": 24,
   "metadata": {},
   "outputs": [
    {
     "data": {
      "image/png": "[encoded data removed]",
      "text/plain": [
       "<Figure size 1000x1000 with 2 Axes>"
      ]
     },
     "metadata": {},
     "output_type": "display_data"
    }
   ],
   "source": [
    "# plot confusion matrix\n",
    "y_true = df_oof['species_id'].values\n",
    "y_pred = df_oof[prediction_columns].values.argmax(axis=1)\n",
    "\n",
    "labels = df_oof['species_id'].unique()\n",
    "labels.sort()\n",
    "\n",
    "plot_confusion_matrix(\n",
    "    y_true, y_pred, \n",
    "    labels=labels,\n",
    "    save_to=os.path.join(config.log_dir, f\"{config.model_name}_cm.jpg\")\n",
    "    )"
   ]
  },
  {
   "cell_type": "code",
   "execution_count": 25,
   "metadata": {},
   "outputs": [
    {
     "name": "stderr",
     "output_type": "stream",
     "text": [
      "/tmp/ipykernel_53496/3341622484.py:8: RuntimeWarning: invalid value encountered in divide\n",
      "  cm = cm / cm.sum(axis=1)[:, np.newaxis]\n"
     ]
    },
    {
     "data": {
      "image/png": "[encoded data removed]",
      "text/plain": [
       "<Figure size 1000x1000 with 2 Axes>"
      ]
     },
     "metadata": {},
     "output_type": "display_data"
    }
   ],
   "source": [
    "labels = df_oof['species_id'].unique()[:50]\n",
    "labels.sort()\n",
    "\n",
    "tmp = df_oof[df_oof['species_id'].isin(labels)].copy()\n",
    "# plot confusion matrix\n",
    "y_true = tmp['species_id'].values\n",
    "y_pred = tmp[prediction_columns].values.argmax(axis=1)\n",
    "\n",
    "plot_confusion_matrix(y_true, y_pred, labels=labels, save_to=None)"
   ]
  },
  {
   "cell_type": "code",
   "execution_count": 26,
   "metadata": {},
   "outputs": [
    {
     "name": "stdout",
     "output_type": "stream",
     "text": [
      "['50-120', '0-50']\n",
      "Categories (2, object): ['0-50' < '50-120']\n",
      "Category: 0-50 | N_samples: 10714 | N_classes: 691 | F1: 0.0011015831741154765 | Precision: 0.002420466739157218 | Recall: 0.0022\n",
      "Category: 50-120 | N_samples: 457 | N_classes: 37 | F1: 0.0 | Precision: 0.0 | Recall: 0.0000\n"
     ]
    }
   ],
   "source": [
    "# calc F1, Precision, Recall, mAP \n",
    "from sklearn.metrics import f1_score, precision_score, recall_score \n",
    "import warnings\n",
    "\n",
    "warnings.filterwarnings(\"ignore\")\n",
    "\n",
    "print(species_category['count'].unique())\n",
    "\n",
    "for category_id in ['0-50', '50-120']:\n",
    "    tmp = df_oof[df_oof['species_category'] == category_id].copy().reset_index(drop=True)\n",
    "\n",
    "    y_true = tmp['species_id'].values\n",
    "    y_pred = tmp[prediction_columns].values.argmax(axis=1)\n",
    "\n",
    "    f1 = f1_score(y_true, y_pred, average='macro')\n",
    "    precision = precision_score(y_true, y_pred, average='macro')\n",
    "    recall = recall_score(y_true, y_pred, average='macro')\n",
    "\n",
    "    print(f\"Category: {category_id} | N_samples: {len(tmp)} | N_classes: {tmp['species_id'].nunique()} | F1: {f1} | Precision: {precision} | Recall: {recall:.4f}\")\n",
    "\n",
    "    # labels = tmp['species_id'].unique()\n",
    "    # cm = confusion_matrix(y_true, y_pred, labels=labels, normalize='pred')\n",
    "    \n",
    "    # plt.figure(figsize=(10, 10))\n",
    "    # sns.heatmap(cm, annot=False, cmap=\"Blues\", xticklabels=labels, yticklabels=labels)\n",
    "    # plt.xlabel(\"Predicted Label\")\n",
    "    # plt.ylabel(\"True Label\")\n",
    "    # plt.title(\"Normalized Confusion Matrix | Category: \" + category_id)\n",
    "    \n",
    "    # break"
   ]
  },
  {
   "cell_type": "code",
   "execution_count": 27,
   "metadata": {},
   "outputs": [
    {
     "ename": "NameError",
     "evalue": "name 'eval_loss' is not defined",
     "output_type": "error",
     "traceback": [
      "\u001b[0;31m---------------------------------------------------------------------------\u001b[0m",
      "\u001b[0;31mNameError\u001b[0m                                 Traceback (most recent call last)",
      "Cell \u001b[0;32mIn[27], line 14\u001b[0m\n\u001b[1;32m     12\u001b[0m ax\u001b[38;5;241m.\u001b[39mset_xlabel(\u001b[38;5;124m\"\u001b[39m\u001b[38;5;124mEpoch\u001b[39m\u001b[38;5;124m\"\u001b[39m, fontsize\u001b[38;5;241m=\u001b[39m\u001b[38;5;241m14\u001b[39m, fontfamily\u001b[38;5;241m=\u001b[39m\u001b[38;5;124m'\u001b[39m\u001b[38;5;124mserif\u001b[39m\u001b[38;5;124m'\u001b[39m)\n\u001b[1;32m     13\u001b[0m ax\u001b[38;5;241m.\u001b[39mset_ylabel(\u001b[38;5;124m\"\u001b[39m\u001b[38;5;124mTraining Loss (Focal Loss)\u001b[39m\u001b[38;5;124m\"\u001b[39m, fontsize\u001b[38;5;241m=\u001b[39m\u001b[38;5;241m14\u001b[39m, fontfamily\u001b[38;5;241m=\u001b[39m\u001b[38;5;124m'\u001b[39m\u001b[38;5;124mserif\u001b[39m\u001b[38;5;124m'\u001b[39m)\n\u001b[0;32m---> 14\u001b[0m ax\u001b[38;5;241m.\u001b[39mset_title(\u001b[38;5;124mf\u001b[39m\u001b[38;5;124m\"\u001b[39m\u001b[38;5;124mTraining Progress | Overall ROCAUC: \u001b[39m\u001b[38;5;132;01m{\u001b[39;00m\u001b[43meval_loss\u001b[49m\u001b[38;5;132;01m:\u001b[39;00m\u001b[38;5;124m.3f\u001b[39m\u001b[38;5;132;01m}\u001b[39;00m\u001b[38;5;124m\"\u001b[39m, fontsize\u001b[38;5;241m=\u001b[39m\u001b[38;5;241m18\u001b[39m, fontfamily\u001b[38;5;241m=\u001b[39m\u001b[38;5;124m'\u001b[39m\u001b[38;5;124mserif\u001b[39m\u001b[38;5;124m'\u001b[39m)\n\u001b[1;32m     15\u001b[0m ax\u001b[38;5;241m.\u001b[39mlegend(loc\u001b[38;5;241m=\u001b[39m\u001b[38;5;124m'\u001b[39m\u001b[38;5;124mupper left\u001b[39m\u001b[38;5;124m'\u001b[39m)\n\u001b[1;32m     17\u001b[0m ax_right\u001b[38;5;241m.\u001b[39mset_ylabel(\u001b[38;5;124m\"\u001b[39m\u001b[38;5;124mValidation Loss (ROCAUC)\u001b[39m\u001b[38;5;124m\"\u001b[39m, fontsize\u001b[38;5;241m=\u001b[39m\u001b[38;5;241m14\u001b[39m, fontfamily\u001b[38;5;241m=\u001b[39m\u001b[38;5;124m'\u001b[39m\u001b[38;5;124mserif\u001b[39m\u001b[38;5;124m'\u001b[39m)\n",
      "\u001b[0;31mNameError\u001b[0m: name 'eval_loss' is not defined"
     ]
    },
    {
     "data": {
      "image/png": "[encoded data removed]",
      "text/plain": [
       "<Figure size 900x600 with 2 Axes>"
      ]
     },
     "metadata": {},
     "output_type": "display_data"
    }
   ],
   "source": [
    "# plot training progress\n",
    "fig, ax = plt.subplots(1, 1, figsize=(9, 6))\n",
    "\n",
    "ax_right = ax.twinx()\n",
    "\n",
    "for fold_id in range(config.n_splits):\n",
    "    df_fold = df_epoch_records[df_epoch_records['fold_id'] == fold_id]\n",
    "    ax.plot(df_fold['epoch'], df_fold['train_loss'], marker='o', label=f\"Train_Fold_{fold_id}\")\n",
    "    ax_right.plot(df_fold['epoch'], df_fold['valid_loss'], linestyle=\"--\", marker='*', label=f\"Valid_Fold_{fold_id}\")\n",
    "\n",
    "ax.set_xticks(np.arange(0, config.epochs, 1)+1)\n",
    "ax.set_xlabel(\"Epoch\", fontsize=14, fontfamily='serif')\n",
    "ax.set_ylabel(\"Training Loss (Focal Loss)\", fontsize=14, fontfamily='serif')\n",
    "ax.set_title(f\"Training Progress | Overall ROCAUC: {eval_loss:.3f}\", fontsize=18, fontfamily='serif')\n",
    "ax.legend(loc='upper left')\n",
    "\n",
    "ax_right.set_ylabel(\"Validation Loss (ROCAUC)\", fontsize=14, fontfamily='serif')\n",
    "ax_right.legend(loc='lower left')\n",
    "\n",
    "ax.set_facecolor('#f3ede2')\n",
    "fig.set_facecolor('#f3ede2')\n",
    "\n",
    "fig.tight_layout()\n",
    "plt.show()"
   ]
  },
  {
   "cell_type": "code",
   "execution_count": null,
   "metadata": {},
   "outputs": [],
   "source": []
  }
 ],
 "metadata": {
  "kernelspec": {
   "display_name": "kaggle",
   "language": "python",
   "name": "python3"
  },
  "language_info": {
   "codemirror_mode": {
    "name": "ipython",
    "version": 3
   },
   "file_extension": ".py",
   "mimetype": "text/x-python",
   "name": "python",
   "nbconvert_exporter": "python",
   "pygments_lexer": "ipython3",
   "version": "3.10.12"
  }
 },
 "nbformat": 4,
 "nbformat_minor": 2
}
